{
 "cells": [
  {
   "cell_type": "markdown",
   "metadata": {},
   "source": [
    "<center><h1>TMDB Movies</h1></center>"
   ]
  },
  {
   "cell_type": "markdown",
   "metadata": {
    "toc": true
   },
   "source": [
    "<h1>Table of Contents<span class=\"tocSkip\"></span></h1>\n",
    "<div class=\"toc\"><ul class=\"toc-item\"><li><span><a href=\"#TMDB-Movies\" data-toc-modified-id=\"TMDB-Movies-1\">TMDB Movies</a></span></li><li><span><a href=\"#Introduction\" data-toc-modified-id=\"Introduction-2\">Introduction</a></span></li><li><span><a href=\"#Data-Wrangling\" data-toc-modified-id=\"Data-Wrangling-3\">Data Wrangling</a></span><ul class=\"toc-item\"><li><span><a href=\"#Gather\" data-toc-modified-id=\"Gather-3.1\">Gather</a></span></li><li><span><a href=\"#Assess\" data-toc-modified-id=\"Assess-3.2\">Assess</a></span></li><li><span><a href=\"#Clean\" data-toc-modified-id=\"Clean-3.3\">Clean</a></span></li><li><span><a href=\"#Saving-to-local-file\" data-toc-modified-id=\"Saving-to-local-file-3.4\">Saving to local file</a></span></li></ul></li><li><span><a href=\"#Exploratory-Data-Analysis\" data-toc-modified-id=\"Exploratory-Data-Analysis-4\">Exploratory Data Analysis</a></span></li><li><span><a href=\"#Conclusion\" data-toc-modified-id=\"Conclusion-5\">Conclusion</a></span></li><li><span><a href=\"#References\" data-toc-modified-id=\"References-6\">References</a></span></li></ul></div>"
   ]
  },
  {
   "cell_type": "markdown",
   "metadata": {},
   "source": [
    "# Introduction"
   ]
  },
  {
   "cell_type": "markdown",
   "metadata": {},
   "source": [
    "This project started as an assessment for the **Udacity Data Analysis Advanced Track**.\n",
    "\n",
    "The Movie Database (TMDb) is a community built movie and TV database dating back to 2008.\n",
    "This data set contains information about 10,000 movies collected from The Movie Database (TMDb),including user ratings and revenue.\n"
   ]
  },
  {
   "cell_type": "markdown",
   "metadata": {},
   "source": [
    "# Asking Questions"
   ]
  },
  {
   "cell_type": "markdown",
   "metadata": {},
   "source": [
    "During our data wrangling and analysis we will try to answer the following questions:\n",
    "\n",
    "- How did the movie industry budget and revenue changed over the years?\n",
    "- How is the voting (rating) is distributed?\n",
    "- How does the TMDB average vote compares to the IMDB ratings?\n",
    "- What factors affect the rating of a given movie (budget, revenue, release month, release year,...)?\n",
    "- What are the most popular movies, genres, cast members and production companies?"
   ]
  },
  {
   "cell_type": "markdown",
   "metadata": {},
   "source": [
    "# Data Wrangling"
   ]
  },
  {
   "cell_type": "markdown",
   "metadata": {},
   "source": [
    "We begin by importing the libraries that we will be using for our analysis:\n",
    "- [Numpy](https://numpy.org/)\n",
    "- [Pandas](https://pandas.pydata.org/)\n",
    "- [Matplotlib](https://matplotlib.org/stable/index.html#)\n",
    "- [Seaborn](https://seaborn.pydata.org/)\n",
    "- [Requests](https://2.python-requests.org/en/master/)\n",
    "- [BeautifulSoup](https://www.crummy.com/software/BeautifulSoup/)"
   ]
  },
  {
   "cell_type": "code",
   "execution_count": 1,
   "metadata": {},
   "outputs": [],
   "source": [
    "# importing required libraries\n",
    "from bs4 import BeautifulSoup\n",
    "import requests\n",
    "import os\n",
    "import numpy as np\n",
    "import pandas as pd\n",
    "import matplotlib.pyplot as plt\n",
    "import seaborn as sns\n",
    "%matplotlib inline"
   ]
  },
  {
   "cell_type": "markdown",
   "metadata": {},
   "source": [
    "## Gather"
   ]
  },
  {
   "cell_type": "markdown",
   "metadata": {},
   "source": [
    "### TMDB Data"
   ]
  },
  {
   "cell_type": "markdown",
   "metadata": {},
   "source": [
    "We can read the TMDB data directly from the `tmdb-movies.csv` file"
   ]
  },
  {
   "cell_type": "code",
   "execution_count": 2,
   "metadata": {
    "scrolled": true
   },
   "outputs": [
    {
     "data": {
      "text/html": [
       "<div>\n",
       "<style scoped>\n",
       "    .dataframe tbody tr th:only-of-type {\n",
       "        vertical-align: middle;\n",
       "    }\n",
       "\n",
       "    .dataframe tbody tr th {\n",
       "        vertical-align: top;\n",
       "    }\n",
       "\n",
       "    .dataframe thead th {\n",
       "        text-align: right;\n",
       "    }\n",
       "</style>\n",
       "<table border=\"1\" class=\"dataframe\">\n",
       "  <thead>\n",
       "    <tr style=\"text-align: right;\">\n",
       "      <th></th>\n",
       "      <th>imdb_id</th>\n",
       "      <th>popularity</th>\n",
       "      <th>budget</th>\n",
       "      <th>revenue</th>\n",
       "      <th>original_title</th>\n",
       "      <th>cast</th>\n",
       "      <th>homepage</th>\n",
       "      <th>director</th>\n",
       "      <th>tagline</th>\n",
       "      <th>keywords</th>\n",
       "      <th>overview</th>\n",
       "      <th>runtime</th>\n",
       "      <th>genres</th>\n",
       "      <th>production_companies</th>\n",
       "      <th>release_date</th>\n",
       "      <th>vote_count</th>\n",
       "      <th>vote_average</th>\n",
       "      <th>release_year</th>\n",
       "      <th>budget_adj</th>\n",
       "      <th>revenue_adj</th>\n",
       "    </tr>\n",
       "    <tr>\n",
       "      <th>id</th>\n",
       "      <th></th>\n",
       "      <th></th>\n",
       "      <th></th>\n",
       "      <th></th>\n",
       "      <th></th>\n",
       "      <th></th>\n",
       "      <th></th>\n",
       "      <th></th>\n",
       "      <th></th>\n",
       "      <th></th>\n",
       "      <th></th>\n",
       "      <th></th>\n",
       "      <th></th>\n",
       "      <th></th>\n",
       "      <th></th>\n",
       "      <th></th>\n",
       "      <th></th>\n",
       "      <th></th>\n",
       "      <th></th>\n",
       "      <th></th>\n",
       "    </tr>\n",
       "  </thead>\n",
       "  <tbody>\n",
       "    <tr>\n",
       "      <th>299729</th>\n",
       "      <td>tt3995006</td>\n",
       "      <td>0.076280</td>\n",
       "      <td>0</td>\n",
       "      <td>0</td>\n",
       "      <td>Banksy Does New York</td>\n",
       "      <td>NaN</td>\n",
       "      <td>NaN</td>\n",
       "      <td>Chris Moukarbel</td>\n",
       "      <td>The street is at play.</td>\n",
       "      <td>new york|graffiti|chaos|art</td>\n",
       "      <td>On October 1, 2013, the elusive street artist ...</td>\n",
       "      <td>79</td>\n",
       "      <td>Documentary</td>\n",
       "      <td>Home Box Office (HBO)|Matador Content|Permanen...</td>\n",
       "      <td>11/17/14</td>\n",
       "      <td>22</td>\n",
       "      <td>6.8</td>\n",
       "      <td>2014</td>\n",
       "      <td>0.000000e+00</td>\n",
       "      <td>0.000000e+00</td>\n",
       "    </tr>\n",
       "    <tr>\n",
       "      <th>13435</th>\n",
       "      <td>tt0168786</td>\n",
       "      <td>0.364807</td>\n",
       "      <td>12500000</td>\n",
       "      <td>23367586</td>\n",
       "      <td>Antwone Fisher</td>\n",
       "      <td>Derek Luke|Malcolm David Kelley|Cory Hodges|De...</td>\n",
       "      <td>NaN</td>\n",
       "      <td>Denzel Washington</td>\n",
       "      <td>Antwone Fisher is at war... with himself.</td>\n",
       "      <td>us navy|biography</td>\n",
       "      <td>A sailor prone to violent outbursts is sent to...</td>\n",
       "      <td>120</td>\n",
       "      <td>Drama|Romance</td>\n",
       "      <td>Fox Searchlight</td>\n",
       "      <td>12/19/02</td>\n",
       "      <td>76</td>\n",
       "      <td>6.6</td>\n",
       "      <td>2002</td>\n",
       "      <td>1.515327e+07</td>\n",
       "      <td>2.832762e+07</td>\n",
       "    </tr>\n",
       "    <tr>\n",
       "      <th>253617</th>\n",
       "      <td>tt3322904</td>\n",
       "      <td>0.364794</td>\n",
       "      <td>0</td>\n",
       "      <td>0</td>\n",
       "      <td>LEGO Marvel Super Heroes: Maximum Overload</td>\n",
       "      <td>Troy Baker|Drake Bell|Fred Tatasciore|Dee Brad...</td>\n",
       "      <td>http://marvel.com/news/tv/2013/11/5/21463/watc...</td>\n",
       "      <td>Greg Richardson</td>\n",
       "      <td>NaN</td>\n",
       "      <td>marvel comic|superhero|superheroine|superhero ...</td>\n",
       "      <td>Maximum Overload features LEGO Spider-Man and ...</td>\n",
       "      <td>22</td>\n",
       "      <td>Action|Animation|Comedy</td>\n",
       "      <td>Arc Productions</td>\n",
       "      <td>11/5/13</td>\n",
       "      <td>26</td>\n",
       "      <td>7.1</td>\n",
       "      <td>2013</td>\n",
       "      <td>0.000000e+00</td>\n",
       "      <td>0.000000e+00</td>\n",
       "    </tr>\n",
       "  </tbody>\n",
       "</table>\n",
       "</div>"
      ],
      "text/plain": [
       "          imdb_id  popularity    budget   revenue  \\\n",
       "id                                                  \n",
       "299729  tt3995006    0.076280         0         0   \n",
       "13435   tt0168786    0.364807  12500000  23367586   \n",
       "253617  tt3322904    0.364794         0         0   \n",
       "\n",
       "                                    original_title  \\\n",
       "id                                                   \n",
       "299729                        Banksy Does New York   \n",
       "13435                               Antwone Fisher   \n",
       "253617  LEGO Marvel Super Heroes: Maximum Overload   \n",
       "\n",
       "                                                     cast  \\\n",
       "id                                                          \n",
       "299729                                                NaN   \n",
       "13435   Derek Luke|Malcolm David Kelley|Cory Hodges|De...   \n",
       "253617  Troy Baker|Drake Bell|Fred Tatasciore|Dee Brad...   \n",
       "\n",
       "                                                 homepage           director  \\\n",
       "id                                                                             \n",
       "299729                                                NaN    Chris Moukarbel   \n",
       "13435                                                 NaN  Denzel Washington   \n",
       "253617  http://marvel.com/news/tv/2013/11/5/21463/watc...    Greg Richardson   \n",
       "\n",
       "                                          tagline  \\\n",
       "id                                                  \n",
       "299729                     The street is at play.   \n",
       "13435   Antwone Fisher is at war... with himself.   \n",
       "253617                                        NaN   \n",
       "\n",
       "                                                 keywords  \\\n",
       "id                                                          \n",
       "299729                        new york|graffiti|chaos|art   \n",
       "13435                                   us navy|biography   \n",
       "253617  marvel comic|superhero|superheroine|superhero ...   \n",
       "\n",
       "                                                 overview  runtime  \\\n",
       "id                                                                   \n",
       "299729  On October 1, 2013, the elusive street artist ...       79   \n",
       "13435   A sailor prone to violent outbursts is sent to...      120   \n",
       "253617  Maximum Overload features LEGO Spider-Man and ...       22   \n",
       "\n",
       "                         genres  \\\n",
       "id                                \n",
       "299729              Documentary   \n",
       "13435             Drama|Romance   \n",
       "253617  Action|Animation|Comedy   \n",
       "\n",
       "                                     production_companies release_date  \\\n",
       "id                                                                       \n",
       "299729  Home Box Office (HBO)|Matador Content|Permanen...     11/17/14   \n",
       "13435                                     Fox Searchlight     12/19/02   \n",
       "253617                                    Arc Productions      11/5/13   \n",
       "\n",
       "        vote_count  vote_average  release_year    budget_adj   revenue_adj  \n",
       "id                                                                          \n",
       "299729          22           6.8          2014  0.000000e+00  0.000000e+00  \n",
       "13435           76           6.6          2002  1.515327e+07  2.832762e+07  \n",
       "253617          26           7.1          2013  0.000000e+00  0.000000e+00  "
      ]
     },
     "execution_count": 2,
     "metadata": {},
     "output_type": "execute_result"
    }
   ],
   "source": [
    "df_tmdb = pd.read_csv('tmdb-movies.csv', index_col='id')\n",
    "df_tmdb.sample(3)"
   ]
  },
  {
   "cell_type": "markdown",
   "metadata": {},
   "source": [
    "Note that the final two columns ending with “_adj” show the budget and revenue of the associated movie in terms of 2010 dollars, accounting for inflation over time.\n"
   ]
  },
  {
   "cell_type": "code",
   "execution_count": 3,
   "metadata": {},
   "outputs": [
    {
     "name": "stdout",
     "output_type": "stream",
     "text": [
      "<class 'pandas.core.frame.DataFrame'>\n",
      "Int64Index: 10866 entries, 135397 to 22293\n",
      "Data columns (total 20 columns):\n",
      " #   Column                Non-Null Count  Dtype  \n",
      "---  ------                --------------  -----  \n",
      " 0   imdb_id               10856 non-null  object \n",
      " 1   popularity            10866 non-null  float64\n",
      " 2   budget                10866 non-null  int64  \n",
      " 3   revenue               10866 non-null  int64  \n",
      " 4   original_title        10866 non-null  object \n",
      " 5   cast                  10790 non-null  object \n",
      " 6   homepage              2936 non-null   object \n",
      " 7   director              10822 non-null  object \n",
      " 8   tagline               8042 non-null   object \n",
      " 9   keywords              9373 non-null   object \n",
      " 10  overview              10862 non-null  object \n",
      " 11  runtime               10866 non-null  int64  \n",
      " 12  genres                10843 non-null  object \n",
      " 13  production_companies  9836 non-null   object \n",
      " 14  release_date          10866 non-null  object \n",
      " 15  vote_count            10866 non-null  int64  \n",
      " 16  vote_average          10866 non-null  float64\n",
      " 17  release_year          10866 non-null  int64  \n",
      " 18  budget_adj            10866 non-null  float64\n",
      " 19  revenue_adj           10866 non-null  float64\n",
      "dtypes: float64(4), int64(5), object(11)\n",
      "memory usage: 1.7+ MB\n"
     ]
    }
   ],
   "source": [
    "df_tmdb.info()"
   ]
  },
  {
   "cell_type": "markdown",
   "metadata": {},
   "source": [
    "### IMDB Data"
   ]
  },
  {
   "cell_type": "markdown",
   "metadata": {},
   "source": [
    "To compare the TMDB ratings with the IMDB ratings. we can scrape the IMDB ratings using their `imdb_id` provided from the TMDB database.\n",
    "\n",
    "I tried to scrape the data first using BeautifulSoup library, but the scraping process was taking more than 4 hours which was not efficient. Instead it was decided to better download it manualy from the following url:\n",
    "https://datasets.imdbws.com/ and then it can be read into a pandas Dataframe using the `read_csv` method with '\\t' as the separator since the downloaded files where in .tsv format.\n",
    "\n"
   ]
  },
  {
   "cell_type": "code",
   "execution_count": 4,
   "metadata": {},
   "outputs": [
    {
     "data": {
      "text/html": [
       "<div>\n",
       "<style scoped>\n",
       "    .dataframe tbody tr th:only-of-type {\n",
       "        vertical-align: middle;\n",
       "    }\n",
       "\n",
       "    .dataframe tbody tr th {\n",
       "        vertical-align: top;\n",
       "    }\n",
       "\n",
       "    .dataframe thead th {\n",
       "        text-align: right;\n",
       "    }\n",
       "</style>\n",
       "<table border=\"1\" class=\"dataframe\">\n",
       "  <thead>\n",
       "    <tr style=\"text-align: right;\">\n",
       "      <th></th>\n",
       "      <th>tconst</th>\n",
       "      <th>averageRating</th>\n",
       "      <th>numVotes</th>\n",
       "    </tr>\n",
       "  </thead>\n",
       "  <tbody>\n",
       "    <tr>\n",
       "      <th>0</th>\n",
       "      <td>tt0000001</td>\n",
       "      <td>5.7</td>\n",
       "      <td>1680</td>\n",
       "    </tr>\n",
       "    <tr>\n",
       "      <th>1</th>\n",
       "      <td>tt0000002</td>\n",
       "      <td>6.0</td>\n",
       "      <td>207</td>\n",
       "    </tr>\n",
       "    <tr>\n",
       "      <th>2</th>\n",
       "      <td>tt0000003</td>\n",
       "      <td>6.5</td>\n",
       "      <td>1418</td>\n",
       "    </tr>\n",
       "    <tr>\n",
       "      <th>3</th>\n",
       "      <td>tt0000004</td>\n",
       "      <td>6.1</td>\n",
       "      <td>122</td>\n",
       "    </tr>\n",
       "    <tr>\n",
       "      <th>4</th>\n",
       "      <td>tt0000005</td>\n",
       "      <td>6.1</td>\n",
       "      <td>2214</td>\n",
       "    </tr>\n",
       "  </tbody>\n",
       "</table>\n",
       "</div>"
      ],
      "text/plain": [
       "      tconst  averageRating  numVotes\n",
       "0  tt0000001            5.7      1680\n",
       "1  tt0000002            6.0       207\n",
       "2  tt0000003            6.5      1418\n",
       "3  tt0000004            6.1       122\n",
       "4  tt0000005            6.1      2214"
      ]
     },
     "execution_count": 4,
     "metadata": {},
     "output_type": "execute_result"
    }
   ],
   "source": [
    "df_imdb = pd.read_csv('title.ratings.tsv', sep='\\t')\n",
    "\n",
    "df_imdb.head()"
   ]
  },
  {
   "cell_type": "markdown",
   "metadata": {},
   "source": [
    "## Assess"
   ]
  },
  {
   "cell_type": "markdown",
   "metadata": {},
   "source": [
    "We first check if there's any duplicated values in the `df_tmdb` DataFrame."
   ]
  },
  {
   "cell_type": "code",
   "execution_count": 5,
   "metadata": {
    "scrolled": true
   },
   "outputs": [
    {
     "data": {
      "text/html": [
       "<div>\n",
       "<style scoped>\n",
       "    .dataframe tbody tr th:only-of-type {\n",
       "        vertical-align: middle;\n",
       "    }\n",
       "\n",
       "    .dataframe tbody tr th {\n",
       "        vertical-align: top;\n",
       "    }\n",
       "\n",
       "    .dataframe thead th {\n",
       "        text-align: right;\n",
       "    }\n",
       "</style>\n",
       "<table border=\"1\" class=\"dataframe\">\n",
       "  <thead>\n",
       "    <tr style=\"text-align: right;\">\n",
       "      <th></th>\n",
       "      <th>imdb_id</th>\n",
       "      <th>popularity</th>\n",
       "      <th>budget</th>\n",
       "      <th>revenue</th>\n",
       "      <th>original_title</th>\n",
       "      <th>cast</th>\n",
       "      <th>homepage</th>\n",
       "      <th>director</th>\n",
       "      <th>tagline</th>\n",
       "      <th>keywords</th>\n",
       "      <th>overview</th>\n",
       "      <th>runtime</th>\n",
       "      <th>genres</th>\n",
       "      <th>production_companies</th>\n",
       "      <th>release_date</th>\n",
       "      <th>vote_count</th>\n",
       "      <th>vote_average</th>\n",
       "      <th>release_year</th>\n",
       "      <th>budget_adj</th>\n",
       "      <th>revenue_adj</th>\n",
       "    </tr>\n",
       "    <tr>\n",
       "      <th>id</th>\n",
       "      <th></th>\n",
       "      <th></th>\n",
       "      <th></th>\n",
       "      <th></th>\n",
       "      <th></th>\n",
       "      <th></th>\n",
       "      <th></th>\n",
       "      <th></th>\n",
       "      <th></th>\n",
       "      <th></th>\n",
       "      <th></th>\n",
       "      <th></th>\n",
       "      <th></th>\n",
       "      <th></th>\n",
       "      <th></th>\n",
       "      <th></th>\n",
       "      <th></th>\n",
       "      <th></th>\n",
       "      <th></th>\n",
       "      <th></th>\n",
       "    </tr>\n",
       "  </thead>\n",
       "  <tbody>\n",
       "    <tr>\n",
       "      <th>42194</th>\n",
       "      <td>tt0411951</td>\n",
       "      <td>0.59643</td>\n",
       "      <td>30000000</td>\n",
       "      <td>967000</td>\n",
       "      <td>TEKKEN</td>\n",
       "      <td>Jon Foo|Kelly Overton|Cary-Hiroyuki Tagawa|Ian...</td>\n",
       "      <td>NaN</td>\n",
       "      <td>Dwight H. Little</td>\n",
       "      <td>Survival is no game</td>\n",
       "      <td>martial arts|dystopia|based on video game|mart...</td>\n",
       "      <td>In the year of 2039, after World Wars destroy ...</td>\n",
       "      <td>92</td>\n",
       "      <td>Crime|Drama|Action|Thriller|Science Fiction</td>\n",
       "      <td>Namco|Light Song Films</td>\n",
       "      <td>3/20/10</td>\n",
       "      <td>110</td>\n",
       "      <td>5.0</td>\n",
       "      <td>2010</td>\n",
       "      <td>30000000.0</td>\n",
       "      <td>967000.0</td>\n",
       "    </tr>\n",
       "  </tbody>\n",
       "</table>\n",
       "</div>"
      ],
      "text/plain": [
       "         imdb_id  popularity    budget  revenue original_title  \\\n",
       "id                                                               \n",
       "42194  tt0411951     0.59643  30000000   967000         TEKKEN   \n",
       "\n",
       "                                                    cast homepage  \\\n",
       "id                                                                  \n",
       "42194  Jon Foo|Kelly Overton|Cary-Hiroyuki Tagawa|Ian...      NaN   \n",
       "\n",
       "               director              tagline  \\\n",
       "id                                             \n",
       "42194  Dwight H. Little  Survival is no game   \n",
       "\n",
       "                                                keywords  \\\n",
       "id                                                         \n",
       "42194  martial arts|dystopia|based on video game|mart...   \n",
       "\n",
       "                                                overview  runtime  \\\n",
       "id                                                                  \n",
       "42194  In the year of 2039, after World Wars destroy ...       92   \n",
       "\n",
       "                                            genres    production_companies  \\\n",
       "id                                                                           \n",
       "42194  Crime|Drama|Action|Thriller|Science Fiction  Namco|Light Song Films   \n",
       "\n",
       "      release_date  vote_count  vote_average  release_year  budget_adj  \\\n",
       "id                                                                       \n",
       "42194      3/20/10         110           5.0          2010  30000000.0   \n",
       "\n",
       "       revenue_adj  \n",
       "id                  \n",
       "42194     967000.0  "
      ]
     },
     "execution_count": 5,
     "metadata": {},
     "output_type": "execute_result"
    }
   ],
   "source": [
    "df_tmdb[df_tmdb.duplicated()]"
   ]
  },
  {
   "cell_type": "code",
   "execution_count": 6,
   "metadata": {},
   "outputs": [
    {
     "data": {
      "text/html": [
       "<div>\n",
       "<style scoped>\n",
       "    .dataframe tbody tr th:only-of-type {\n",
       "        vertical-align: middle;\n",
       "    }\n",
       "\n",
       "    .dataframe tbody tr th {\n",
       "        vertical-align: top;\n",
       "    }\n",
       "\n",
       "    .dataframe thead th {\n",
       "        text-align: right;\n",
       "    }\n",
       "</style>\n",
       "<table border=\"1\" class=\"dataframe\">\n",
       "  <thead>\n",
       "    <tr style=\"text-align: right;\">\n",
       "      <th></th>\n",
       "      <th>imdb_id</th>\n",
       "      <th>popularity</th>\n",
       "      <th>budget</th>\n",
       "      <th>revenue</th>\n",
       "      <th>original_title</th>\n",
       "      <th>cast</th>\n",
       "      <th>homepage</th>\n",
       "      <th>director</th>\n",
       "      <th>tagline</th>\n",
       "      <th>keywords</th>\n",
       "      <th>overview</th>\n",
       "      <th>runtime</th>\n",
       "      <th>genres</th>\n",
       "      <th>production_companies</th>\n",
       "      <th>release_date</th>\n",
       "      <th>vote_count</th>\n",
       "      <th>vote_average</th>\n",
       "      <th>release_year</th>\n",
       "      <th>budget_adj</th>\n",
       "      <th>revenue_adj</th>\n",
       "    </tr>\n",
       "    <tr>\n",
       "      <th>id</th>\n",
       "      <th></th>\n",
       "      <th></th>\n",
       "      <th></th>\n",
       "      <th></th>\n",
       "      <th></th>\n",
       "      <th></th>\n",
       "      <th></th>\n",
       "      <th></th>\n",
       "      <th></th>\n",
       "      <th></th>\n",
       "      <th></th>\n",
       "      <th></th>\n",
       "      <th></th>\n",
       "      <th></th>\n",
       "      <th></th>\n",
       "      <th></th>\n",
       "      <th></th>\n",
       "      <th></th>\n",
       "      <th></th>\n",
       "      <th></th>\n",
       "    </tr>\n",
       "  </thead>\n",
       "  <tbody>\n",
       "    <tr>\n",
       "      <th>42194</th>\n",
       "      <td>tt0411951</td>\n",
       "      <td>0.59643</td>\n",
       "      <td>30000000</td>\n",
       "      <td>967000</td>\n",
       "      <td>TEKKEN</td>\n",
       "      <td>Jon Foo|Kelly Overton|Cary-Hiroyuki Tagawa|Ian...</td>\n",
       "      <td>NaN</td>\n",
       "      <td>Dwight H. Little</td>\n",
       "      <td>Survival is no game</td>\n",
       "      <td>martial arts|dystopia|based on video game|mart...</td>\n",
       "      <td>In the year of 2039, after World Wars destroy ...</td>\n",
       "      <td>92</td>\n",
       "      <td>Crime|Drama|Action|Thriller|Science Fiction</td>\n",
       "      <td>Namco|Light Song Films</td>\n",
       "      <td>3/20/10</td>\n",
       "      <td>110</td>\n",
       "      <td>5.0</td>\n",
       "      <td>2010</td>\n",
       "      <td>30000000.0</td>\n",
       "      <td>967000.0</td>\n",
       "    </tr>\n",
       "    <tr>\n",
       "      <th>42194</th>\n",
       "      <td>tt0411951</td>\n",
       "      <td>0.59643</td>\n",
       "      <td>30000000</td>\n",
       "      <td>967000</td>\n",
       "      <td>TEKKEN</td>\n",
       "      <td>Jon Foo|Kelly Overton|Cary-Hiroyuki Tagawa|Ian...</td>\n",
       "      <td>NaN</td>\n",
       "      <td>Dwight H. Little</td>\n",
       "      <td>Survival is no game</td>\n",
       "      <td>martial arts|dystopia|based on video game|mart...</td>\n",
       "      <td>In the year of 2039, after World Wars destroy ...</td>\n",
       "      <td>92</td>\n",
       "      <td>Crime|Drama|Action|Thriller|Science Fiction</td>\n",
       "      <td>Namco|Light Song Films</td>\n",
       "      <td>3/20/10</td>\n",
       "      <td>110</td>\n",
       "      <td>5.0</td>\n",
       "      <td>2010</td>\n",
       "      <td>30000000.0</td>\n",
       "      <td>967000.0</td>\n",
       "    </tr>\n",
       "  </tbody>\n",
       "</table>\n",
       "</div>"
      ],
      "text/plain": [
       "         imdb_id  popularity    budget  revenue original_title  \\\n",
       "id                                                               \n",
       "42194  tt0411951     0.59643  30000000   967000         TEKKEN   \n",
       "42194  tt0411951     0.59643  30000000   967000         TEKKEN   \n",
       "\n",
       "                                                    cast homepage  \\\n",
       "id                                                                  \n",
       "42194  Jon Foo|Kelly Overton|Cary-Hiroyuki Tagawa|Ian...      NaN   \n",
       "42194  Jon Foo|Kelly Overton|Cary-Hiroyuki Tagawa|Ian...      NaN   \n",
       "\n",
       "               director              tagline  \\\n",
       "id                                             \n",
       "42194  Dwight H. Little  Survival is no game   \n",
       "42194  Dwight H. Little  Survival is no game   \n",
       "\n",
       "                                                keywords  \\\n",
       "id                                                         \n",
       "42194  martial arts|dystopia|based on video game|mart...   \n",
       "42194  martial arts|dystopia|based on video game|mart...   \n",
       "\n",
       "                                                overview  runtime  \\\n",
       "id                                                                  \n",
       "42194  In the year of 2039, after World Wars destroy ...       92   \n",
       "42194  In the year of 2039, after World Wars destroy ...       92   \n",
       "\n",
       "                                            genres    production_companies  \\\n",
       "id                                                                           \n",
       "42194  Crime|Drama|Action|Thriller|Science Fiction  Namco|Light Song Films   \n",
       "42194  Crime|Drama|Action|Thriller|Science Fiction  Namco|Light Song Films   \n",
       "\n",
       "      release_date  vote_count  vote_average  release_year  budget_adj  \\\n",
       "id                                                                       \n",
       "42194      3/20/10         110           5.0          2010  30000000.0   \n",
       "42194      3/20/10         110           5.0          2010  30000000.0   \n",
       "\n",
       "       revenue_adj  \n",
       "id                  \n",
       "42194     967000.0  \n",
       "42194     967000.0  "
      ]
     },
     "execution_count": 6,
     "metadata": {},
     "output_type": "execute_result"
    }
   ],
   "source": [
    "df_tmdb[df_tmdb['original_title'] == 'TEKKEN']"
   ]
  },
  {
   "cell_type": "markdown",
   "metadata": {},
   "source": [
    "Only one row is duplicated which is the title 'TEKKEN' with the exact same data.So, it can be safely removed."
   ]
  },
  {
   "cell_type": "code",
   "execution_count": 7,
   "metadata": {},
   "outputs": [
    {
     "data": {
      "text/plain": [
       "imdb_id                   10\n",
       "popularity                 0\n",
       "budget                     0\n",
       "revenue                    0\n",
       "original_title             0\n",
       "cast                      76\n",
       "homepage                7930\n",
       "director                  44\n",
       "tagline                 2824\n",
       "keywords                1493\n",
       "overview                   4\n",
       "runtime                    0\n",
       "genres                    23\n",
       "production_companies    1030\n",
       "release_date               0\n",
       "vote_count                 0\n",
       "vote_average               0\n",
       "release_year               0\n",
       "budget_adj                 0\n",
       "revenue_adj                0\n",
       "dtype: int64"
      ]
     },
     "execution_count": 7,
     "metadata": {},
     "output_type": "execute_result"
    }
   ],
   "source": [
    "df_tmdb.isnull().sum()"
   ]
  },
  {
   "cell_type": "markdown",
   "metadata": {},
   "source": [
    "The columns 'imdb_id', 'cast', 'homepage', 'director', 'tagline', 'keywords', 'overview', 'genres' and 'production_companies' have Null values."
   ]
  },
  {
   "cell_type": "code",
   "execution_count": 8,
   "metadata": {},
   "outputs": [
    {
     "data": {
      "text/html": [
       "<div>\n",
       "<style scoped>\n",
       "    .dataframe tbody tr th:only-of-type {\n",
       "        vertical-align: middle;\n",
       "    }\n",
       "\n",
       "    .dataframe tbody tr th {\n",
       "        vertical-align: top;\n",
       "    }\n",
       "\n",
       "    .dataframe thead th {\n",
       "        text-align: right;\n",
       "    }\n",
       "</style>\n",
       "<table border=\"1\" class=\"dataframe\">\n",
       "  <thead>\n",
       "    <tr style=\"text-align: right;\">\n",
       "      <th></th>\n",
       "      <th>popularity</th>\n",
       "      <th>budget</th>\n",
       "      <th>revenue</th>\n",
       "      <th>runtime</th>\n",
       "      <th>vote_count</th>\n",
       "      <th>vote_average</th>\n",
       "      <th>release_year</th>\n",
       "      <th>budget_adj</th>\n",
       "      <th>revenue_adj</th>\n",
       "    </tr>\n",
       "  </thead>\n",
       "  <tbody>\n",
       "    <tr>\n",
       "      <th>count</th>\n",
       "      <td>10866.000000</td>\n",
       "      <td>1.086600e+04</td>\n",
       "      <td>1.086600e+04</td>\n",
       "      <td>10866.000000</td>\n",
       "      <td>10866.000000</td>\n",
       "      <td>10866.000000</td>\n",
       "      <td>10866.000000</td>\n",
       "      <td>1.086600e+04</td>\n",
       "      <td>1.086600e+04</td>\n",
       "    </tr>\n",
       "    <tr>\n",
       "      <th>mean</th>\n",
       "      <td>0.646441</td>\n",
       "      <td>1.462570e+07</td>\n",
       "      <td>3.982332e+07</td>\n",
       "      <td>102.070863</td>\n",
       "      <td>217.389748</td>\n",
       "      <td>5.974922</td>\n",
       "      <td>2001.322658</td>\n",
       "      <td>1.755104e+07</td>\n",
       "      <td>5.136436e+07</td>\n",
       "    </tr>\n",
       "    <tr>\n",
       "      <th>std</th>\n",
       "      <td>1.000185</td>\n",
       "      <td>3.091321e+07</td>\n",
       "      <td>1.170035e+08</td>\n",
       "      <td>31.381405</td>\n",
       "      <td>575.619058</td>\n",
       "      <td>0.935142</td>\n",
       "      <td>12.812941</td>\n",
       "      <td>3.430616e+07</td>\n",
       "      <td>1.446325e+08</td>\n",
       "    </tr>\n",
       "    <tr>\n",
       "      <th>min</th>\n",
       "      <td>0.000065</td>\n",
       "      <td>0.000000e+00</td>\n",
       "      <td>0.000000e+00</td>\n",
       "      <td>0.000000</td>\n",
       "      <td>10.000000</td>\n",
       "      <td>1.500000</td>\n",
       "      <td>1960.000000</td>\n",
       "      <td>0.000000e+00</td>\n",
       "      <td>0.000000e+00</td>\n",
       "    </tr>\n",
       "    <tr>\n",
       "      <th>25%</th>\n",
       "      <td>0.207583</td>\n",
       "      <td>0.000000e+00</td>\n",
       "      <td>0.000000e+00</td>\n",
       "      <td>90.000000</td>\n",
       "      <td>17.000000</td>\n",
       "      <td>5.400000</td>\n",
       "      <td>1995.000000</td>\n",
       "      <td>0.000000e+00</td>\n",
       "      <td>0.000000e+00</td>\n",
       "    </tr>\n",
       "    <tr>\n",
       "      <th>50%</th>\n",
       "      <td>0.383856</td>\n",
       "      <td>0.000000e+00</td>\n",
       "      <td>0.000000e+00</td>\n",
       "      <td>99.000000</td>\n",
       "      <td>38.000000</td>\n",
       "      <td>6.000000</td>\n",
       "      <td>2006.000000</td>\n",
       "      <td>0.000000e+00</td>\n",
       "      <td>0.000000e+00</td>\n",
       "    </tr>\n",
       "    <tr>\n",
       "      <th>75%</th>\n",
       "      <td>0.713817</td>\n",
       "      <td>1.500000e+07</td>\n",
       "      <td>2.400000e+07</td>\n",
       "      <td>111.000000</td>\n",
       "      <td>145.750000</td>\n",
       "      <td>6.600000</td>\n",
       "      <td>2011.000000</td>\n",
       "      <td>2.085325e+07</td>\n",
       "      <td>3.369710e+07</td>\n",
       "    </tr>\n",
       "    <tr>\n",
       "      <th>max</th>\n",
       "      <td>32.985763</td>\n",
       "      <td>4.250000e+08</td>\n",
       "      <td>2.781506e+09</td>\n",
       "      <td>900.000000</td>\n",
       "      <td>9767.000000</td>\n",
       "      <td>9.200000</td>\n",
       "      <td>2015.000000</td>\n",
       "      <td>4.250000e+08</td>\n",
       "      <td>2.827124e+09</td>\n",
       "    </tr>\n",
       "  </tbody>\n",
       "</table>\n",
       "</div>"
      ],
      "text/plain": [
       "         popularity        budget       revenue       runtime    vote_count  \\\n",
       "count  10866.000000  1.086600e+04  1.086600e+04  10866.000000  10866.000000   \n",
       "mean       0.646441  1.462570e+07  3.982332e+07    102.070863    217.389748   \n",
       "std        1.000185  3.091321e+07  1.170035e+08     31.381405    575.619058   \n",
       "min        0.000065  0.000000e+00  0.000000e+00      0.000000     10.000000   \n",
       "25%        0.207583  0.000000e+00  0.000000e+00     90.000000     17.000000   \n",
       "50%        0.383856  0.000000e+00  0.000000e+00     99.000000     38.000000   \n",
       "75%        0.713817  1.500000e+07  2.400000e+07    111.000000    145.750000   \n",
       "max       32.985763  4.250000e+08  2.781506e+09    900.000000   9767.000000   \n",
       "\n",
       "       vote_average  release_year    budget_adj   revenue_adj  \n",
       "count  10866.000000  10866.000000  1.086600e+04  1.086600e+04  \n",
       "mean       5.974922   2001.322658  1.755104e+07  5.136436e+07  \n",
       "std        0.935142     12.812941  3.430616e+07  1.446325e+08  \n",
       "min        1.500000   1960.000000  0.000000e+00  0.000000e+00  \n",
       "25%        5.400000   1995.000000  0.000000e+00  0.000000e+00  \n",
       "50%        6.000000   2006.000000  0.000000e+00  0.000000e+00  \n",
       "75%        6.600000   2011.000000  2.085325e+07  3.369710e+07  \n",
       "max        9.200000   2015.000000  4.250000e+08  2.827124e+09  "
      ]
     },
     "execution_count": 8,
     "metadata": {},
     "output_type": "execute_result"
    }
   ],
   "source": [
    "df_tmdb.describe()"
   ]
  },
  {
   "cell_type": "markdown",
   "metadata": {},
   "source": [
    "Investigating the table above, the `budget`, `revenue`, `runtime`, `budget_adj` and `revenue_adj` contain zero values."
   ]
  },
  {
   "cell_type": "code",
   "execution_count": 9,
   "metadata": {},
   "outputs": [
    {
     "data": {
      "text/plain": [
       "(7011, 20)"
      ]
     },
     "execution_count": 9,
     "metadata": {},
     "output_type": "execute_result"
    }
   ],
   "source": [
    "# check for entries where budget or revenue equals 0\n",
    "df_tmdb.query(\n",
    "    'budget == 0 or revenue == 0 or budget_adj == 0 or revenue_adj == 0 or runtime == 0').shape"
   ]
  },
  {
   "cell_type": "markdown",
   "metadata": {},
   "source": [
    "7011 rows have 0 budget or revenue or 0 runtime."
   ]
  },
  {
   "cell_type": "code",
   "execution_count": 10,
   "metadata": {},
   "outputs": [
    {
     "data": {
      "text/plain": [
       "imdb_id                  object\n",
       "popularity              float64\n",
       "budget                    int64\n",
       "revenue                   int64\n",
       "original_title           object\n",
       "cast                     object\n",
       "homepage                 object\n",
       "director                 object\n",
       "tagline                  object\n",
       "keywords                 object\n",
       "overview                 object\n",
       "runtime                   int64\n",
       "genres                   object\n",
       "production_companies     object\n",
       "release_date             object\n",
       "vote_count                int64\n",
       "vote_average            float64\n",
       "release_year              int64\n",
       "budget_adj              float64\n",
       "revenue_adj             float64\n",
       "dtype: object"
      ]
     },
     "execution_count": 10,
     "metadata": {},
     "output_type": "execute_result"
    }
   ],
   "source": [
    "df_tmdb.dtypes"
   ]
  },
  {
   "cell_type": "code",
   "execution_count": 11,
   "metadata": {},
   "outputs": [
    {
     "name": "stdout",
     "output_type": "stream",
     "text": [
      "<class 'pandas.core.frame.DataFrame'>\n",
      "RangeIndex: 1123371 entries, 0 to 1123370\n",
      "Data columns (total 3 columns):\n",
      " #   Column         Non-Null Count    Dtype  \n",
      "---  ------         --------------    -----  \n",
      " 0   tconst         1123371 non-null  object \n",
      " 1   averageRating  1123371 non-null  float64\n",
      " 2   numVotes       1123371 non-null  int64  \n",
      "dtypes: float64(1), int64(1), object(1)\n",
      "memory usage: 25.7+ MB\n"
     ]
    }
   ],
   "source": [
    "df_imdb.info()"
   ]
  },
  {
   "cell_type": "markdown",
   "metadata": {},
   "source": [
    "The `df_imdb` dataframe contains the right vriable types. but will need to be merged with the TMDB data for analysis."
   ]
  },
  {
   "cell_type": "markdown",
   "metadata": {},
   "source": [
    "### Quality Issues\n",
    "\n",
    "1. missing data in the following columns: `imdb_id`, `cast`, `homepage`, `director`, `tagline`, `keywords`, `overview`,  `genres` and `production_companies`\n",
    "2. Zero values found in columns: `budget`, `revenue`, `budget_adj`, `revenue_adj` and `runtime`.\n",
    "3. The columns `cast`, `keywords` `genres` and `production_companies` contains strings separated by '|' instead of a list of items.\n",
    "4. `release_date` column is of type string instead of datetime. \n",
    "\n",
    "### Tidiness Issues\n",
    "1. The columns `cast`, `keywords` `genres` and `production_companies` values exist as one entry. Needs adjustments to be able to analyze each cast member, keyword, genre or production company separately.\n",
    "2. The IMDB DataFrame should be merged with the original TMDB DataFrame so that every row represent an observation."
   ]
  },
  {
   "cell_type": "markdown",
   "metadata": {},
   "source": [
    "## Clean"
   ]
  },
  {
   "cell_type": "markdown",
   "metadata": {},
   "source": [
    "#### Define\n",
    "\n",
    "- Remove Duplicates using pandas drop_duplicates function.\n",
    "\n",
    "#### Code"
   ]
  },
  {
   "cell_type": "code",
   "execution_count": 12,
   "metadata": {},
   "outputs": [],
   "source": [
    "df_clean = df_tmdb.drop_duplicates()"
   ]
  },
  {
   "cell_type": "markdown",
   "metadata": {},
   "source": [
    "#### Test"
   ]
  },
  {
   "cell_type": "code",
   "execution_count": 13,
   "metadata": {},
   "outputs": [
    {
     "data": {
      "text/plain": [
       "False"
      ]
     },
     "execution_count": 13,
     "metadata": {},
     "output_type": "execute_result"
    }
   ],
   "source": [
    "df_clean.duplicated().any()"
   ]
  },
  {
   "cell_type": "markdown",
   "metadata": {},
   "source": [
    "#### Define\n",
    "\n",
    "Drop the columns that are not relevant to our analysis which are: `homepage`,`director`, `tagline`, `overview`.\n",
    "\n",
    "#### Code"
   ]
  },
  {
   "cell_type": "code",
   "execution_count": 14,
   "metadata": {},
   "outputs": [],
   "source": [
    "df_clean = df_tmdb.drop(\n",
    "    ['homepage', 'director', 'tagline', 'overview'], axis=1)"
   ]
  },
  {
   "cell_type": "markdown",
   "metadata": {},
   "source": [
    "#### Test"
   ]
  },
  {
   "cell_type": "code",
   "execution_count": 15,
   "metadata": {
    "scrolled": true
   },
   "outputs": [
    {
     "data": {
      "text/plain": [
       "Index(['imdb_id', 'popularity', 'budget', 'revenue', 'original_title', 'cast',\n",
       "       'keywords', 'runtime', 'genres', 'production_companies', 'release_date',\n",
       "       'vote_count', 'vote_average', 'release_year', 'budget_adj',\n",
       "       'revenue_adj'],\n",
       "      dtype='object')"
      ]
     },
     "execution_count": 15,
     "metadata": {},
     "output_type": "execute_result"
    }
   ],
   "source": [
    "df_clean.columns"
   ]
  },
  {
   "cell_type": "markdown",
   "metadata": {},
   "source": [
    "#### Define\n",
    "\n",
    "Splitting the  `cast`, `keywords`, `genres` and `production_companies` columns using the str.split function with '|' as the separator.\n",
    "\n",
    "Then we collect the unique values in all the columns by defining a custom function `to_1D` that converts the multi-dimensional arrays into one dimension and then getting the value counts of each column.\n",
    "\n",
    "#### Code"
   ]
  },
  {
   "cell_type": "code",
   "execution_count": 16,
   "metadata": {
    "scrolled": true
   },
   "outputs": [],
   "source": [
    "# the columns to split\n",
    "cols = ['cast', 'keywords', 'genres', 'production_companies']\n",
    "# a dictionary to store unique values of each column\n",
    "unique = {}\n",
    "\n",
    "\n",
    "def to_1D(series):\n",
    "    \"\"\"\n",
    "    converts a 2D series to a 1D series\n",
    "    \"\"\"\n",
    "    return pd.Series([x for _list in series for x in _list], dtype='object')\n",
    "\n",
    "\n",
    "for col in cols:\n",
    "    df_clean[col] = df_clean[col].str.split('|')\n",
    "    unique[col] = to_1D(df_clean[col].dropna()).value_counts().index"
   ]
  },
  {
   "cell_type": "markdown",
   "metadata": {},
   "source": [
    "#### Test"
   ]
  },
  {
   "cell_type": "code",
   "execution_count": 17,
   "metadata": {},
   "outputs": [
    {
     "data": {
      "text/html": [
       "<div>\n",
       "<style scoped>\n",
       "    .dataframe tbody tr th:only-of-type {\n",
       "        vertical-align: middle;\n",
       "    }\n",
       "\n",
       "    .dataframe tbody tr th {\n",
       "        vertical-align: top;\n",
       "    }\n",
       "\n",
       "    .dataframe thead th {\n",
       "        text-align: right;\n",
       "    }\n",
       "</style>\n",
       "<table border=\"1\" class=\"dataframe\">\n",
       "  <thead>\n",
       "    <tr style=\"text-align: right;\">\n",
       "      <th></th>\n",
       "      <th>imdb_id</th>\n",
       "      <th>popularity</th>\n",
       "      <th>budget</th>\n",
       "      <th>revenue</th>\n",
       "      <th>original_title</th>\n",
       "      <th>cast</th>\n",
       "      <th>keywords</th>\n",
       "      <th>runtime</th>\n",
       "      <th>genres</th>\n",
       "      <th>production_companies</th>\n",
       "      <th>release_date</th>\n",
       "      <th>vote_count</th>\n",
       "      <th>vote_average</th>\n",
       "      <th>release_year</th>\n",
       "      <th>budget_adj</th>\n",
       "      <th>revenue_adj</th>\n",
       "    </tr>\n",
       "    <tr>\n",
       "      <th>id</th>\n",
       "      <th></th>\n",
       "      <th></th>\n",
       "      <th></th>\n",
       "      <th></th>\n",
       "      <th></th>\n",
       "      <th></th>\n",
       "      <th></th>\n",
       "      <th></th>\n",
       "      <th></th>\n",
       "      <th></th>\n",
       "      <th></th>\n",
       "      <th></th>\n",
       "      <th></th>\n",
       "      <th></th>\n",
       "      <th></th>\n",
       "      <th></th>\n",
       "    </tr>\n",
       "  </thead>\n",
       "  <tbody>\n",
       "    <tr>\n",
       "      <th>4296</th>\n",
       "      <td>tt0097883</td>\n",
       "      <td>0.252664</td>\n",
       "      <td>0</td>\n",
       "      <td>0</td>\n",
       "      <td>Millennium</td>\n",
       "      <td>[Kris Kristofferson, Cheryl Ladd, Daniel J. Tr...</td>\n",
       "      <td>[airport, time warp, future, airplane, time tr...</td>\n",
       "      <td>108</td>\n",
       "      <td>[Mystery, Drama, Science Fiction, Thriller]</td>\n",
       "      <td>[Gladden Entertainment, First Millenium Partne...</td>\n",
       "      <td>8/25/89</td>\n",
       "      <td>22</td>\n",
       "      <td>5.0</td>\n",
       "      <td>1989</td>\n",
       "      <td>0.000000e+00</td>\n",
       "      <td>0.000000e+00</td>\n",
       "    </tr>\n",
       "    <tr>\n",
       "      <th>15706</th>\n",
       "      <td>tt1051981</td>\n",
       "      <td>0.264137</td>\n",
       "      <td>0</td>\n",
       "      <td>0</td>\n",
       "      <td>Another Gay Sequel: Gays Gone Wild!</td>\n",
       "      <td>[Jonah Blechman, Jake Mosser, Aaron Michael Da...</td>\n",
       "      <td>NaN</td>\n",
       "      <td>90</td>\n",
       "      <td>[Comedy]</td>\n",
       "      <td>[TLA Releasing, Luna Filmproduktion]</td>\n",
       "      <td>11/6/08</td>\n",
       "      <td>15</td>\n",
       "      <td>6.1</td>\n",
       "      <td>2008</td>\n",
       "      <td>0.000000e+00</td>\n",
       "      <td>0.000000e+00</td>\n",
       "    </tr>\n",
       "    <tr>\n",
       "      <th>10900</th>\n",
       "      <td>tt0409345</td>\n",
       "      <td>0.436441</td>\n",
       "      <td>3500000</td>\n",
       "      <td>1115493</td>\n",
       "      <td>Surveillance</td>\n",
       "      <td>[Julia Ormond, Bill Pullman, Pell James, Carol...</td>\n",
       "      <td>[police brutality, mass murder, camera, hearin...</td>\n",
       "      <td>97</td>\n",
       "      <td>[Thriller]</td>\n",
       "      <td>[Blue Rider Pictures, Lago Films, See Film]</td>\n",
       "      <td>2/8/08</td>\n",
       "      <td>35</td>\n",
       "      <td>6.0</td>\n",
       "      <td>2008</td>\n",
       "      <td>3.544753e+06</td>\n",
       "      <td>1.129756e+06</td>\n",
       "    </tr>\n",
       "  </tbody>\n",
       "</table>\n",
       "</div>"
      ],
      "text/plain": [
       "         imdb_id  popularity   budget  revenue  \\\n",
       "id                                               \n",
       "4296   tt0097883    0.252664        0        0   \n",
       "15706  tt1051981    0.264137        0        0   \n",
       "10900  tt0409345    0.436441  3500000  1115493   \n",
       "\n",
       "                            original_title  \\\n",
       "id                                           \n",
       "4296                            Millennium   \n",
       "15706  Another Gay Sequel: Gays Gone Wild!   \n",
       "10900                         Surveillance   \n",
       "\n",
       "                                                    cast  \\\n",
       "id                                                         \n",
       "4296   [Kris Kristofferson, Cheryl Ladd, Daniel J. Tr...   \n",
       "15706  [Jonah Blechman, Jake Mosser, Aaron Michael Da...   \n",
       "10900  [Julia Ormond, Bill Pullman, Pell James, Carol...   \n",
       "\n",
       "                                                keywords  runtime  \\\n",
       "id                                                                  \n",
       "4296   [airport, time warp, future, airplane, time tr...      108   \n",
       "15706                                                NaN       90   \n",
       "10900  [police brutality, mass murder, camera, hearin...       97   \n",
       "\n",
       "                                            genres  \\\n",
       "id                                                   \n",
       "4296   [Mystery, Drama, Science Fiction, Thriller]   \n",
       "15706                                     [Comedy]   \n",
       "10900                                   [Thriller]   \n",
       "\n",
       "                                    production_companies release_date  \\\n",
       "id                                                                      \n",
       "4296   [Gladden Entertainment, First Millenium Partne...      8/25/89   \n",
       "15706               [TLA Releasing, Luna Filmproduktion]      11/6/08   \n",
       "10900        [Blue Rider Pictures, Lago Films, See Film]       2/8/08   \n",
       "\n",
       "       vote_count  vote_average  release_year    budget_adj   revenue_adj  \n",
       "id                                                                         \n",
       "4296           22           5.0          1989  0.000000e+00  0.000000e+00  \n",
       "15706          15           6.1          2008  0.000000e+00  0.000000e+00  \n",
       "10900          35           6.0          2008  3.544753e+06  1.129756e+06  "
      ]
     },
     "execution_count": 17,
     "metadata": {},
     "output_type": "execute_result"
    }
   ],
   "source": [
    "df_clean.sample(3)"
   ]
  },
  {
   "cell_type": "code",
   "execution_count": 18,
   "metadata": {},
   "outputs": [
    {
     "data": {
      "text/plain": [
       "{'cast': Index(['Robert De Niro', 'Samuel L. Jackson', 'Bruce Willis', 'Nicolas Cage',\n",
       "        'Michael Caine', 'Robin Williams', 'John Cusack', 'Morgan Freeman',\n",
       "        'John Goodman', 'Liam Neeson',\n",
       "        ...\n",
       "        'Raymond Santana', 'Alex Scott', 'Joe Jackson', 'John Kerr',\n",
       "        'Bonita DeCarlo', 'Regina Advento', 'Brandon Ratcliff', 'Sibel Kekilli',\n",
       "        'Johan Urb', 'Dawn Dunlap'],\n",
       "       dtype='object', length=19026),\n",
       " 'keywords': Index(['woman director', 'independent film', 'based on novel', 'sex', 'sport',\n",
       "        'murder', 'musical', 'biography', 'new york', 'suspense',\n",
       "        ...\n",
       "        'lubricant', 'tutor', 'needle', 'gorgon', 'trolley', 'female ninja',\n",
       "        'old man', 'salmon', 'skateboard', 'threat'],\n",
       "       dtype='object', length=7878),\n",
       " 'genres': Index(['Drama', 'Comedy', 'Thriller', 'Action', 'Romance', 'Horror',\n",
       "        'Adventure', 'Crime', 'Family', 'Science Fiction', 'Fantasy', 'Mystery',\n",
       "        'Animation', 'Documentary', 'Music', 'History', 'War', 'Foreign',\n",
       "        'TV Movie', 'Western'],\n",
       "       dtype='object'),\n",
       " 'production_companies': Index(['Universal Pictures', 'Warner Bros.', 'Paramount Pictures',\n",
       "        'Twentieth Century Fox Film Corporation', 'Columbia Pictures',\n",
       "        'New Line Cinema', 'Metro-Goldwyn-Mayer (MGM)', 'Walt Disney Pictures',\n",
       "        'Touchstone Pictures', 'Columbia Pictures Corporation',\n",
       "        ...\n",
       "        'Resonance Film & Video', 'WhiteFlame Productions',\n",
       "        'South Beach Productions', 'Alejandro MartÃ­nez',\n",
       "        'Departed Productions', 'La ZanfoÃ±a Producciones',\n",
       "        'Film Production Consultants', 'Jean Silvera Films',\n",
       "        'Gaeta / Rosenzweig Films', 'FSC Productions'],\n",
       "       dtype='object', length=7879)}"
      ]
     },
     "execution_count": 18,
     "metadata": {},
     "output_type": "execute_result"
    }
   ],
   "source": [
    "unique"
   ]
  },
  {
   "cell_type": "markdown",
   "metadata": {},
   "source": [
    "#### Define\n",
    "\n",
    "- fix the runtime zero values by replacing them with the mean value.\n",
    "\n",
    "#### Code"
   ]
  },
  {
   "cell_type": "code",
   "execution_count": 19,
   "metadata": {
    "scrolled": true
   },
   "outputs": [
    {
     "data": {
      "text/plain": [
       "0      31\n",
       "2       5\n",
       "3      11\n",
       "4      17\n",
       "5      17\n",
       "       ..\n",
       "561     1\n",
       "566     1\n",
       "705     1\n",
       "877     1\n",
       "900     1\n",
       "Name: runtime, Length: 247, dtype: int64"
      ]
     },
     "execution_count": 19,
     "metadata": {},
     "output_type": "execute_result"
    }
   ],
   "source": [
    "df_clean['runtime'].value_counts().sort_index()"
   ]
  },
  {
   "cell_type": "code",
   "execution_count": 20,
   "metadata": {},
   "outputs": [],
   "source": [
    "df_clean['runtime'].replace(0, df_clean['runtime'].mean(), inplace=True)"
   ]
  },
  {
   "cell_type": "markdown",
   "metadata": {},
   "source": [
    "#### Test"
   ]
  },
  {
   "cell_type": "code",
   "execution_count": 21,
   "metadata": {},
   "outputs": [
    {
     "data": {
      "text/html": [
       "<div>\n",
       "<style scoped>\n",
       "    .dataframe tbody tr th:only-of-type {\n",
       "        vertical-align: middle;\n",
       "    }\n",
       "\n",
       "    .dataframe tbody tr th {\n",
       "        vertical-align: top;\n",
       "    }\n",
       "\n",
       "    .dataframe thead th {\n",
       "        text-align: right;\n",
       "    }\n",
       "</style>\n",
       "<table border=\"1\" class=\"dataframe\">\n",
       "  <thead>\n",
       "    <tr style=\"text-align: right;\">\n",
       "      <th></th>\n",
       "      <th>imdb_id</th>\n",
       "      <th>popularity</th>\n",
       "      <th>budget</th>\n",
       "      <th>revenue</th>\n",
       "      <th>original_title</th>\n",
       "      <th>cast</th>\n",
       "      <th>keywords</th>\n",
       "      <th>runtime</th>\n",
       "      <th>genres</th>\n",
       "      <th>production_companies</th>\n",
       "      <th>release_date</th>\n",
       "      <th>vote_count</th>\n",
       "      <th>vote_average</th>\n",
       "      <th>release_year</th>\n",
       "      <th>budget_adj</th>\n",
       "      <th>revenue_adj</th>\n",
       "    </tr>\n",
       "    <tr>\n",
       "      <th>id</th>\n",
       "      <th></th>\n",
       "      <th></th>\n",
       "      <th></th>\n",
       "      <th></th>\n",
       "      <th></th>\n",
       "      <th></th>\n",
       "      <th></th>\n",
       "      <th></th>\n",
       "      <th></th>\n",
       "      <th></th>\n",
       "      <th></th>\n",
       "      <th></th>\n",
       "      <th></th>\n",
       "      <th></th>\n",
       "      <th></th>\n",
       "      <th></th>\n",
       "    </tr>\n",
       "  </thead>\n",
       "  <tbody>\n",
       "  </tbody>\n",
       "</table>\n",
       "</div>"
      ],
      "text/plain": [
       "Empty DataFrame\n",
       "Columns: [imdb_id, popularity, budget, revenue, original_title, cast, keywords, runtime, genres, production_companies, release_date, vote_count, vote_average, release_year, budget_adj, revenue_adj]\n",
       "Index: []"
      ]
     },
     "execution_count": 21,
     "metadata": {},
     "output_type": "execute_result"
    }
   ],
   "source": [
    "df_clean[df_clean['runtime'] == 0]"
   ]
  },
  {
   "cell_type": "markdown",
   "metadata": {},
   "source": [
    "#### Define\n",
    "\n",
    "- we can use the same technique for the budget and revenue columns\n",
    "\n",
    "#### Code"
   ]
  },
  {
   "cell_type": "code",
   "execution_count": 22,
   "metadata": {},
   "outputs": [],
   "source": [
    "for col in ['budget', 'revenue', 'budget_adj', 'revenue_adj']:\n",
    "    df_clean[col].replace(0, df_clean[col].mean(), inplace=True)"
   ]
  },
  {
   "cell_type": "markdown",
   "metadata": {},
   "source": [
    "#### Test"
   ]
  },
  {
   "cell_type": "code",
   "execution_count": 23,
   "metadata": {},
   "outputs": [
    {
     "name": "stdout",
     "output_type": "stream",
     "text": [
      "0\n",
      "0\n",
      "0\n",
      "0\n"
     ]
    }
   ],
   "source": [
    "for col in ['budget', 'revenue', 'budget_adj', 'revenue_adj']:\n",
    "    print(df_clean[df_clean[col] == 0][col].count())"
   ]
  },
  {
   "cell_type": "markdown",
   "metadata": {},
   "source": [
    "#### Define\n",
    "\n",
    "- Extract the release month from the release date by splitting into columns using the str.split function with '/' as the separator and get only the month as the date format is MM/DD/YY.\n",
    "\n",
    "#### Code"
   ]
  },
  {
   "cell_type": "code",
   "execution_count": 24,
   "metadata": {},
   "outputs": [],
   "source": [
    "df_clean['release_month'] = df_clean['release_date'].str.split(\n",
    "    '/', expand=True)[0]\n"
   ]
  },
  {
   "cell_type": "code",
   "execution_count": 25,
   "metadata": {},
   "outputs": [],
   "source": [
    "# convert the release month column to Integer type\n",
    "df_clean['release_month'] = df_clean['release_month'].astype(int)"
   ]
  },
  {
   "cell_type": "markdown",
   "metadata": {},
   "source": [
    "#### Test"
   ]
  },
  {
   "cell_type": "code",
   "execution_count": 26,
   "metadata": {},
   "outputs": [
    {
     "data": {
      "text/plain": [
       "9     1331\n",
       "10    1153\n",
       "12     985\n",
       "1      919\n",
       "8      918\n",
       "6      827\n",
       "3      823\n",
       "11     814\n",
       "5      809\n",
       "7      799\n",
       "4      797\n",
       "2      691\n",
       "Name: release_month, dtype: int64"
      ]
     },
     "execution_count": 26,
     "metadata": {},
     "output_type": "execute_result"
    }
   ],
   "source": [
    "df_clean['release_month'].value_counts()"
   ]
  },
  {
   "cell_type": "markdown",
   "metadata": {},
   "source": [
    "#### Define\n",
    "\n",
    "- In order to merge the IMDB Data into the TMDB one, we need to first clean the imdb dataframe and name the columns accordingly.\n",
    "\n",
    "\n",
    "#### Code"
   ]
  },
  {
   "cell_type": "code",
   "execution_count": 27,
   "metadata": {},
   "outputs": [],
   "source": [
    "df_imdb.columns = ['imdb_id', 'imdb_rating', 'imdb_votes']"
   ]
  },
  {
   "cell_type": "markdown",
   "metadata": {},
   "source": [
    "#### Test"
   ]
  },
  {
   "cell_type": "code",
   "execution_count": 28,
   "metadata": {},
   "outputs": [
    {
     "data": {
      "text/plain": [
       "Index(['imdb_id', 'imdb_rating', 'imdb_votes'], dtype='object')"
      ]
     },
     "execution_count": 28,
     "metadata": {},
     "output_type": "execute_result"
    }
   ],
   "source": [
    "df_imdb.columns"
   ]
  },
  {
   "cell_type": "markdown",
   "metadata": {},
   "source": [
    "#### Define\n",
    "\n",
    "we now need to merge the two dataframes using the merge method.\n",
    "\n",
    "#### Code"
   ]
  },
  {
   "cell_type": "code",
   "execution_count": 29,
   "metadata": {},
   "outputs": [],
   "source": [
    "df_clean = df_clean.merge(df_imdb, on='imdb_id')"
   ]
  },
  {
   "cell_type": "markdown",
   "metadata": {},
   "source": [
    "#### Test"
   ]
  },
  {
   "cell_type": "code",
   "execution_count": 30,
   "metadata": {},
   "outputs": [
    {
     "name": "stdout",
     "output_type": "stream",
     "text": [
      "<class 'pandas.core.frame.DataFrame'>\n",
      "Int64Index: 10852 entries, 0 to 10851\n",
      "Data columns (total 19 columns):\n",
      " #   Column                Non-Null Count  Dtype  \n",
      "---  ------                --------------  -----  \n",
      " 0   imdb_id               10852 non-null  object \n",
      " 1   popularity            10852 non-null  float64\n",
      " 2   budget                10852 non-null  float64\n",
      " 3   revenue               10852 non-null  float64\n",
      " 4   original_title        10852 non-null  object \n",
      " 5   cast                  10776 non-null  object \n",
      " 6   keywords              9366 non-null   object \n",
      " 7   runtime               10852 non-null  float64\n",
      " 8   genres                10831 non-null  object \n",
      " 9   production_companies  9827 non-null   object \n",
      " 10  release_date          10852 non-null  object \n",
      " 11  vote_count            10852 non-null  int64  \n",
      " 12  vote_average          10852 non-null  float64\n",
      " 13  release_year          10852 non-null  int64  \n",
      " 14  budget_adj            10852 non-null  float64\n",
      " 15  revenue_adj           10852 non-null  float64\n",
      " 16  release_month         10852 non-null  int64  \n",
      " 17  imdb_rating           10852 non-null  float64\n",
      " 18  imdb_votes            10852 non-null  int64  \n",
      "dtypes: float64(8), int64(4), object(7)\n",
      "memory usage: 1.7+ MB\n"
     ]
    }
   ],
   "source": [
    "df_clean.info()"
   ]
  },
  {
   "cell_type": "markdown",
   "metadata": {},
   "source": [
    "## Saving to local file"
   ]
  },
  {
   "cell_type": "markdown",
   "metadata": {},
   "source": [
    "Now that we have successfully cleaned our data, we need to save to and external file to use it later in our analysis."
   ]
  },
  {
   "cell_type": "code",
   "execution_count": 31,
   "metadata": {},
   "outputs": [],
   "source": [
    "df_clean.to_csv('tmdb-clean.csv', index=False)"
   ]
  },
  {
   "cell_type": "markdown",
   "metadata": {},
   "source": [
    "# Exploratory Data Analysis"
   ]
  },
  {
   "cell_type": "code",
   "execution_count": 32,
   "metadata": {},
   "outputs": [],
   "source": [
    "df = pd.read_csv('tmdb-clean.csv', index_col='imdb_id')"
   ]
  },
  {
   "cell_type": "code",
   "execution_count": 33,
   "metadata": {},
   "outputs": [
    {
     "data": {
      "text/html": [
       "<div>\n",
       "<style scoped>\n",
       "    .dataframe tbody tr th:only-of-type {\n",
       "        vertical-align: middle;\n",
       "    }\n",
       "\n",
       "    .dataframe tbody tr th {\n",
       "        vertical-align: top;\n",
       "    }\n",
       "\n",
       "    .dataframe thead th {\n",
       "        text-align: right;\n",
       "    }\n",
       "</style>\n",
       "<table border=\"1\" class=\"dataframe\">\n",
       "  <thead>\n",
       "    <tr style=\"text-align: right;\">\n",
       "      <th></th>\n",
       "      <th>popularity</th>\n",
       "      <th>budget</th>\n",
       "      <th>revenue</th>\n",
       "      <th>original_title</th>\n",
       "      <th>cast</th>\n",
       "      <th>keywords</th>\n",
       "      <th>runtime</th>\n",
       "      <th>genres</th>\n",
       "      <th>production_companies</th>\n",
       "      <th>release_date</th>\n",
       "      <th>vote_count</th>\n",
       "      <th>vote_average</th>\n",
       "      <th>release_year</th>\n",
       "      <th>budget_adj</th>\n",
       "      <th>revenue_adj</th>\n",
       "      <th>release_month</th>\n",
       "      <th>imdb_rating</th>\n",
       "      <th>imdb_votes</th>\n",
       "    </tr>\n",
       "    <tr>\n",
       "      <th>imdb_id</th>\n",
       "      <th></th>\n",
       "      <th></th>\n",
       "      <th></th>\n",
       "      <th></th>\n",
       "      <th></th>\n",
       "      <th></th>\n",
       "      <th></th>\n",
       "      <th></th>\n",
       "      <th></th>\n",
       "      <th></th>\n",
       "      <th></th>\n",
       "      <th></th>\n",
       "      <th></th>\n",
       "      <th></th>\n",
       "      <th></th>\n",
       "      <th></th>\n",
       "      <th></th>\n",
       "      <th></th>\n",
       "    </tr>\n",
       "  </thead>\n",
       "  <tbody>\n",
       "    <tr>\n",
       "      <th>tt0369610</th>\n",
       "      <td>32.985763</td>\n",
       "      <td>150000000.0</td>\n",
       "      <td>1.513529e+09</td>\n",
       "      <td>Jurassic World</td>\n",
       "      <td>['Chris Pratt', 'Bryce Dallas Howard', 'Irrfan...</td>\n",
       "      <td>['monster', 'dna', 'tyrannosaurus rex', 'veloc...</td>\n",
       "      <td>124.0</td>\n",
       "      <td>['Action', 'Adventure', 'Science Fiction', 'Th...</td>\n",
       "      <td>['Universal Studios', 'Amblin Entertainment', ...</td>\n",
       "      <td>6/9/15</td>\n",
       "      <td>5562</td>\n",
       "      <td>6.5</td>\n",
       "      <td>2015</td>\n",
       "      <td>1.379999e+08</td>\n",
       "      <td>1.392446e+09</td>\n",
       "      <td>6</td>\n",
       "      <td>7.0</td>\n",
       "      <td>580217</td>\n",
       "    </tr>\n",
       "    <tr>\n",
       "      <th>tt1392190</th>\n",
       "      <td>28.419936</td>\n",
       "      <td>150000000.0</td>\n",
       "      <td>3.784364e+08</td>\n",
       "      <td>Mad Max: Fury Road</td>\n",
       "      <td>['Tom Hardy', 'Charlize Theron', 'Hugh Keays-B...</td>\n",
       "      <td>['future', 'chase', 'post-apocalyptic', 'dysto...</td>\n",
       "      <td>120.0</td>\n",
       "      <td>['Action', 'Adventure', 'Science Fiction', 'Th...</td>\n",
       "      <td>['Village Roadshow Pictures', 'Kennedy Miller ...</td>\n",
       "      <td>5/13/15</td>\n",
       "      <td>6185</td>\n",
       "      <td>7.1</td>\n",
       "      <td>2015</td>\n",
       "      <td>1.379999e+08</td>\n",
       "      <td>3.481613e+08</td>\n",
       "      <td>5</td>\n",
       "      <td>8.1</td>\n",
       "      <td>884401</td>\n",
       "    </tr>\n",
       "    <tr>\n",
       "      <th>tt2908446</th>\n",
       "      <td>13.112507</td>\n",
       "      <td>110000000.0</td>\n",
       "      <td>2.952382e+08</td>\n",
       "      <td>Insurgent</td>\n",
       "      <td>['Shailene Woodley', 'Theo James', 'Kate Winsl...</td>\n",
       "      <td>['based on novel', 'revolution', 'dystopia', '...</td>\n",
       "      <td>119.0</td>\n",
       "      <td>['Adventure', 'Science Fiction', 'Thriller']</td>\n",
       "      <td>['Summit Entertainment', 'Mandeville Films', '...</td>\n",
       "      <td>3/18/15</td>\n",
       "      <td>2480</td>\n",
       "      <td>6.3</td>\n",
       "      <td>2015</td>\n",
       "      <td>1.012000e+08</td>\n",
       "      <td>2.716190e+08</td>\n",
       "      <td>3</td>\n",
       "      <td>6.2</td>\n",
       "      <td>218262</td>\n",
       "    </tr>\n",
       "  </tbody>\n",
       "</table>\n",
       "</div>"
      ],
      "text/plain": [
       "           popularity       budget       revenue      original_title  \\\n",
       "imdb_id                                                                \n",
       "tt0369610   32.985763  150000000.0  1.513529e+09      Jurassic World   \n",
       "tt1392190   28.419936  150000000.0  3.784364e+08  Mad Max: Fury Road   \n",
       "tt2908446   13.112507  110000000.0  2.952382e+08           Insurgent   \n",
       "\n",
       "                                                        cast  \\\n",
       "imdb_id                                                        \n",
       "tt0369610  ['Chris Pratt', 'Bryce Dallas Howard', 'Irrfan...   \n",
       "tt1392190  ['Tom Hardy', 'Charlize Theron', 'Hugh Keays-B...   \n",
       "tt2908446  ['Shailene Woodley', 'Theo James', 'Kate Winsl...   \n",
       "\n",
       "                                                    keywords  runtime  \\\n",
       "imdb_id                                                                 \n",
       "tt0369610  ['monster', 'dna', 'tyrannosaurus rex', 'veloc...    124.0   \n",
       "tt1392190  ['future', 'chase', 'post-apocalyptic', 'dysto...    120.0   \n",
       "tt2908446  ['based on novel', 'revolution', 'dystopia', '...    119.0   \n",
       "\n",
       "                                                      genres  \\\n",
       "imdb_id                                                        \n",
       "tt0369610  ['Action', 'Adventure', 'Science Fiction', 'Th...   \n",
       "tt1392190  ['Action', 'Adventure', 'Science Fiction', 'Th...   \n",
       "tt2908446       ['Adventure', 'Science Fiction', 'Thriller']   \n",
       "\n",
       "                                        production_companies release_date  \\\n",
       "imdb_id                                                                     \n",
       "tt0369610  ['Universal Studios', 'Amblin Entertainment', ...       6/9/15   \n",
       "tt1392190  ['Village Roadshow Pictures', 'Kennedy Miller ...      5/13/15   \n",
       "tt2908446  ['Summit Entertainment', 'Mandeville Films', '...      3/18/15   \n",
       "\n",
       "           vote_count  vote_average  release_year    budget_adj   revenue_adj  \\\n",
       "imdb_id                                                                         \n",
       "tt0369610        5562           6.5          2015  1.379999e+08  1.392446e+09   \n",
       "tt1392190        6185           7.1          2015  1.379999e+08  3.481613e+08   \n",
       "tt2908446        2480           6.3          2015  1.012000e+08  2.716190e+08   \n",
       "\n",
       "           release_month  imdb_rating  imdb_votes  \n",
       "imdb_id                                            \n",
       "tt0369610              6          7.0      580217  \n",
       "tt1392190              5          8.1      884401  \n",
       "tt2908446              3          6.2      218262  "
      ]
     },
     "execution_count": 33,
     "metadata": {},
     "output_type": "execute_result"
    }
   ],
   "source": [
    "df.head(3)"
   ]
  },
  {
   "cell_type": "code",
   "execution_count": 34,
   "metadata": {},
   "outputs": [
    {
     "name": "stdout",
     "output_type": "stream",
     "text": [
      "<class 'pandas.core.frame.DataFrame'>\n",
      "Index: 10852 entries, tt0369610 to tt0060666\n",
      "Data columns (total 18 columns):\n",
      " #   Column                Non-Null Count  Dtype  \n",
      "---  ------                --------------  -----  \n",
      " 0   popularity            10852 non-null  float64\n",
      " 1   budget                10852 non-null  float64\n",
      " 2   revenue               10852 non-null  float64\n",
      " 3   original_title        10852 non-null  object \n",
      " 4   cast                  10776 non-null  object \n",
      " 5   keywords              9366 non-null   object \n",
      " 6   runtime               10852 non-null  float64\n",
      " 7   genres                10831 non-null  object \n",
      " 8   production_companies  9827 non-null   object \n",
      " 9   release_date          10852 non-null  object \n",
      " 10  vote_count            10852 non-null  int64  \n",
      " 11  vote_average          10852 non-null  float64\n",
      " 12  release_year          10852 non-null  int64  \n",
      " 13  budget_adj            10852 non-null  float64\n",
      " 14  revenue_adj           10852 non-null  float64\n",
      " 15  release_month         10852 non-null  int64  \n",
      " 16  imdb_rating           10852 non-null  float64\n",
      " 17  imdb_votes            10852 non-null  int64  \n",
      "dtypes: float64(8), int64(4), object(6)\n",
      "memory usage: 1.6+ MB\n"
     ]
    }
   ],
   "source": [
    "df.info()"
   ]
  },
  {
   "cell_type": "code",
   "execution_count": 235,
   "metadata": {},
   "outputs": [
    {
     "data": {
      "image/png": "[encoded data removed]",
      "text/plain": [
       "<Figure size 1152x576 with 1 Axes>"
      ]
     },
     "metadata": {
      "needs_background": "light"
     },
     "output_type": "display_data"
    }
   ],
   "source": [
    "data = df.sort_values('vote_average',ascending=False).head(10)\n",
    "y = data['original_title']\n",
    "x =data['vote_average']\n",
    "\n",
    "fig, ax = plt.subplots(figsize=(16,8))\n",
    "ax.barh(y,x, align='center')\n",
    "ax.invert_yaxis()  # labels read top-to-bottom\n",
    "ax.set_xlabel('Average Vote')\n",
    "ax.set_title('Top rated Movies of all time')\n",
    "\n",
    "plt.show()\n",
    "\n"
   ]
  },
  {
   "cell_type": "code",
   "execution_count": 242,
   "metadata": {},
   "outputs": [
    {
     "data": {
      "image/png": "[encoded data removed]",
      "text/plain": [
       "<Figure size 864x576 with 1 Axes>"
      ]
     },
     "metadata": {
      "needs_background": "light"
     },
     "output_type": "display_data"
    }
   ],
   "source": [
    "plt.figure(figsize=(12,8))\n",
    "\n",
    "df['vote_average'].hist(bins=20, alpha = 0.5)\n",
    "df['imdb_rating'].hist(bins=20, alpha=0.5)\n",
    "\n",
    "plt.show()"
   ]
  },
  {
   "cell_type": "code",
   "execution_count": 245,
   "metadata": {},
   "outputs": [
    {
     "data": {
      "text/plain": [
       "<AxesSubplot:>"
      ]
     },
     "execution_count": 245,
     "metadata": {},
     "output_type": "execute_result"
    },
    {
     "data": {
      "image/png": "[encoded data removed]",
      "text/plain": [
       "<Figure size 1152x288 with 1 Axes>"
      ]
     },
     "metadata": {
      "needs_background": "light"
     },
     "output_type": "display_data"
    }
   ],
   "source": [
    "plt.figure(figsize=(16,4))\n",
    "\n",
    "sns.boxplot(data = df[['vote_average','imdb_rating']],orient=\"h\")\n"
   ]
  },
  {
   "cell_type": "code",
   "execution_count": 38,
   "metadata": {},
   "outputs": [
    {
     "data": {
      "text/html": [
       "<div>\n",
       "<style scoped>\n",
       "    .dataframe tbody tr th:only-of-type {\n",
       "        vertical-align: middle;\n",
       "    }\n",
       "\n",
       "    .dataframe tbody tr th {\n",
       "        vertical-align: top;\n",
       "    }\n",
       "\n",
       "    .dataframe thead th {\n",
       "        text-align: right;\n",
       "    }\n",
       "</style>\n",
       "<table border=\"1\" class=\"dataframe\">\n",
       "  <thead>\n",
       "    <tr style=\"text-align: right;\">\n",
       "      <th></th>\n",
       "      <th>popularity</th>\n",
       "      <th>budget</th>\n",
       "      <th>revenue</th>\n",
       "      <th>original_title</th>\n",
       "      <th>cast</th>\n",
       "      <th>keywords</th>\n",
       "      <th>runtime</th>\n",
       "      <th>genres</th>\n",
       "      <th>production_companies</th>\n",
       "      <th>release_date</th>\n",
       "      <th>vote_count</th>\n",
       "      <th>vote_average</th>\n",
       "      <th>release_year</th>\n",
       "      <th>budget_adj</th>\n",
       "      <th>revenue_adj</th>\n",
       "      <th>release_month</th>\n",
       "      <th>imdb_rating</th>\n",
       "      <th>imdb_votes</th>\n",
       "    </tr>\n",
       "    <tr>\n",
       "      <th>imdb_id</th>\n",
       "      <th></th>\n",
       "      <th></th>\n",
       "      <th></th>\n",
       "      <th></th>\n",
       "      <th></th>\n",
       "      <th></th>\n",
       "      <th></th>\n",
       "      <th></th>\n",
       "      <th></th>\n",
       "      <th></th>\n",
       "      <th></th>\n",
       "      <th></th>\n",
       "      <th></th>\n",
       "      <th></th>\n",
       "      <th></th>\n",
       "      <th></th>\n",
       "      <th></th>\n",
       "      <th></th>\n",
       "    </tr>\n",
       "  </thead>\n",
       "  <tbody>\n",
       "    <tr>\n",
       "      <th>tt0369610</th>\n",
       "      <td>32.985763</td>\n",
       "      <td>1.500000e+08</td>\n",
       "      <td>1.513529e+09</td>\n",
       "      <td>Jurassic World</td>\n",
       "      <td>['Chris Pratt', 'Bryce Dallas Howard', 'Irrfan...</td>\n",
       "      <td>['monster', 'dna', 'tyrannosaurus rex', 'veloc...</td>\n",
       "      <td>124.0</td>\n",
       "      <td>['Action', 'Adventure', 'Science Fiction', 'Th...</td>\n",
       "      <td>['Universal Studios', 'Amblin Entertainment', ...</td>\n",
       "      <td>6/9/15</td>\n",
       "      <td>5562</td>\n",
       "      <td>6.5</td>\n",
       "      <td>2015</td>\n",
       "      <td>1.379999e+08</td>\n",
       "      <td>1.392446e+09</td>\n",
       "      <td>6</td>\n",
       "      <td>7.0</td>\n",
       "      <td>580217</td>\n",
       "    </tr>\n",
       "    <tr>\n",
       "      <th>tt1392190</th>\n",
       "      <td>28.419936</td>\n",
       "      <td>1.500000e+08</td>\n",
       "      <td>3.784364e+08</td>\n",
       "      <td>Mad Max: Fury Road</td>\n",
       "      <td>['Tom Hardy', 'Charlize Theron', 'Hugh Keays-B...</td>\n",
       "      <td>['future', 'chase', 'post-apocalyptic', 'dysto...</td>\n",
       "      <td>120.0</td>\n",
       "      <td>['Action', 'Adventure', 'Science Fiction', 'Th...</td>\n",
       "      <td>['Village Roadshow Pictures', 'Kennedy Miller ...</td>\n",
       "      <td>5/13/15</td>\n",
       "      <td>6185</td>\n",
       "      <td>7.1</td>\n",
       "      <td>2015</td>\n",
       "      <td>1.379999e+08</td>\n",
       "      <td>3.481613e+08</td>\n",
       "      <td>5</td>\n",
       "      <td>8.1</td>\n",
       "      <td>884401</td>\n",
       "    </tr>\n",
       "    <tr>\n",
       "      <th>tt2908446</th>\n",
       "      <td>13.112507</td>\n",
       "      <td>1.100000e+08</td>\n",
       "      <td>2.952382e+08</td>\n",
       "      <td>Insurgent</td>\n",
       "      <td>['Shailene Woodley', 'Theo James', 'Kate Winsl...</td>\n",
       "      <td>['based on novel', 'revolution', 'dystopia', '...</td>\n",
       "      <td>119.0</td>\n",
       "      <td>['Adventure', 'Science Fiction', 'Thriller']</td>\n",
       "      <td>['Summit Entertainment', 'Mandeville Films', '...</td>\n",
       "      <td>3/18/15</td>\n",
       "      <td>2480</td>\n",
       "      <td>6.3</td>\n",
       "      <td>2015</td>\n",
       "      <td>1.012000e+08</td>\n",
       "      <td>2.716190e+08</td>\n",
       "      <td>3</td>\n",
       "      <td>6.2</td>\n",
       "      <td>218262</td>\n",
       "    </tr>\n",
       "    <tr>\n",
       "      <th>tt2488496</th>\n",
       "      <td>11.173104</td>\n",
       "      <td>2.000000e+08</td>\n",
       "      <td>2.068178e+09</td>\n",
       "      <td>Star Wars: The Force Awakens</td>\n",
       "      <td>['Harrison Ford', 'Mark Hamill', 'Carrie Fishe...</td>\n",
       "      <td>['android', 'spaceship', 'jedi', 'space opera'...</td>\n",
       "      <td>136.0</td>\n",
       "      <td>['Action', 'Adventure', 'Science Fiction', 'Fa...</td>\n",
       "      <td>['Lucasfilm', 'Truenorth Productions', 'Bad Ro...</td>\n",
       "      <td>12/15/15</td>\n",
       "      <td>5292</td>\n",
       "      <td>7.5</td>\n",
       "      <td>2015</td>\n",
       "      <td>1.839999e+08</td>\n",
       "      <td>1.902723e+09</td>\n",
       "      <td>12</td>\n",
       "      <td>7.9</td>\n",
       "      <td>862213</td>\n",
       "    </tr>\n",
       "    <tr>\n",
       "      <th>tt2820852</th>\n",
       "      <td>9.335014</td>\n",
       "      <td>1.900000e+08</td>\n",
       "      <td>1.506249e+09</td>\n",
       "      <td>Furious 7</td>\n",
       "      <td>['Vin Diesel', 'Paul Walker', 'Jason Statham',...</td>\n",
       "      <td>['car race', 'speed', 'revenge', 'suspense', '...</td>\n",
       "      <td>137.0</td>\n",
       "      <td>['Action', 'Crime', 'Thriller']</td>\n",
       "      <td>['Universal Pictures', 'Original Film', 'Media...</td>\n",
       "      <td>4/1/15</td>\n",
       "      <td>2947</td>\n",
       "      <td>7.3</td>\n",
       "      <td>2015</td>\n",
       "      <td>1.747999e+08</td>\n",
       "      <td>1.385749e+09</td>\n",
       "      <td>4</td>\n",
       "      <td>7.1</td>\n",
       "      <td>359951</td>\n",
       "    </tr>\n",
       "    <tr>\n",
       "      <th>...</th>\n",
       "      <td>...</td>\n",
       "      <td>...</td>\n",
       "      <td>...</td>\n",
       "      <td>...</td>\n",
       "      <td>...</td>\n",
       "      <td>...</td>\n",
       "      <td>...</td>\n",
       "      <td>...</td>\n",
       "      <td>...</td>\n",
       "      <td>...</td>\n",
       "      <td>...</td>\n",
       "      <td>...</td>\n",
       "      <td>...</td>\n",
       "      <td>...</td>\n",
       "      <td>...</td>\n",
       "      <td>...</td>\n",
       "      <td>...</td>\n",
       "      <td>...</td>\n",
       "    </tr>\n",
       "    <tr>\n",
       "      <th>tt0078346</th>\n",
       "      <td>1.210324</td>\n",
       "      <td>5.500000e+07</td>\n",
       "      <td>3.002180e+08</td>\n",
       "      <td>Superman</td>\n",
       "      <td>['Marlon Brando', 'Gene Hackman', 'Christopher...</td>\n",
       "      <td>['saving the world', 'journalist', 'dc comics'...</td>\n",
       "      <td>143.0</td>\n",
       "      <td>['Adventure', 'Fantasy', 'Action', 'Science Fi...</td>\n",
       "      <td>['Warner Bros.', 'Dovemead Films', 'Film Expor...</td>\n",
       "      <td>12/14/78</td>\n",
       "      <td>518</td>\n",
       "      <td>6.7</td>\n",
       "      <td>1978</td>\n",
       "      <td>1.838485e+08</td>\n",
       "      <td>1.003539e+09</td>\n",
       "      <td>12</td>\n",
       "      <td>7.3</td>\n",
       "      <td>159445</td>\n",
       "    </tr>\n",
       "    <tr>\n",
       "      <th>tt0077651</th>\n",
       "      <td>1.198849</td>\n",
       "      <td>3.000000e+05</td>\n",
       "      <td>7.000000e+07</td>\n",
       "      <td>Halloween</td>\n",
       "      <td>['Donald Pleasence', 'Jamie Lee Curtis', 'P.J....</td>\n",
       "      <td>['female nudity', 'nudity', 'mask', 'babysitte...</td>\n",
       "      <td>91.0</td>\n",
       "      <td>['Horror', 'Thriller']</td>\n",
       "      <td>['Compass International Pictures', 'Falcon Int...</td>\n",
       "      <td>10/25/78</td>\n",
       "      <td>522</td>\n",
       "      <td>7.3</td>\n",
       "      <td>1978</td>\n",
       "      <td>1.002810e+06</td>\n",
       "      <td>2.339890e+08</td>\n",
       "      <td>10</td>\n",
       "      <td>7.7</td>\n",
       "      <td>233486</td>\n",
       "    </tr>\n",
       "    <tr>\n",
       "      <th>tt0077975</th>\n",
       "      <td>1.157930</td>\n",
       "      <td>2.700000e+06</td>\n",
       "      <td>1.410000e+08</td>\n",
       "      <td>Animal House</td>\n",
       "      <td>['John Belushi', 'Tim Matheson', 'John Vernon'...</td>\n",
       "      <td>['female nudity', 'sex', 'nudity', 'collage', ...</td>\n",
       "      <td>109.0</td>\n",
       "      <td>['Comedy']</td>\n",
       "      <td>['Universal Pictures', 'Oregon Film Factory', ...</td>\n",
       "      <td>7/27/78</td>\n",
       "      <td>230</td>\n",
       "      <td>6.7</td>\n",
       "      <td>1978</td>\n",
       "      <td>9.025292e+06</td>\n",
       "      <td>4.713208e+08</td>\n",
       "      <td>7</td>\n",
       "      <td>7.5</td>\n",
       "      <td>112165</td>\n",
       "    </tr>\n",
       "    <tr>\n",
       "      <th>tt0078163</th>\n",
       "      <td>1.090065</td>\n",
       "      <td>1.462570e+07</td>\n",
       "      <td>4.957927e+07</td>\n",
       "      <td>Revenge of the Pink Panther</td>\n",
       "      <td>['Peter Sellers', 'Andrew Sachs', 'Herbert Lom...</td>\n",
       "      <td>['inspector']</td>\n",
       "      <td>104.0</td>\n",
       "      <td>['Action', 'Comedy', 'Thriller', 'Crime', 'Fam...</td>\n",
       "      <td>['United Artists', 'Jewel Productions', 'Pimli...</td>\n",
       "      <td>7/19/78</td>\n",
       "      <td>56</td>\n",
       "      <td>6.2</td>\n",
       "      <td>1978</td>\n",
       "      <td>1.755104e+07</td>\n",
       "      <td>1.657287e+08</td>\n",
       "      <td>7</td>\n",
       "      <td>6.7</td>\n",
       "      <td>20163</td>\n",
       "    </tr>\n",
       "    <tr>\n",
       "      <th>tt0060345</th>\n",
       "      <td>1.227582</td>\n",
       "      <td>3.150000e+05</td>\n",
       "      <td>3.982332e+07</td>\n",
       "      <td>How the Grinch Stole Christmas!</td>\n",
       "      <td>['Boris Karloff', 'June Foray', 'Thurl Ravensc...</td>\n",
       "      <td>['holiday', 'based on novel', 'monster', 'obse...</td>\n",
       "      <td>26.0</td>\n",
       "      <td>['Animation', 'Family', 'Comedy']</td>\n",
       "      <td>['MGM Television', 'The Cat in the Hat Product...</td>\n",
       "      <td>12/18/66</td>\n",
       "      <td>286</td>\n",
       "      <td>7.1</td>\n",
       "      <td>1966</td>\n",
       "      <td>2.116175e+06</td>\n",
       "      <td>5.136436e+07</td>\n",
       "      <td>12</td>\n",
       "      <td>8.3</td>\n",
       "      <td>45413</td>\n",
       "    </tr>\n",
       "  </tbody>\n",
       "</table>\n",
       "<p>1756 rows × 18 columns</p>\n",
       "</div>"
      ],
      "text/plain": [
       "           popularity        budget       revenue  \\\n",
       "imdb_id                                             \n",
       "tt0369610   32.985763  1.500000e+08  1.513529e+09   \n",
       "tt1392190   28.419936  1.500000e+08  3.784364e+08   \n",
       "tt2908446   13.112507  1.100000e+08  2.952382e+08   \n",
       "tt2488496   11.173104  2.000000e+08  2.068178e+09   \n",
       "tt2820852    9.335014  1.900000e+08  1.506249e+09   \n",
       "...               ...           ...           ...   \n",
       "tt0078346    1.210324  5.500000e+07  3.002180e+08   \n",
       "tt0077651    1.198849  3.000000e+05  7.000000e+07   \n",
       "tt0077975    1.157930  2.700000e+06  1.410000e+08   \n",
       "tt0078163    1.090065  1.462570e+07  4.957927e+07   \n",
       "tt0060345    1.227582  3.150000e+05  3.982332e+07   \n",
       "\n",
       "                            original_title  \\\n",
       "imdb_id                                      \n",
       "tt0369610                   Jurassic World   \n",
       "tt1392190               Mad Max: Fury Road   \n",
       "tt2908446                        Insurgent   \n",
       "tt2488496     Star Wars: The Force Awakens   \n",
       "tt2820852                        Furious 7   \n",
       "...                                    ...   \n",
       "tt0078346                         Superman   \n",
       "tt0077651                        Halloween   \n",
       "tt0077975                     Animal House   \n",
       "tt0078163      Revenge of the Pink Panther   \n",
       "tt0060345  How the Grinch Stole Christmas!   \n",
       "\n",
       "                                                        cast  \\\n",
       "imdb_id                                                        \n",
       "tt0369610  ['Chris Pratt', 'Bryce Dallas Howard', 'Irrfan...   \n",
       "tt1392190  ['Tom Hardy', 'Charlize Theron', 'Hugh Keays-B...   \n",
       "tt2908446  ['Shailene Woodley', 'Theo James', 'Kate Winsl...   \n",
       "tt2488496  ['Harrison Ford', 'Mark Hamill', 'Carrie Fishe...   \n",
       "tt2820852  ['Vin Diesel', 'Paul Walker', 'Jason Statham',...   \n",
       "...                                                      ...   \n",
       "tt0078346  ['Marlon Brando', 'Gene Hackman', 'Christopher...   \n",
       "tt0077651  ['Donald Pleasence', 'Jamie Lee Curtis', 'P.J....   \n",
       "tt0077975  ['John Belushi', 'Tim Matheson', 'John Vernon'...   \n",
       "tt0078163  ['Peter Sellers', 'Andrew Sachs', 'Herbert Lom...   \n",
       "tt0060345  ['Boris Karloff', 'June Foray', 'Thurl Ravensc...   \n",
       "\n",
       "                                                    keywords  runtime  \\\n",
       "imdb_id                                                                 \n",
       "tt0369610  ['monster', 'dna', 'tyrannosaurus rex', 'veloc...    124.0   \n",
       "tt1392190  ['future', 'chase', 'post-apocalyptic', 'dysto...    120.0   \n",
       "tt2908446  ['based on novel', 'revolution', 'dystopia', '...    119.0   \n",
       "tt2488496  ['android', 'spaceship', 'jedi', 'space opera'...    136.0   \n",
       "tt2820852  ['car race', 'speed', 'revenge', 'suspense', '...    137.0   \n",
       "...                                                      ...      ...   \n",
       "tt0078346  ['saving the world', 'journalist', 'dc comics'...    143.0   \n",
       "tt0077651  ['female nudity', 'nudity', 'mask', 'babysitte...     91.0   \n",
       "tt0077975  ['female nudity', 'sex', 'nudity', 'collage', ...    109.0   \n",
       "tt0078163                                      ['inspector']    104.0   \n",
       "tt0060345  ['holiday', 'based on novel', 'monster', 'obse...     26.0   \n",
       "\n",
       "                                                      genres  \\\n",
       "imdb_id                                                        \n",
       "tt0369610  ['Action', 'Adventure', 'Science Fiction', 'Th...   \n",
       "tt1392190  ['Action', 'Adventure', 'Science Fiction', 'Th...   \n",
       "tt2908446       ['Adventure', 'Science Fiction', 'Thriller']   \n",
       "tt2488496  ['Action', 'Adventure', 'Science Fiction', 'Fa...   \n",
       "tt2820852                    ['Action', 'Crime', 'Thriller']   \n",
       "...                                                      ...   \n",
       "tt0078346  ['Adventure', 'Fantasy', 'Action', 'Science Fi...   \n",
       "tt0077651                             ['Horror', 'Thriller']   \n",
       "tt0077975                                         ['Comedy']   \n",
       "tt0078163  ['Action', 'Comedy', 'Thriller', 'Crime', 'Fam...   \n",
       "tt0060345                  ['Animation', 'Family', 'Comedy']   \n",
       "\n",
       "                                        production_companies release_date  \\\n",
       "imdb_id                                                                     \n",
       "tt0369610  ['Universal Studios', 'Amblin Entertainment', ...       6/9/15   \n",
       "tt1392190  ['Village Roadshow Pictures', 'Kennedy Miller ...      5/13/15   \n",
       "tt2908446  ['Summit Entertainment', 'Mandeville Films', '...      3/18/15   \n",
       "tt2488496  ['Lucasfilm', 'Truenorth Productions', 'Bad Ro...     12/15/15   \n",
       "tt2820852  ['Universal Pictures', 'Original Film', 'Media...       4/1/15   \n",
       "...                                                      ...          ...   \n",
       "tt0078346  ['Warner Bros.', 'Dovemead Films', 'Film Expor...     12/14/78   \n",
       "tt0077651  ['Compass International Pictures', 'Falcon Int...     10/25/78   \n",
       "tt0077975  ['Universal Pictures', 'Oregon Film Factory', ...      7/27/78   \n",
       "tt0078163  ['United Artists', 'Jewel Productions', 'Pimli...      7/19/78   \n",
       "tt0060345  ['MGM Television', 'The Cat in the Hat Product...     12/18/66   \n",
       "\n",
       "           vote_count  vote_average  release_year    budget_adj   revenue_adj  \\\n",
       "imdb_id                                                                         \n",
       "tt0369610        5562           6.5          2015  1.379999e+08  1.392446e+09   \n",
       "tt1392190        6185           7.1          2015  1.379999e+08  3.481613e+08   \n",
       "tt2908446        2480           6.3          2015  1.012000e+08  2.716190e+08   \n",
       "tt2488496        5292           7.5          2015  1.839999e+08  1.902723e+09   \n",
       "tt2820852        2947           7.3          2015  1.747999e+08  1.385749e+09   \n",
       "...               ...           ...           ...           ...           ...   \n",
       "tt0078346         518           6.7          1978  1.838485e+08  1.003539e+09   \n",
       "tt0077651         522           7.3          1978  1.002810e+06  2.339890e+08   \n",
       "tt0077975         230           6.7          1978  9.025292e+06  4.713208e+08   \n",
       "tt0078163          56           6.2          1978  1.755104e+07  1.657287e+08   \n",
       "tt0060345         286           7.1          1966  2.116175e+06  5.136436e+07   \n",
       "\n",
       "           release_month  imdb_rating  imdb_votes  \n",
       "imdb_id                                            \n",
       "tt0369610              6          7.0      580217  \n",
       "tt1392190              5          8.1      884401  \n",
       "tt2908446              3          6.2      218262  \n",
       "tt2488496             12          7.9      862213  \n",
       "tt2820852              4          7.1      359951  \n",
       "...                  ...          ...         ...  \n",
       "tt0078346             12          7.3      159445  \n",
       "tt0077651             10          7.7      233486  \n",
       "tt0077975              7          7.5      112165  \n",
       "tt0078163              7          6.7       20163  \n",
       "tt0060345             12          8.3       45413  \n",
       "\n",
       "[1756 rows x 18 columns]"
      ]
     },
     "execution_count": 38,
     "metadata": {},
     "output_type": "execute_result"
    }
   ],
   "source": [
    "df[df['popularity']>1]"
   ]
  },
  {
   "cell_type": "code",
   "execution_count": 39,
   "metadata": {},
   "outputs": [
    {
     "data": {
      "text/plain": [
       "imdb_id\n",
       "tt0369610    1.379999e+08\n",
       "tt1392190    1.379999e+08\n",
       "tt2908446    1.012000e+08\n",
       "tt2488496    1.839999e+08\n",
       "tt2820852    1.747999e+08\n",
       "                 ...     \n",
       "tt0060371    1.755104e+07\n",
       "tt0060472    1.755104e+07\n",
       "tt0060161    1.755104e+07\n",
       "tt0061177    1.755104e+07\n",
       "tt0060666    1.276423e+05\n",
       "Name: budget_adj, Length: 10852, dtype: float64"
      ]
     },
     "execution_count": 39,
     "metadata": {},
     "output_type": "execute_result"
    }
   ],
   "source": [
    "df['budget_adj']"
   ]
  },
  {
   "cell_type": "code",
   "execution_count": 40,
   "metadata": {},
   "outputs": [
    {
     "data": {
      "text/plain": [
       "<AxesSubplot:xlabel='budget_adj'>"
      ]
     },
     "execution_count": 40,
     "metadata": {},
     "output_type": "execute_result"
    },
    {
     "data": {
      "image/png": "[encoded data removed]",
      "text/plain": [
       "<Figure size 432x288 with 1 Axes>"
      ]
     },
     "metadata": {
      "needs_background": "light"
     },
     "output_type": "display_data"
    }
   ],
   "source": [
    "df.groupby(pd.cut(df['budget_adj'], 10))['vote_average'].mean().plot(kind='bar')"
   ]
  },
  {
   "cell_type": "code",
   "execution_count": 41,
   "metadata": {},
   "outputs": [
    {
     "data": {
      "text/plain": [
       "<AxesSubplot:xlabel='revenue_adj'>"
      ]
     },
     "execution_count": 41,
     "metadata": {},
     "output_type": "execute_result"
    },
    {
     "data": {
      "image/png": "[encoded data removed]",
      "text/plain": [
       "<Figure size 432x288 with 1 Axes>"
      ]
     },
     "metadata": {
      "needs_background": "light"
     },
     "output_type": "display_data"
    }
   ],
   "source": [
    "df.groupby(pd.cut(df['revenue_adj'], 10))['vote_average'].mean().plot(kind='bar')"
   ]
  },
  {
   "cell_type": "code",
   "execution_count": 42,
   "metadata": {},
   "outputs": [
    {
     "data": {
      "text/plain": [
       "<AxesSubplot:xlabel='release_year'>"
      ]
     },
     "execution_count": 42,
     "metadata": {},
     "output_type": "execute_result"
    },
    {
     "data": {
      "image/png": "[encoded data removed]",
      "text/plain": [
       "<Figure size 1152x720 with 1 Axes>"
      ]
     },
     "metadata": {
      "needs_background": "light"
     },
     "output_type": "display_data"
    }
   ],
   "source": [
    "df.groupby(['release_year'])['popularity'].mean().plot(figsize=(16, 10))"
   ]
  },
  {
   "cell_type": "code",
   "execution_count": 43,
   "metadata": {},
   "outputs": [
    {
     "data": {
      "text/plain": [
       "<AxesSubplot:xlabel='release_year'>"
      ]
     },
     "execution_count": 43,
     "metadata": {},
     "output_type": "execute_result"
    },
    {
     "data": {
      "image/png": "[encoded data removed]",
      "text/plain": [
       "<Figure size 1152x720 with 1 Axes>"
      ]
     },
     "metadata": {
      "needs_background": "light"
     },
     "output_type": "display_data"
    }
   ],
   "source": [
    "df.groupby(['release_year'])['vote_average'].mean().plot(figsize=(16, 10))"
   ]
  },
  {
   "cell_type": "code",
   "execution_count": 247,
   "metadata": {},
   "outputs": [
    {
     "data": {
      "image/png": "[encoded data removed]",
      "text/plain": [
       "<Figure size 1152x720 with 1 Axes>"
      ]
     },
     "metadata": {
      "needs_background": "light"
     },
     "output_type": "display_data"
    }
   ],
   "source": [
    "df.groupby(['release_year'])[['budget', 'revenue']].mean().plot(figsize=(16, 10));"
   ]
  },
  {
   "cell_type": "code",
   "execution_count": 45,
   "metadata": {},
   "outputs": [
    {
     "data": {
      "text/plain": [
       "<AxesSubplot:>"
      ]
     },
     "execution_count": 45,
     "metadata": {},
     "output_type": "execute_result"
    },
    {
     "data": {
      "image/png": "[encoded data removed]",
      "text/plain": [
       "<Figure size 1152x432 with 1 Axes>"
      ]
     },
     "metadata": {
      "needs_background": "light"
     },
     "output_type": "display_data"
    }
   ],
   "source": [
    "# calculate release month\n",
    "df['release_month'] = df['release_date'].str.split(\n",
    "    '/', expand=True)[0].astype(int)\n",
    "df['release_month'].value_counts().sort_index().plot(kind='bar', figsize=(16, 6))"
   ]
  },
  {
   "cell_type": "code",
   "execution_count": 217,
   "metadata": {},
   "outputs": [
    {
     "data": {
      "text/plain": [
       "'Drama'               2452\n",
       " 'Thriller'           2417\n",
       "'Comedy'              2317\n",
       " 'Drama'              2306\n",
       "'Action'              1587\n",
       " 'Romance'            1526\n",
       " 'Comedy'             1473\n",
       " 'Family'             1085\n",
       " 'Science Fiction'    1010\n",
       " 'Crime'               974\n",
       "dtype: int64"
      ]
     },
     "execution_count": 217,
     "metadata": {},
     "output_type": "execute_result"
    }
   ],
   "source": [
    "# most common genres\n",
    "to_1D(df['genres'].dropna().str.strip('[]').str.split(',')).value_counts()[:10]"
   ]
  },
  {
   "cell_type": "code",
   "execution_count": 232,
   "metadata": {},
   "outputs": [
    {
     "data": {
      "image/png": "[encoded data removed]",
      "text/plain": [
       "<Figure size 1440x864 with 1 Axes>"
      ]
     },
     "metadata": {
      "needs_background": "light"
     },
     "output_type": "display_data"
    }
   ],
   "source": [
    "# a dictionary to hold the mean vote_average for each genre\n",
    "genres = {}\n",
    "\n",
    "for genre in unique['genres']:\n",
    "    genres[genre] = df.dropna()[df.dropna()['genres'].str.contains(genre)]['vote_average'].mean()\n",
    "\n",
    "data = pd.Series(genres).sort_values(ascending = False)\n",
    "y = data.index\n",
    "x = data.values\n",
    "\n",
    "fig, ax = plt.subplots(figsize=(20,12))\n",
    "ax.barh(y,x, align='center')\n",
    "ax.invert_yaxis()  # labels read top-to-bottom\n",
    "ax.set_xlabel('Average Vote per genre')\n",
    "ax.set_title('Top rated genres of all time')\n",
    "\n",
    "plt.show()\n"
   ]
  },
  {
   "cell_type": "code",
   "execution_count": 211,
   "metadata": {},
   "outputs": [
    {
     "data": {
      "text/plain": [
       "'Nicolas Cage'          48\n",
       " Jr.'                   45\n",
       "'Bruce Willis'          39\n",
       "'Robert De Niro'        39\n",
       "'Clint Eastwood'        38\n",
       " 'Samuel L. Jackson'    38\n",
       "'Johnny Depp'           37\n",
       "'Tom Hanks'             37\n",
       " 'John Goodman'         36\n",
       " 'Steve Buscemi'        36\n",
       "dtype: int64"
      ]
     },
     "execution_count": 211,
     "metadata": {},
     "output_type": "execute_result"
    }
   ],
   "source": [
    "# Most common actors\n",
    "to_1D(df.dropna()['cast'].str.strip('[]').str.split(',')).value_counts()[:10]"
   ]
  },
  {
   "cell_type": "code",
   "execution_count": 214,
   "metadata": {},
   "outputs": [
    {
     "data": {
      "text/plain": [
       "'Universal Pictures'                        429\n",
       "'Paramount Pictures'                        415\n",
       " 'Warner Bros.'                             330\n",
       "'Columbia Pictures'                         267\n",
       "'Twentieth Century Fox Film Corporation'    236\n",
       "'New Line Cinema'                           197\n",
       "'Walt Disney Pictures'                      191\n",
       "'Warner Bros.'                              165\n",
       "'Miramax Films'                             129\n",
       "'TriStar Pictures'                          120\n",
       "dtype: int64"
      ]
     },
     "execution_count": 214,
     "metadata": {},
     "output_type": "execute_result"
    }
   ],
   "source": [
    "# The most common Production Companies\n",
    "to_1D(df.dropna()['production_companies'].str.strip('[]').str.split(',')).value_counts()[:10]"
   ]
  },
  {
   "cell_type": "code",
   "execution_count": 215,
   "metadata": {},
   "outputs": [
    {
     "data": {
      "text/plain": [
       " 'woman director'          236\n",
       " 'independent film'        232\n",
       " 'murder'                  177\n",
       " 'based on novel'          150\n",
       " 'sex'                     148\n",
       " 'nudity'                  141\n",
       " 'sport'                   139\n",
       "'new york'                 133\n",
       " 'duringcreditsstinger'    124\n",
       "'based on novel'           121\n",
       "dtype: int64"
      ]
     },
     "execution_count": 215,
     "metadata": {},
     "output_type": "execute_result"
    }
   ],
   "source": [
    "# the most common keywords\n",
    "to_1D(df.dropna()['keywords'].str.strip('[]').str.split(',')).value_counts()[:10]"
   ]
  },
  {
   "cell_type": "code",
   "execution_count": null,
   "metadata": {},
   "outputs": [],
   "source": []
  },
  {
   "cell_type": "code",
   "execution_count": null,
   "metadata": {},
   "outputs": [],
   "source": []
  },
  {
   "cell_type": "markdown",
   "metadata": {},
   "source": [
    "# Conclusion"
   ]
  },
  {
   "cell_type": "markdown",
   "metadata": {},
   "source": [
    "Which genres are\n",
    "most popular from\n",
    "year to year? What\n",
    "kinds of properties\n",
    "are associated with\n",
    "movies that have high\n",
    "revenues?\n"
   ]
  },
  {
   "cell_type": "markdown",
   "metadata": {},
   "source": [
    "# References"
   ]
  },
  {
   "cell_type": "markdown",
   "metadata": {},
   "source": [
    "- [Scrape IMDB movie rating and details using python](https://dev.to/magesh236/scrape-imdb-movie-rating-and-details-3a7c)\n",
    "- [pandas.Series.str.split](https://pandas.pydata.org/pandas-docs/stable/reference/api/pandas.Series.str.split.html#pandas.Series.str.split)\n",
    "- [Dealing with List Values in Pandas Dataframes](https://towardsdatascience.com/dealing-with-list-values-in-pandas-dataframes-a177e534f173)\n",
    "- [Are you confused using Series.str.contains() and DataFrame.isin() then look into this article](https://medium.com/analytics-vidhya/filter-pandas-dataframe-rows-by-a-list-of-strings-e95c225822fa)"
   ]
  }
 ],
 "metadata": {
  "hide_input": false,
  "kernelspec": {
   "display_name": "Python 3.8.5 64-bit ('base': conda)",
   "language": "python",
   "name": "python38564bitbaseconda3ceb8b8f7620467b96fa267ad224408f"
  },
  "language_info": {
   "codemirror_mode": {
    "name": "ipython",
    "version": 3
   },
   "file_extension": ".py",
   "mimetype": "text/x-python",
   "name": "python",
   "nbconvert_exporter": "python",
   "pygments_lexer": "ipython3",
   "version": "3.8.5"
  },
  "toc": {
   "base_numbering": 1,
   "nav_menu": {},
   "number_sections": false,
   "sideBar": true,
   "skip_h1_title": false,
   "title_cell": "Table of Contents",
   "title_sidebar": "Contents",
   "toc_cell": true,
   "toc_position": {
    "height": "calc(100% - 180px)",
    "left": "10px",
    "top": "150px",
    "width": "224px"
   },
   "toc_section_display": true,
   "toc_window_display": true
  }
 },
 "nbformat": 4,
 "nbformat_minor": 4
}
