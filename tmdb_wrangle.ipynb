{
 "cells": [
  {
   "cell_type": "markdown",
   "metadata": {},
   "source": [
    "<center><h1>TMDB Movies</h1></center>"
   ]
  },
  {
   "cell_type": "markdown",
   "metadata": {
    "toc": true
   },
   "source": [
    "<h1>Table of Contents<span class=\"tocSkip\"></span></h1>\n",
    "<div class=\"toc\"><ul class=\"toc-item\"><li><span><a href=\"#TMDB-Movies\" data-toc-modified-id=\"TMDB-Movies-1\">TMDB Movies</a></span></li><li><span><a href=\"#Introduction\" data-toc-modified-id=\"Introduction-2\">Introduction</a></span><ul class=\"toc-item\"><li><span><a href=\"#Asking-Questions\" data-toc-modified-id=\"Asking-Questions-2.1\">Asking Questions</a></span></li></ul></li><li><span><a href=\"#1.-Data-Wrangling\" data-toc-modified-id=\"1.-Data-Wrangling-3\">1. Data Wrangling</a></span><ul class=\"toc-item\"><li><span><a href=\"#1.1-Gathering\" data-toc-modified-id=\"1.1-Gathering-3.1\">1.1 Gathering</a></span></li><li><span><a href=\"#1.2-Assessing\" data-toc-modified-id=\"1.2-Assessing-3.2\">1.2 Assessing</a></span></li><li><span><a href=\"#1.3-Cleaning\" data-toc-modified-id=\"1.3-Cleaning-3.3\">1.3 Cleaning</a></span></li></ul></li><li><span><a href=\"#2.-Exploratory-Data-Analysis\" data-toc-modified-id=\"2.-Exploratory-Data-Analysis-4\">2. Exploratory Data Analysis</a></span><ul class=\"toc-item\"><li><span><a href=\"#2.2-Analysis-and-Visualization\" data-toc-modified-id=\"2.2-Analysis-and-Visualization-4.1\">2.2 Analysis and Visualization</a></span></li><li><span><a href=\"#2.3-Conclusion\" data-toc-modified-id=\"2.3-Conclusion-4.2\">2.3 Conclusion</a></span></li></ul></li><li><span><a href=\"#References\" data-toc-modified-id=\"References-5\">References</a></span></li></ul></div>"
   ]
  },
  {
   "cell_type": "markdown",
   "metadata": {},
   "source": [
    "# Introduction"
   ]
  },
  {
   "cell_type": "markdown",
   "metadata": {},
   "source": [
    "This project started as an assessment for the **Udacity Data Analysis Advanced Track**.\n",
    "\n",
    "The Movie Database (TMDb) is a community built movie and TV database dating back to 2008.\n",
    "This data set contains information about 10,000 movies collected from The Movie Database (TMDb),including user ratings and revenue.\n"
   ]
  },
  {
   "cell_type": "markdown",
   "metadata": {},
   "source": [
    "## Asking Questions"
   ]
  },
  {
   "cell_type": "markdown",
   "metadata": {},
   "source": [
    "During our data wrangling and analysis we will try to answer the following questions:\n",
    "\n",
    "- How did the movie industry budget and revenue changed over the years?\n",
    "- How is the voting (rating) is distributed?\n",
    "- How does the TMDB average vote compares to the IMDB ratings?\n",
    "- What factors affect the rating of a given movie (budget, revenue, release month, release year,...)?"
   ]
  },
  {
   "cell_type": "markdown",
   "metadata": {},
   "source": [
    "# 1. Data Wrangling"
   ]
  },
  {
   "cell_type": "markdown",
   "metadata": {},
   "source": [
    "We begin by importing the libraries that we will be using for our analysis:\n",
    "- [Numpy](https://numpy.org/)\n",
    "- [Pandas](https://pandas.pydata.org/)\n",
    "- [Matplotlib](https://matplotlib.org/stable/index.html#)\n",
    "- [Seaborn](https://seaborn.pydata.org/)"
   ]
  },
  {
   "cell_type": "code",
   "execution_count": 1,
   "metadata": {},
   "outputs": [],
   "source": [
    "# importing required libraries\n",
    "import numpy as np\n",
    "import pandas as pd\n",
    "import matplotlib.pyplot as plt\n",
    "import seaborn as sns\n",
    "%matplotlib inline"
   ]
  },
  {
   "cell_type": "markdown",
   "metadata": {},
   "source": [
    "## 1.1 Gathering"
   ]
  },
  {
   "cell_type": "markdown",
   "metadata": {},
   "source": [
    "### TMDB Data"
   ]
  },
  {
   "cell_type": "markdown",
   "metadata": {},
   "source": [
    "We can read the TMDB data directly from the `tmdb-movies.csv` file using pandas `read_csv` function."
   ]
  },
  {
   "cell_type": "code",
   "execution_count": 2,
   "metadata": {
    "scrolled": true
   },
   "outputs": [
    {
     "data": {
      "text/html": [
       "<div>\n",
       "<style scoped>\n",
       "    .dataframe tbody tr th:only-of-type {\n",
       "        vertical-align: middle;\n",
       "    }\n",
       "\n",
       "    .dataframe tbody tr th {\n",
       "        vertical-align: top;\n",
       "    }\n",
       "\n",
       "    .dataframe thead th {\n",
       "        text-align: right;\n",
       "    }\n",
       "</style>\n",
       "<table border=\"1\" class=\"dataframe\">\n",
       "  <thead>\n",
       "    <tr style=\"text-align: right;\">\n",
       "      <th></th>\n",
       "      <th>imdb_id</th>\n",
       "      <th>popularity</th>\n",
       "      <th>budget</th>\n",
       "      <th>revenue</th>\n",
       "      <th>original_title</th>\n",
       "      <th>cast</th>\n",
       "      <th>homepage</th>\n",
       "      <th>director</th>\n",
       "      <th>tagline</th>\n",
       "      <th>keywords</th>\n",
       "      <th>overview</th>\n",
       "      <th>runtime</th>\n",
       "      <th>genres</th>\n",
       "      <th>production_companies</th>\n",
       "      <th>release_date</th>\n",
       "      <th>vote_count</th>\n",
       "      <th>vote_average</th>\n",
       "      <th>release_year</th>\n",
       "      <th>budget_adj</th>\n",
       "      <th>revenue_adj</th>\n",
       "    </tr>\n",
       "    <tr>\n",
       "      <th>id</th>\n",
       "      <th></th>\n",
       "      <th></th>\n",
       "      <th></th>\n",
       "      <th></th>\n",
       "      <th></th>\n",
       "      <th></th>\n",
       "      <th></th>\n",
       "      <th></th>\n",
       "      <th></th>\n",
       "      <th></th>\n",
       "      <th></th>\n",
       "      <th></th>\n",
       "      <th></th>\n",
       "      <th></th>\n",
       "      <th></th>\n",
       "      <th></th>\n",
       "      <th></th>\n",
       "      <th></th>\n",
       "      <th></th>\n",
       "      <th></th>\n",
       "    </tr>\n",
       "  </thead>\n",
       "  <tbody>\n",
       "    <tr>\n",
       "      <th>13910</th>\n",
       "      <td>tt0472071</td>\n",
       "      <td>0.405537</td>\n",
       "      <td>20000000</td>\n",
       "      <td>3561</td>\n",
       "      <td>Death Defying Acts</td>\n",
       "      <td>Catherine Zeta-Jones|Guy Pearce|Timothy Spall|...</td>\n",
       "      <td>NaN</td>\n",
       "      <td>Gillian Armstrong</td>\n",
       "      <td>There is no escape.</td>\n",
       "      <td>scotland|escape artist|clairvoyant|woman direc...</td>\n",
       "      <td>On a tour of Britain in 1926, Harry Houdini en...</td>\n",
       "      <td>97</td>\n",
       "      <td>Drama|Romance</td>\n",
       "      <td>BBC Films</td>\n",
       "      <td>9/13/07</td>\n",
       "      <td>31</td>\n",
       "      <td>5.4</td>\n",
       "      <td>2007</td>\n",
       "      <td>2.103337e+07</td>\n",
       "      <td>3744.991823</td>\n",
       "    </tr>\n",
       "    <tr>\n",
       "      <th>32084</th>\n",
       "      <td>tt1483831</td>\n",
       "      <td>0.140860</td>\n",
       "      <td>0</td>\n",
       "      <td>0</td>\n",
       "      <td>Lebanon</td>\n",
       "      <td>Oshri Cohen|Michael Moshonov|Yoav Donat|Itay T...</td>\n",
       "      <td>NaN</td>\n",
       "      <td>Samuel Maoz</td>\n",
       "      <td>NaN</td>\n",
       "      <td>NaN</td>\n",
       "      <td>June, 1982 - The First Lebanon War. A lone tan...</td>\n",
       "      <td>93</td>\n",
       "      <td>Drama|War</td>\n",
       "      <td>Paralite Productions Ltd.|Israeli Film Fund|To...</td>\n",
       "      <td>10/10/09</td>\n",
       "      <td>24</td>\n",
       "      <td>6.0</td>\n",
       "      <td>2009</td>\n",
       "      <td>0.000000e+00</td>\n",
       "      <td>0.000000</td>\n",
       "    </tr>\n",
       "    <tr>\n",
       "      <th>12261</th>\n",
       "      <td>tt0427038</td>\n",
       "      <td>0.182135</td>\n",
       "      <td>9000000</td>\n",
       "      <td>0</td>\n",
       "      <td>Carlito's Way: Rise to Power</td>\n",
       "      <td>Jay Hernandez|Mario Van Peebles|Luis GuzmÃ¡n|S...</td>\n",
       "      <td>NaN</td>\n",
       "      <td>Michael Bregman</td>\n",
       "      <td>He Rose Up On The Bodies He Left Behind</td>\n",
       "      <td>puerto rican|gangster boss</td>\n",
       "      <td>Jay Hernandez (Friday Night Lights), Mario Van...</td>\n",
       "      <td>100</td>\n",
       "      <td>Action|Adventure|Drama|Thriller</td>\n",
       "      <td>Rogue Pictures</td>\n",
       "      <td>9/27/05</td>\n",
       "      <td>10</td>\n",
       "      <td>3.7</td>\n",
       "      <td>2005</td>\n",
       "      <td>1.004907e+07</td>\n",
       "      <td>0.000000</td>\n",
       "    </tr>\n",
       "  </tbody>\n",
       "</table>\n",
       "</div>"
      ],
      "text/plain": [
       "         imdb_id  popularity    budget  revenue                original_title  \\\n",
       "id                                                                              \n",
       "13910  tt0472071    0.405537  20000000     3561            Death Defying Acts   \n",
       "32084  tt1483831    0.140860         0        0                       Lebanon   \n",
       "12261  tt0427038    0.182135   9000000        0  Carlito's Way: Rise to Power   \n",
       "\n",
       "                                                    cast homepage  \\\n",
       "id                                                                  \n",
       "13910  Catherine Zeta-Jones|Guy Pearce|Timothy Spall|...      NaN   \n",
       "32084  Oshri Cohen|Michael Moshonov|Yoav Donat|Itay T...      NaN   \n",
       "12261  Jay Hernandez|Mario Van Peebles|Luis GuzmÃ¡n|S...      NaN   \n",
       "\n",
       "                director                                  tagline  \\\n",
       "id                                                                  \n",
       "13910  Gillian Armstrong                      There is no escape.   \n",
       "32084        Samuel Maoz                                      NaN   \n",
       "12261    Michael Bregman  He Rose Up On The Bodies He Left Behind   \n",
       "\n",
       "                                                keywords  \\\n",
       "id                                                         \n",
       "13910  scotland|escape artist|clairvoyant|woman direc...   \n",
       "32084                                                NaN   \n",
       "12261                         puerto rican|gangster boss   \n",
       "\n",
       "                                                overview  runtime  \\\n",
       "id                                                                  \n",
       "13910  On a tour of Britain in 1926, Harry Houdini en...       97   \n",
       "32084  June, 1982 - The First Lebanon War. A lone tan...       93   \n",
       "12261  Jay Hernandez (Friday Night Lights), Mario Van...      100   \n",
       "\n",
       "                                genres  \\\n",
       "id                                       \n",
       "13910                    Drama|Romance   \n",
       "32084                        Drama|War   \n",
       "12261  Action|Adventure|Drama|Thriller   \n",
       "\n",
       "                                    production_companies release_date  \\\n",
       "id                                                                      \n",
       "13910                                          BBC Films      9/13/07   \n",
       "32084  Paralite Productions Ltd.|Israeli Film Fund|To...     10/10/09   \n",
       "12261                                     Rogue Pictures      9/27/05   \n",
       "\n",
       "       vote_count  vote_average  release_year    budget_adj  revenue_adj  \n",
       "id                                                                        \n",
       "13910          31           5.4          2007  2.103337e+07  3744.991823  \n",
       "32084          24           6.0          2009  0.000000e+00     0.000000  \n",
       "12261          10           3.7          2005  1.004907e+07     0.000000  "
      ]
     },
     "execution_count": 2,
     "metadata": {},
     "output_type": "execute_result"
    }
   ],
   "source": [
    "df_tmdb = pd.read_csv('tmdb-movies.csv', index_col='id')\n",
    "df_tmdb.sample(3)"
   ]
  },
  {
   "cell_type": "markdown",
   "metadata": {},
   "source": [
    "Note that the final two columns ending with “_adj” show the budget and revenue of the associated movie in terms of 2010 dollars, accounting for inflation over time.\n"
   ]
  },
  {
   "cell_type": "code",
   "execution_count": 3,
   "metadata": {},
   "outputs": [
    {
     "name": "stdout",
     "output_type": "stream",
     "text": [
      "<class 'pandas.core.frame.DataFrame'>\n",
      "Int64Index: 10866 entries, 135397 to 22293\n",
      "Data columns (total 20 columns):\n",
      " #   Column                Non-Null Count  Dtype  \n",
      "---  ------                --------------  -----  \n",
      " 0   imdb_id               10856 non-null  object \n",
      " 1   popularity            10866 non-null  float64\n",
      " 2   budget                10866 non-null  int64  \n",
      " 3   revenue               10866 non-null  int64  \n",
      " 4   original_title        10866 non-null  object \n",
      " 5   cast                  10790 non-null  object \n",
      " 6   homepage              2936 non-null   object \n",
      " 7   director              10822 non-null  object \n",
      " 8   tagline               8042 non-null   object \n",
      " 9   keywords              9373 non-null   object \n",
      " 10  overview              10862 non-null  object \n",
      " 11  runtime               10866 non-null  int64  \n",
      " 12  genres                10843 non-null  object \n",
      " 13  production_companies  9836 non-null   object \n",
      " 14  release_date          10866 non-null  object \n",
      " 15  vote_count            10866 non-null  int64  \n",
      " 16  vote_average          10866 non-null  float64\n",
      " 17  release_year          10866 non-null  int64  \n",
      " 18  budget_adj            10866 non-null  float64\n",
      " 19  revenue_adj           10866 non-null  float64\n",
      "dtypes: float64(4), int64(5), object(11)\n",
      "memory usage: 1.7+ MB\n"
     ]
    }
   ],
   "source": [
    "df_tmdb.info()"
   ]
  },
  {
   "cell_type": "markdown",
   "metadata": {},
   "source": [
    "### IMDB Data"
   ]
  },
  {
   "cell_type": "markdown",
   "metadata": {},
   "source": [
    "To compare the TMDB ratings with the IMDB ratings, I tried first to scrape the data first using BeautifulSoup library, but the scraping process was taking more than 4 hours which was not efficient. \n",
    "\n",
    "Instead it was decided to better download it manualy from the following url:\n",
    "https://datasets.imdbws.com/ and then it can be read into a pandas Dataframe using the `read_csv` method with '\\t' as the separator since the downloaded files where in .tsv format.\n",
    "\n"
   ]
  },
  {
   "cell_type": "code",
   "execution_count": 4,
   "metadata": {},
   "outputs": [
    {
     "data": {
      "text/html": [
       "<div>\n",
       "<style scoped>\n",
       "    .dataframe tbody tr th:only-of-type {\n",
       "        vertical-align: middle;\n",
       "    }\n",
       "\n",
       "    .dataframe tbody tr th {\n",
       "        vertical-align: top;\n",
       "    }\n",
       "\n",
       "    .dataframe thead th {\n",
       "        text-align: right;\n",
       "    }\n",
       "</style>\n",
       "<table border=\"1\" class=\"dataframe\">\n",
       "  <thead>\n",
       "    <tr style=\"text-align: right;\">\n",
       "      <th></th>\n",
       "      <th>tconst</th>\n",
       "      <th>averageRating</th>\n",
       "      <th>numVotes</th>\n",
       "    </tr>\n",
       "  </thead>\n",
       "  <tbody>\n",
       "    <tr>\n",
       "      <th>0</th>\n",
       "      <td>tt0000001</td>\n",
       "      <td>5.7</td>\n",
       "      <td>1680</td>\n",
       "    </tr>\n",
       "    <tr>\n",
       "      <th>1</th>\n",
       "      <td>tt0000002</td>\n",
       "      <td>6.0</td>\n",
       "      <td>207</td>\n",
       "    </tr>\n",
       "    <tr>\n",
       "      <th>2</th>\n",
       "      <td>tt0000003</td>\n",
       "      <td>6.5</td>\n",
       "      <td>1418</td>\n",
       "    </tr>\n",
       "    <tr>\n",
       "      <th>3</th>\n",
       "      <td>tt0000004</td>\n",
       "      <td>6.1</td>\n",
       "      <td>122</td>\n",
       "    </tr>\n",
       "    <tr>\n",
       "      <th>4</th>\n",
       "      <td>tt0000005</td>\n",
       "      <td>6.1</td>\n",
       "      <td>2214</td>\n",
       "    </tr>\n",
       "  </tbody>\n",
       "</table>\n",
       "</div>"
      ],
      "text/plain": [
       "      tconst  averageRating  numVotes\n",
       "0  tt0000001            5.7      1680\n",
       "1  tt0000002            6.0       207\n",
       "2  tt0000003            6.5      1418\n",
       "3  tt0000004            6.1       122\n",
       "4  tt0000005            6.1      2214"
      ]
     },
     "execution_count": 4,
     "metadata": {},
     "output_type": "execute_result"
    }
   ],
   "source": [
    "df_imdb = pd.read_csv('title.ratings.tsv', sep='\\t')\n",
    "\n",
    "df_imdb.head()"
   ]
  },
  {
   "cell_type": "markdown",
   "metadata": {},
   "source": [
    "## 1.2 Assessing"
   ]
  },
  {
   "cell_type": "markdown",
   "metadata": {},
   "source": [
    "We first check if there's any duplicated values in the `df_tmdb` DataFrame."
   ]
  },
  {
   "cell_type": "code",
   "execution_count": 5,
   "metadata": {
    "scrolled": true
   },
   "outputs": [
    {
     "data": {
      "text/html": [
       "<div>\n",
       "<style scoped>\n",
       "    .dataframe tbody tr th:only-of-type {\n",
       "        vertical-align: middle;\n",
       "    }\n",
       "\n",
       "    .dataframe tbody tr th {\n",
       "        vertical-align: top;\n",
       "    }\n",
       "\n",
       "    .dataframe thead th {\n",
       "        text-align: right;\n",
       "    }\n",
       "</style>\n",
       "<table border=\"1\" class=\"dataframe\">\n",
       "  <thead>\n",
       "    <tr style=\"text-align: right;\">\n",
       "      <th></th>\n",
       "      <th>imdb_id</th>\n",
       "      <th>popularity</th>\n",
       "      <th>budget</th>\n",
       "      <th>revenue</th>\n",
       "      <th>original_title</th>\n",
       "      <th>cast</th>\n",
       "      <th>homepage</th>\n",
       "      <th>director</th>\n",
       "      <th>tagline</th>\n",
       "      <th>keywords</th>\n",
       "      <th>overview</th>\n",
       "      <th>runtime</th>\n",
       "      <th>genres</th>\n",
       "      <th>production_companies</th>\n",
       "      <th>release_date</th>\n",
       "      <th>vote_count</th>\n",
       "      <th>vote_average</th>\n",
       "      <th>release_year</th>\n",
       "      <th>budget_adj</th>\n",
       "      <th>revenue_adj</th>\n",
       "    </tr>\n",
       "    <tr>\n",
       "      <th>id</th>\n",
       "      <th></th>\n",
       "      <th></th>\n",
       "      <th></th>\n",
       "      <th></th>\n",
       "      <th></th>\n",
       "      <th></th>\n",
       "      <th></th>\n",
       "      <th></th>\n",
       "      <th></th>\n",
       "      <th></th>\n",
       "      <th></th>\n",
       "      <th></th>\n",
       "      <th></th>\n",
       "      <th></th>\n",
       "      <th></th>\n",
       "      <th></th>\n",
       "      <th></th>\n",
       "      <th></th>\n",
       "      <th></th>\n",
       "      <th></th>\n",
       "    </tr>\n",
       "  </thead>\n",
       "  <tbody>\n",
       "    <tr>\n",
       "      <th>42194</th>\n",
       "      <td>tt0411951</td>\n",
       "      <td>0.59643</td>\n",
       "      <td>30000000</td>\n",
       "      <td>967000</td>\n",
       "      <td>TEKKEN</td>\n",
       "      <td>Jon Foo|Kelly Overton|Cary-Hiroyuki Tagawa|Ian...</td>\n",
       "      <td>NaN</td>\n",
       "      <td>Dwight H. Little</td>\n",
       "      <td>Survival is no game</td>\n",
       "      <td>martial arts|dystopia|based on video game|mart...</td>\n",
       "      <td>In the year of 2039, after World Wars destroy ...</td>\n",
       "      <td>92</td>\n",
       "      <td>Crime|Drama|Action|Thriller|Science Fiction</td>\n",
       "      <td>Namco|Light Song Films</td>\n",
       "      <td>3/20/10</td>\n",
       "      <td>110</td>\n",
       "      <td>5.0</td>\n",
       "      <td>2010</td>\n",
       "      <td>30000000.0</td>\n",
       "      <td>967000.0</td>\n",
       "    </tr>\n",
       "  </tbody>\n",
       "</table>\n",
       "</div>"
      ],
      "text/plain": [
       "         imdb_id  popularity    budget  revenue original_title  \\\n",
       "id                                                               \n",
       "42194  tt0411951     0.59643  30000000   967000         TEKKEN   \n",
       "\n",
       "                                                    cast homepage  \\\n",
       "id                                                                  \n",
       "42194  Jon Foo|Kelly Overton|Cary-Hiroyuki Tagawa|Ian...      NaN   \n",
       "\n",
       "               director              tagline  \\\n",
       "id                                             \n",
       "42194  Dwight H. Little  Survival is no game   \n",
       "\n",
       "                                                keywords  \\\n",
       "id                                                         \n",
       "42194  martial arts|dystopia|based on video game|mart...   \n",
       "\n",
       "                                                overview  runtime  \\\n",
       "id                                                                  \n",
       "42194  In the year of 2039, after World Wars destroy ...       92   \n",
       "\n",
       "                                            genres    production_companies  \\\n",
       "id                                                                           \n",
       "42194  Crime|Drama|Action|Thriller|Science Fiction  Namco|Light Song Films   \n",
       "\n",
       "      release_date  vote_count  vote_average  release_year  budget_adj  \\\n",
       "id                                                                       \n",
       "42194      3/20/10         110           5.0          2010  30000000.0   \n",
       "\n",
       "       revenue_adj  \n",
       "id                  \n",
       "42194     967000.0  "
      ]
     },
     "execution_count": 5,
     "metadata": {},
     "output_type": "execute_result"
    }
   ],
   "source": [
    "df_tmdb[df_tmdb.duplicated()]"
   ]
  },
  {
   "cell_type": "code",
   "execution_count": 6,
   "metadata": {},
   "outputs": [
    {
     "data": {
      "text/html": [
       "<div>\n",
       "<style scoped>\n",
       "    .dataframe tbody tr th:only-of-type {\n",
       "        vertical-align: middle;\n",
       "    }\n",
       "\n",
       "    .dataframe tbody tr th {\n",
       "        vertical-align: top;\n",
       "    }\n",
       "\n",
       "    .dataframe thead th {\n",
       "        text-align: right;\n",
       "    }\n",
       "</style>\n",
       "<table border=\"1\" class=\"dataframe\">\n",
       "  <thead>\n",
       "    <tr style=\"text-align: right;\">\n",
       "      <th></th>\n",
       "      <th>imdb_id</th>\n",
       "      <th>popularity</th>\n",
       "      <th>budget</th>\n",
       "      <th>revenue</th>\n",
       "      <th>original_title</th>\n",
       "      <th>cast</th>\n",
       "      <th>homepage</th>\n",
       "      <th>director</th>\n",
       "      <th>tagline</th>\n",
       "      <th>keywords</th>\n",
       "      <th>overview</th>\n",
       "      <th>runtime</th>\n",
       "      <th>genres</th>\n",
       "      <th>production_companies</th>\n",
       "      <th>release_date</th>\n",
       "      <th>vote_count</th>\n",
       "      <th>vote_average</th>\n",
       "      <th>release_year</th>\n",
       "      <th>budget_adj</th>\n",
       "      <th>revenue_adj</th>\n",
       "    </tr>\n",
       "    <tr>\n",
       "      <th>id</th>\n",
       "      <th></th>\n",
       "      <th></th>\n",
       "      <th></th>\n",
       "      <th></th>\n",
       "      <th></th>\n",
       "      <th></th>\n",
       "      <th></th>\n",
       "      <th></th>\n",
       "      <th></th>\n",
       "      <th></th>\n",
       "      <th></th>\n",
       "      <th></th>\n",
       "      <th></th>\n",
       "      <th></th>\n",
       "      <th></th>\n",
       "      <th></th>\n",
       "      <th></th>\n",
       "      <th></th>\n",
       "      <th></th>\n",
       "      <th></th>\n",
       "    </tr>\n",
       "  </thead>\n",
       "  <tbody>\n",
       "    <tr>\n",
       "      <th>42194</th>\n",
       "      <td>tt0411951</td>\n",
       "      <td>0.59643</td>\n",
       "      <td>30000000</td>\n",
       "      <td>967000</td>\n",
       "      <td>TEKKEN</td>\n",
       "      <td>Jon Foo|Kelly Overton|Cary-Hiroyuki Tagawa|Ian...</td>\n",
       "      <td>NaN</td>\n",
       "      <td>Dwight H. Little</td>\n",
       "      <td>Survival is no game</td>\n",
       "      <td>martial arts|dystopia|based on video game|mart...</td>\n",
       "      <td>In the year of 2039, after World Wars destroy ...</td>\n",
       "      <td>92</td>\n",
       "      <td>Crime|Drama|Action|Thriller|Science Fiction</td>\n",
       "      <td>Namco|Light Song Films</td>\n",
       "      <td>3/20/10</td>\n",
       "      <td>110</td>\n",
       "      <td>5.0</td>\n",
       "      <td>2010</td>\n",
       "      <td>30000000.0</td>\n",
       "      <td>967000.0</td>\n",
       "    </tr>\n",
       "    <tr>\n",
       "      <th>42194</th>\n",
       "      <td>tt0411951</td>\n",
       "      <td>0.59643</td>\n",
       "      <td>30000000</td>\n",
       "      <td>967000</td>\n",
       "      <td>TEKKEN</td>\n",
       "      <td>Jon Foo|Kelly Overton|Cary-Hiroyuki Tagawa|Ian...</td>\n",
       "      <td>NaN</td>\n",
       "      <td>Dwight H. Little</td>\n",
       "      <td>Survival is no game</td>\n",
       "      <td>martial arts|dystopia|based on video game|mart...</td>\n",
       "      <td>In the year of 2039, after World Wars destroy ...</td>\n",
       "      <td>92</td>\n",
       "      <td>Crime|Drama|Action|Thriller|Science Fiction</td>\n",
       "      <td>Namco|Light Song Films</td>\n",
       "      <td>3/20/10</td>\n",
       "      <td>110</td>\n",
       "      <td>5.0</td>\n",
       "      <td>2010</td>\n",
       "      <td>30000000.0</td>\n",
       "      <td>967000.0</td>\n",
       "    </tr>\n",
       "  </tbody>\n",
       "</table>\n",
       "</div>"
      ],
      "text/plain": [
       "         imdb_id  popularity    budget  revenue original_title  \\\n",
       "id                                                               \n",
       "42194  tt0411951     0.59643  30000000   967000         TEKKEN   \n",
       "42194  tt0411951     0.59643  30000000   967000         TEKKEN   \n",
       "\n",
       "                                                    cast homepage  \\\n",
       "id                                                                  \n",
       "42194  Jon Foo|Kelly Overton|Cary-Hiroyuki Tagawa|Ian...      NaN   \n",
       "42194  Jon Foo|Kelly Overton|Cary-Hiroyuki Tagawa|Ian...      NaN   \n",
       "\n",
       "               director              tagline  \\\n",
       "id                                             \n",
       "42194  Dwight H. Little  Survival is no game   \n",
       "42194  Dwight H. Little  Survival is no game   \n",
       "\n",
       "                                                keywords  \\\n",
       "id                                                         \n",
       "42194  martial arts|dystopia|based on video game|mart...   \n",
       "42194  martial arts|dystopia|based on video game|mart...   \n",
       "\n",
       "                                                overview  runtime  \\\n",
       "id                                                                  \n",
       "42194  In the year of 2039, after World Wars destroy ...       92   \n",
       "42194  In the year of 2039, after World Wars destroy ...       92   \n",
       "\n",
       "                                            genres    production_companies  \\\n",
       "id                                                                           \n",
       "42194  Crime|Drama|Action|Thriller|Science Fiction  Namco|Light Song Films   \n",
       "42194  Crime|Drama|Action|Thriller|Science Fiction  Namco|Light Song Films   \n",
       "\n",
       "      release_date  vote_count  vote_average  release_year  budget_adj  \\\n",
       "id                                                                       \n",
       "42194      3/20/10         110           5.0          2010  30000000.0   \n",
       "42194      3/20/10         110           5.0          2010  30000000.0   \n",
       "\n",
       "       revenue_adj  \n",
       "id                  \n",
       "42194     967000.0  \n",
       "42194     967000.0  "
      ]
     },
     "execution_count": 6,
     "metadata": {},
     "output_type": "execute_result"
    }
   ],
   "source": [
    "df_tmdb[df_tmdb['original_title'] == 'TEKKEN']"
   ]
  },
  {
   "cell_type": "markdown",
   "metadata": {},
   "source": [
    "Only one row is duplicated which is the title 'TEKKEN' with the exact same data.So, it can be safely removed later."
   ]
  },
  {
   "cell_type": "code",
   "execution_count": 7,
   "metadata": {
    "scrolled": true
   },
   "outputs": [
    {
     "data": {
      "text/plain": [
       "imdb_id                   10\n",
       "popularity                 0\n",
       "budget                     0\n",
       "revenue                    0\n",
       "original_title             0\n",
       "cast                      76\n",
       "homepage                7930\n",
       "director                  44\n",
       "tagline                 2824\n",
       "keywords                1493\n",
       "overview                   4\n",
       "runtime                    0\n",
       "genres                    23\n",
       "production_companies    1030\n",
       "release_date               0\n",
       "vote_count                 0\n",
       "vote_average               0\n",
       "release_year               0\n",
       "budget_adj                 0\n",
       "revenue_adj                0\n",
       "dtype: int64"
      ]
     },
     "execution_count": 7,
     "metadata": {},
     "output_type": "execute_result"
    }
   ],
   "source": [
    "df_tmdb.isnull().sum()"
   ]
  },
  {
   "cell_type": "markdown",
   "metadata": {},
   "source": [
    "The columns 'imdb_id', 'cast', 'homepage', 'director', 'tagline', 'keywords', 'overview', 'genres' and 'production_companies' have Null values."
   ]
  },
  {
   "cell_type": "code",
   "execution_count": 8,
   "metadata": {},
   "outputs": [
    {
     "data": {
      "text/html": [
       "<div>\n",
       "<style scoped>\n",
       "    .dataframe tbody tr th:only-of-type {\n",
       "        vertical-align: middle;\n",
       "    }\n",
       "\n",
       "    .dataframe tbody tr th {\n",
       "        vertical-align: top;\n",
       "    }\n",
       "\n",
       "    .dataframe thead th {\n",
       "        text-align: right;\n",
       "    }\n",
       "</style>\n",
       "<table border=\"1\" class=\"dataframe\">\n",
       "  <thead>\n",
       "    <tr style=\"text-align: right;\">\n",
       "      <th></th>\n",
       "      <th>popularity</th>\n",
       "      <th>budget</th>\n",
       "      <th>revenue</th>\n",
       "      <th>runtime</th>\n",
       "      <th>vote_count</th>\n",
       "      <th>vote_average</th>\n",
       "      <th>release_year</th>\n",
       "      <th>budget_adj</th>\n",
       "      <th>revenue_adj</th>\n",
       "    </tr>\n",
       "  </thead>\n",
       "  <tbody>\n",
       "    <tr>\n",
       "      <th>count</th>\n",
       "      <td>10866.000000</td>\n",
       "      <td>1.086600e+04</td>\n",
       "      <td>1.086600e+04</td>\n",
       "      <td>10866.000000</td>\n",
       "      <td>10866.000000</td>\n",
       "      <td>10866.000000</td>\n",
       "      <td>10866.000000</td>\n",
       "      <td>1.086600e+04</td>\n",
       "      <td>1.086600e+04</td>\n",
       "    </tr>\n",
       "    <tr>\n",
       "      <th>mean</th>\n",
       "      <td>0.646441</td>\n",
       "      <td>1.462570e+07</td>\n",
       "      <td>3.982332e+07</td>\n",
       "      <td>102.070863</td>\n",
       "      <td>217.389748</td>\n",
       "      <td>5.974922</td>\n",
       "      <td>2001.322658</td>\n",
       "      <td>1.755104e+07</td>\n",
       "      <td>5.136436e+07</td>\n",
       "    </tr>\n",
       "    <tr>\n",
       "      <th>std</th>\n",
       "      <td>1.000185</td>\n",
       "      <td>3.091321e+07</td>\n",
       "      <td>1.170035e+08</td>\n",
       "      <td>31.381405</td>\n",
       "      <td>575.619058</td>\n",
       "      <td>0.935142</td>\n",
       "      <td>12.812941</td>\n",
       "      <td>3.430616e+07</td>\n",
       "      <td>1.446325e+08</td>\n",
       "    </tr>\n",
       "    <tr>\n",
       "      <th>min</th>\n",
       "      <td>0.000065</td>\n",
       "      <td>0.000000e+00</td>\n",
       "      <td>0.000000e+00</td>\n",
       "      <td>0.000000</td>\n",
       "      <td>10.000000</td>\n",
       "      <td>1.500000</td>\n",
       "      <td>1960.000000</td>\n",
       "      <td>0.000000e+00</td>\n",
       "      <td>0.000000e+00</td>\n",
       "    </tr>\n",
       "    <tr>\n",
       "      <th>25%</th>\n",
       "      <td>0.207583</td>\n",
       "      <td>0.000000e+00</td>\n",
       "      <td>0.000000e+00</td>\n",
       "      <td>90.000000</td>\n",
       "      <td>17.000000</td>\n",
       "      <td>5.400000</td>\n",
       "      <td>1995.000000</td>\n",
       "      <td>0.000000e+00</td>\n",
       "      <td>0.000000e+00</td>\n",
       "    </tr>\n",
       "    <tr>\n",
       "      <th>50%</th>\n",
       "      <td>0.383856</td>\n",
       "      <td>0.000000e+00</td>\n",
       "      <td>0.000000e+00</td>\n",
       "      <td>99.000000</td>\n",
       "      <td>38.000000</td>\n",
       "      <td>6.000000</td>\n",
       "      <td>2006.000000</td>\n",
       "      <td>0.000000e+00</td>\n",
       "      <td>0.000000e+00</td>\n",
       "    </tr>\n",
       "    <tr>\n",
       "      <th>75%</th>\n",
       "      <td>0.713817</td>\n",
       "      <td>1.500000e+07</td>\n",
       "      <td>2.400000e+07</td>\n",
       "      <td>111.000000</td>\n",
       "      <td>145.750000</td>\n",
       "      <td>6.600000</td>\n",
       "      <td>2011.000000</td>\n",
       "      <td>2.085325e+07</td>\n",
       "      <td>3.369710e+07</td>\n",
       "    </tr>\n",
       "    <tr>\n",
       "      <th>max</th>\n",
       "      <td>32.985763</td>\n",
       "      <td>4.250000e+08</td>\n",
       "      <td>2.781506e+09</td>\n",
       "      <td>900.000000</td>\n",
       "      <td>9767.000000</td>\n",
       "      <td>9.200000</td>\n",
       "      <td>2015.000000</td>\n",
       "      <td>4.250000e+08</td>\n",
       "      <td>2.827124e+09</td>\n",
       "    </tr>\n",
       "  </tbody>\n",
       "</table>\n",
       "</div>"
      ],
      "text/plain": [
       "         popularity        budget       revenue       runtime    vote_count  \\\n",
       "count  10866.000000  1.086600e+04  1.086600e+04  10866.000000  10866.000000   \n",
       "mean       0.646441  1.462570e+07  3.982332e+07    102.070863    217.389748   \n",
       "std        1.000185  3.091321e+07  1.170035e+08     31.381405    575.619058   \n",
       "min        0.000065  0.000000e+00  0.000000e+00      0.000000     10.000000   \n",
       "25%        0.207583  0.000000e+00  0.000000e+00     90.000000     17.000000   \n",
       "50%        0.383856  0.000000e+00  0.000000e+00     99.000000     38.000000   \n",
       "75%        0.713817  1.500000e+07  2.400000e+07    111.000000    145.750000   \n",
       "max       32.985763  4.250000e+08  2.781506e+09    900.000000   9767.000000   \n",
       "\n",
       "       vote_average  release_year    budget_adj   revenue_adj  \n",
       "count  10866.000000  10866.000000  1.086600e+04  1.086600e+04  \n",
       "mean       5.974922   2001.322658  1.755104e+07  5.136436e+07  \n",
       "std        0.935142     12.812941  3.430616e+07  1.446325e+08  \n",
       "min        1.500000   1960.000000  0.000000e+00  0.000000e+00  \n",
       "25%        5.400000   1995.000000  0.000000e+00  0.000000e+00  \n",
       "50%        6.000000   2006.000000  0.000000e+00  0.000000e+00  \n",
       "75%        6.600000   2011.000000  2.085325e+07  3.369710e+07  \n",
       "max        9.200000   2015.000000  4.250000e+08  2.827124e+09  "
      ]
     },
     "execution_count": 8,
     "metadata": {},
     "output_type": "execute_result"
    }
   ],
   "source": [
    "df_tmdb.describe()"
   ]
  },
  {
   "cell_type": "markdown",
   "metadata": {},
   "source": [
    "Investigating the table above, we can see from the min row that the `budget`, `revenue`, `runtime`, `budget_adj` and `revenue_adj` contain zero values."
   ]
  },
  {
   "cell_type": "code",
   "execution_count": 9,
   "metadata": {},
   "outputs": [
    {
     "data": {
      "text/plain": [
       "(7011, 20)"
      ]
     },
     "execution_count": 9,
     "metadata": {},
     "output_type": "execute_result"
    }
   ],
   "source": [
    "# check for entries where budget or revenue equals 0\n",
    "df_tmdb.query(\n",
    "    'budget == 0 or revenue == 0 or budget_adj == 0 or revenue_adj == 0 or runtime == 0').shape"
   ]
  },
  {
   "cell_type": "markdown",
   "metadata": {},
   "source": [
    "7011 rows have 0 budget or revenue or 0 runtime."
   ]
  },
  {
   "cell_type": "code",
   "execution_count": 10,
   "metadata": {},
   "outputs": [
    {
     "data": {
      "text/plain": [
       "imdb_id                  object\n",
       "popularity              float64\n",
       "budget                    int64\n",
       "revenue                   int64\n",
       "original_title           object\n",
       "cast                     object\n",
       "homepage                 object\n",
       "director                 object\n",
       "tagline                  object\n",
       "keywords                 object\n",
       "overview                 object\n",
       "runtime                   int64\n",
       "genres                   object\n",
       "production_companies     object\n",
       "release_date             object\n",
       "vote_count                int64\n",
       "vote_average            float64\n",
       "release_year              int64\n",
       "budget_adj              float64\n",
       "revenue_adj             float64\n",
       "dtype: object"
      ]
     },
     "execution_count": 10,
     "metadata": {},
     "output_type": "execute_result"
    }
   ],
   "source": [
    "df_tmdb.dtypes"
   ]
  },
  {
   "cell_type": "markdown",
   "metadata": {},
   "source": [
    "We also need to investigate the data from IMDB ratings."
   ]
  },
  {
   "cell_type": "code",
   "execution_count": 11,
   "metadata": {},
   "outputs": [
    {
     "name": "stdout",
     "output_type": "stream",
     "text": [
      "<class 'pandas.core.frame.DataFrame'>\n",
      "RangeIndex: 1123371 entries, 0 to 1123370\n",
      "Data columns (total 3 columns):\n",
      " #   Column         Non-Null Count    Dtype  \n",
      "---  ------         --------------    -----  \n",
      " 0   tconst         1123371 non-null  object \n",
      " 1   averageRating  1123371 non-null  float64\n",
      " 2   numVotes       1123371 non-null  int64  \n",
      "dtypes: float64(1), int64(1), object(1)\n",
      "memory usage: 25.7+ MB\n"
     ]
    }
   ],
   "source": [
    "df_imdb.info()"
   ]
  },
  {
   "cell_type": "markdown",
   "metadata": {},
   "source": [
    "The `df_imdb` dataframe contains the right vriable types. but will need to be merged with the TMDB data for analysis.\n",
    "\n",
    "Also, the columns' names will need to be adjusted to be easily merged later on."
   ]
  },
  {
   "cell_type": "markdown",
   "metadata": {},
   "source": [
    "### Quality Issues\n",
    "\n",
    "1. missing data in the following columns: `imdb_id`, `cast`, `homepage`, `director`, `tagline`, `keywords`, `overview`,  `genres` and `production_companies`\n",
    "2. Zero values found in columns: `budget`, `revenue`, `budget_adj`, `revenue_adj` and `runtime`.\n",
    "3. The columns `cast`, `keywords` `genres` and `production_companies` contains strings separated by '|' instead of a list of items.\n",
    "4. `release_date` column is of type string instead of datetime. \n",
    "\n",
    "### Tidiness Issues\n",
    "1. The columns `cast`, `keywords` `genres` and `production_companies` values exist as one entry. Needs adjustments to be able to analyze each cast member, keyword, genre or production company separately.\n",
    "2. The IMDB DataFrame should be merged with the original TMDB DataFrame so that every row represent an observation."
   ]
  },
  {
   "cell_type": "markdown",
   "metadata": {},
   "source": [
    "## 1.3 Cleaning"
   ]
  },
  {
   "cell_type": "markdown",
   "metadata": {},
   "source": [
    "#### Define\n",
    "\n",
    "- Remove Duplicates using pandas `drop_duplicates` function.\n",
    "\n",
    "#### Code"
   ]
  },
  {
   "cell_type": "code",
   "execution_count": 12,
   "metadata": {},
   "outputs": [],
   "source": [
    "df_clean = df_tmdb.drop_duplicates()"
   ]
  },
  {
   "cell_type": "markdown",
   "metadata": {},
   "source": [
    "#### Test"
   ]
  },
  {
   "cell_type": "code",
   "execution_count": 13,
   "metadata": {},
   "outputs": [
    {
     "data": {
      "text/plain": [
       "False"
      ]
     },
     "execution_count": 13,
     "metadata": {},
     "output_type": "execute_result"
    }
   ],
   "source": [
    "df_clean.duplicated().any()"
   ]
  },
  {
   "cell_type": "markdown",
   "metadata": {},
   "source": [
    "#### Define\n",
    "\n",
    "Drop the columns that are not relevant to our analysis which are: `homepage`, `tagline`, `overview`.\n",
    "\n",
    "#### Code"
   ]
  },
  {
   "cell_type": "code",
   "execution_count": 14,
   "metadata": {},
   "outputs": [],
   "source": [
    "df_clean = df_tmdb.drop(\n",
    "    ['homepage', 'tagline', 'overview'], axis=1)"
   ]
  },
  {
   "cell_type": "markdown",
   "metadata": {},
   "source": [
    "#### Test"
   ]
  },
  {
   "cell_type": "code",
   "execution_count": 15,
   "metadata": {
    "scrolled": true
   },
   "outputs": [
    {
     "data": {
      "text/plain": [
       "Index(['imdb_id', 'popularity', 'budget', 'revenue', 'original_title', 'cast',\n",
       "       'director', 'keywords', 'runtime', 'genres', 'production_companies',\n",
       "       'release_date', 'vote_count', 'vote_average', 'release_year',\n",
       "       'budget_adj', 'revenue_adj'],\n",
       "      dtype='object')"
      ]
     },
     "execution_count": 15,
     "metadata": {},
     "output_type": "execute_result"
    }
   ],
   "source": [
    "df_clean.columns"
   ]
  },
  {
   "cell_type": "markdown",
   "metadata": {},
   "source": [
    "#### Define\n",
    "\n",
    "Splitting the  `cast`, `keywords`, `genres` and `production_companies` columns using the str.split function with '|' as the separator.\n",
    "\n",
    "Then we collect the unique values in all the columns by defining a custom function `to_1D` that converts the multi-dimensional arrays into one dimension and then getting the value counts of each column. as we will need these values later for our analysis.\n",
    "\n",
    "#### Code"
   ]
  },
  {
   "cell_type": "code",
   "execution_count": 16,
   "metadata": {
    "scrolled": true
   },
   "outputs": [],
   "source": [
    "# the columns to split\n",
    "cols = ['cast', 'keywords', 'genres', 'production_companies']\n",
    "# a dictionary to store unique values of each column\n",
    "unique = {}\n",
    "\n",
    "\n",
    "def to_1D(series):\n",
    "    \"\"\"\n",
    "    converts a 2D series to a 1D series\n",
    "    \"\"\"\n",
    "    return pd.Series([x for _list in series for x in _list], dtype='object')\n",
    "\n",
    "\n",
    "for col in cols:\n",
    "    df_clean[col] = df_clean[col].str.split('|')\n",
    "    unique[col] = to_1D(df_clean[col].dropna()).value_counts().index"
   ]
  },
  {
   "cell_type": "markdown",
   "metadata": {},
   "source": [
    "#### Test"
   ]
  },
  {
   "cell_type": "code",
   "execution_count": 17,
   "metadata": {},
   "outputs": [
    {
     "data": {
      "text/html": [
       "<div>\n",
       "<style scoped>\n",
       "    .dataframe tbody tr th:only-of-type {\n",
       "        vertical-align: middle;\n",
       "    }\n",
       "\n",
       "    .dataframe tbody tr th {\n",
       "        vertical-align: top;\n",
       "    }\n",
       "\n",
       "    .dataframe thead th {\n",
       "        text-align: right;\n",
       "    }\n",
       "</style>\n",
       "<table border=\"1\" class=\"dataframe\">\n",
       "  <thead>\n",
       "    <tr style=\"text-align: right;\">\n",
       "      <th></th>\n",
       "      <th>imdb_id</th>\n",
       "      <th>popularity</th>\n",
       "      <th>budget</th>\n",
       "      <th>revenue</th>\n",
       "      <th>original_title</th>\n",
       "      <th>cast</th>\n",
       "      <th>director</th>\n",
       "      <th>keywords</th>\n",
       "      <th>runtime</th>\n",
       "      <th>genres</th>\n",
       "      <th>production_companies</th>\n",
       "      <th>release_date</th>\n",
       "      <th>vote_count</th>\n",
       "      <th>vote_average</th>\n",
       "      <th>release_year</th>\n",
       "      <th>budget_adj</th>\n",
       "      <th>revenue_adj</th>\n",
       "    </tr>\n",
       "    <tr>\n",
       "      <th>id</th>\n",
       "      <th></th>\n",
       "      <th></th>\n",
       "      <th></th>\n",
       "      <th></th>\n",
       "      <th></th>\n",
       "      <th></th>\n",
       "      <th></th>\n",
       "      <th></th>\n",
       "      <th></th>\n",
       "      <th></th>\n",
       "      <th></th>\n",
       "      <th></th>\n",
       "      <th></th>\n",
       "      <th></th>\n",
       "      <th></th>\n",
       "      <th></th>\n",
       "      <th></th>\n",
       "    </tr>\n",
       "  </thead>\n",
       "  <tbody>\n",
       "    <tr>\n",
       "      <th>111479</th>\n",
       "      <td>tt1786751</td>\n",
       "      <td>0.402249</td>\n",
       "      <td>0</td>\n",
       "      <td>40400</td>\n",
       "      <td>CBGB</td>\n",
       "      <td>[Alan Rickman, Rupert Grint, Malin Ã…kerman, J...</td>\n",
       "      <td>Randall Miller</td>\n",
       "      <td>[night life, music, punk rock, ramones, nyc]</td>\n",
       "      <td>101</td>\n",
       "      <td>[Drama, Music]</td>\n",
       "      <td>[Rampart Films, Unclaimed Freight Productions]</td>\n",
       "      <td>10/11/13</td>\n",
       "      <td>28</td>\n",
       "      <td>6.2</td>\n",
       "      <td>2013</td>\n",
       "      <td>0.000000e+00</td>\n",
       "      <td>37815.747451</td>\n",
       "    </tr>\n",
       "    <tr>\n",
       "      <th>75345</th>\n",
       "      <td>tt1691920</td>\n",
       "      <td>0.263732</td>\n",
       "      <td>0</td>\n",
       "      <td>0</td>\n",
       "      <td>I Melt with You</td>\n",
       "      <td>[Thomas Jane, Jeremy Piven, Rob Lowe, Christia...</td>\n",
       "      <td>Mark Pellington</td>\n",
       "      <td>[suicide, alcohol, pill]</td>\n",
       "      <td>129</td>\n",
       "      <td>[Drama, Thriller]</td>\n",
       "      <td>NaN</td>\n",
       "      <td>12/9/11</td>\n",
       "      <td>17</td>\n",
       "      <td>5.9</td>\n",
       "      <td>2011</td>\n",
       "      <td>0.000000e+00</td>\n",
       "      <td>0.000000</td>\n",
       "    </tr>\n",
       "    <tr>\n",
       "      <th>225564</th>\n",
       "      <td>tt2319018</td>\n",
       "      <td>0.016326</td>\n",
       "      <td>1400000</td>\n",
       "      <td>0</td>\n",
       "      <td>100% Cachemire</td>\n",
       "      <td>[ValÃ©rie Lemercier, Gilles Lellouche, Marina ...</td>\n",
       "      <td>ValÃ©rie Lemercier</td>\n",
       "      <td>[woman director]</td>\n",
       "      <td>98</td>\n",
       "      <td>[Comedy]</td>\n",
       "      <td>[Rectangle Productions., Scope Pictures]</td>\n",
       "      <td>12/11/13</td>\n",
       "      <td>33</td>\n",
       "      <td>5.0</td>\n",
       "      <td>2013</td>\n",
       "      <td>1.310447e+06</td>\n",
       "      <td>0.000000</td>\n",
       "    </tr>\n",
       "  </tbody>\n",
       "</table>\n",
       "</div>"
      ],
      "text/plain": [
       "          imdb_id  popularity   budget  revenue   original_title  \\\n",
       "id                                                                 \n",
       "111479  tt1786751    0.402249        0    40400             CBGB   \n",
       "75345   tt1691920    0.263732        0        0  I Melt with You   \n",
       "225564  tt2319018    0.016326  1400000        0   100% Cachemire   \n",
       "\n",
       "                                                     cast            director  \\\n",
       "id                                                                              \n",
       "111479  [Alan Rickman, Rupert Grint, Malin Ã…kerman, J...      Randall Miller   \n",
       "75345   [Thomas Jane, Jeremy Piven, Rob Lowe, Christia...     Mark Pellington   \n",
       "225564  [ValÃ©rie Lemercier, Gilles Lellouche, Marina ...  ValÃ©rie Lemercier   \n",
       "\n",
       "                                            keywords  runtime  \\\n",
       "id                                                              \n",
       "111479  [night life, music, punk rock, ramones, nyc]      101   \n",
       "75345                       [suicide, alcohol, pill]      129   \n",
       "225564                              [woman director]       98   \n",
       "\n",
       "                   genres                            production_companies  \\\n",
       "id                                                                          \n",
       "111479     [Drama, Music]  [Rampart Films, Unclaimed Freight Productions]   \n",
       "75345   [Drama, Thriller]                                             NaN   \n",
       "225564           [Comedy]        [Rectangle Productions., Scope Pictures]   \n",
       "\n",
       "       release_date  vote_count  vote_average  release_year    budget_adj  \\\n",
       "id                                                                          \n",
       "111479     10/11/13          28           6.2          2013  0.000000e+00   \n",
       "75345       12/9/11          17           5.9          2011  0.000000e+00   \n",
       "225564     12/11/13          33           5.0          2013  1.310447e+06   \n",
       "\n",
       "         revenue_adj  \n",
       "id                    \n",
       "111479  37815.747451  \n",
       "75345       0.000000  \n",
       "225564      0.000000  "
      ]
     },
     "execution_count": 17,
     "metadata": {},
     "output_type": "execute_result"
    }
   ],
   "source": [
    "df_clean.sample(3)"
   ]
  },
  {
   "cell_type": "code",
   "execution_count": 18,
   "metadata": {},
   "outputs": [
    {
     "data": {
      "text/plain": [
       "{'cast': Index(['Robert De Niro', 'Samuel L. Jackson', 'Bruce Willis', 'Nicolas Cage',\n",
       "        'Michael Caine', 'Robin Williams', 'John Cusack', 'John Goodman',\n",
       "        'Morgan Freeman', 'Susan Sarandon',\n",
       "        ...\n",
       "        'Jennifer Lien', 'Michael Arden', 'David Wain', 'Jan Munroe',\n",
       "        'Lennard Kuras', 'Gautam Belur', 'Sean Fox', 'Rita Renoir',\n",
       "        'Joan Blondell', 'Kim Bodnia'],\n",
       "       dtype='object', length=19026),\n",
       " 'keywords': Index(['woman director', 'independent film', 'based on novel', 'sex', 'sport',\n",
       "        'murder', 'musical', 'biography', 'new york', 'suspense',\n",
       "        ...\n",
       "        'discworld', 'spiritual journey', 'canadian army', 'fire escape',\n",
       "        'ice cream parlor', 'arrow catching', 'charlie brown',\n",
       "        'hit with a rock', 'textile worker', 'caste system'],\n",
       "       dtype='object', length=7878),\n",
       " 'genres': Index(['Drama', 'Comedy', 'Thriller', 'Action', 'Romance', 'Horror',\n",
       "        'Adventure', 'Crime', 'Family', 'Science Fiction', 'Fantasy', 'Mystery',\n",
       "        'Animation', 'Documentary', 'Music', 'History', 'War', 'Foreign',\n",
       "        'TV Movie', 'Western'],\n",
       "       dtype='object'),\n",
       " 'production_companies': Index(['Universal Pictures', 'Warner Bros.', 'Paramount Pictures',\n",
       "        'Twentieth Century Fox Film Corporation', 'Columbia Pictures',\n",
       "        'New Line Cinema', 'Metro-Goldwyn-Mayer (MGM)', 'Walt Disney Pictures',\n",
       "        'Touchstone Pictures', 'Columbia Pictures Corporation',\n",
       "        ...\n",
       "        'W B I Films', 'Terra Mater Factual Studios', 'Wolfhound Pictures',\n",
       "        'HFD Productions', 'Dorset Productions', 'Frontier Studios',\n",
       "        'Waterbury Films', 'Dakota Films', 'Many Rivers Productions',\n",
       "        'teamWorx Produktion fÃ¼r Kino und Fernsehen GmbH'],\n",
       "       dtype='object', length=7879)}"
      ]
     },
     "execution_count": 18,
     "metadata": {},
     "output_type": "execute_result"
    }
   ],
   "source": [
    "unique"
   ]
  },
  {
   "cell_type": "markdown",
   "metadata": {},
   "source": [
    "#### Define\n",
    "\n",
    "- Fix the runtime zero values by replacing them with the mean value.\n",
    "\n",
    "#### Code"
   ]
  },
  {
   "cell_type": "code",
   "execution_count": 19,
   "metadata": {
    "scrolled": true
   },
   "outputs": [
    {
     "data": {
      "text/plain": [
       "0      31\n",
       "2       5\n",
       "3      11\n",
       "4      17\n",
       "5      17\n",
       "       ..\n",
       "561     1\n",
       "566     1\n",
       "705     1\n",
       "877     1\n",
       "900     1\n",
       "Name: runtime, Length: 247, dtype: int64"
      ]
     },
     "execution_count": 19,
     "metadata": {},
     "output_type": "execute_result"
    }
   ],
   "source": [
    "df_clean['runtime'].value_counts().sort_index()"
   ]
  },
  {
   "cell_type": "code",
   "execution_count": 20,
   "metadata": {},
   "outputs": [],
   "source": [
    "df_clean['runtime'].replace(0, df_clean['runtime'].mean(), inplace=True)"
   ]
  },
  {
   "cell_type": "markdown",
   "metadata": {},
   "source": [
    "#### Test"
   ]
  },
  {
   "cell_type": "code",
   "execution_count": 21,
   "metadata": {},
   "outputs": [
    {
     "data": {
      "text/html": [
       "<div>\n",
       "<style scoped>\n",
       "    .dataframe tbody tr th:only-of-type {\n",
       "        vertical-align: middle;\n",
       "    }\n",
       "\n",
       "    .dataframe tbody tr th {\n",
       "        vertical-align: top;\n",
       "    }\n",
       "\n",
       "    .dataframe thead th {\n",
       "        text-align: right;\n",
       "    }\n",
       "</style>\n",
       "<table border=\"1\" class=\"dataframe\">\n",
       "  <thead>\n",
       "    <tr style=\"text-align: right;\">\n",
       "      <th></th>\n",
       "      <th>imdb_id</th>\n",
       "      <th>popularity</th>\n",
       "      <th>budget</th>\n",
       "      <th>revenue</th>\n",
       "      <th>original_title</th>\n",
       "      <th>cast</th>\n",
       "      <th>director</th>\n",
       "      <th>keywords</th>\n",
       "      <th>runtime</th>\n",
       "      <th>genres</th>\n",
       "      <th>production_companies</th>\n",
       "      <th>release_date</th>\n",
       "      <th>vote_count</th>\n",
       "      <th>vote_average</th>\n",
       "      <th>release_year</th>\n",
       "      <th>budget_adj</th>\n",
       "      <th>revenue_adj</th>\n",
       "    </tr>\n",
       "    <tr>\n",
       "      <th>id</th>\n",
       "      <th></th>\n",
       "      <th></th>\n",
       "      <th></th>\n",
       "      <th></th>\n",
       "      <th></th>\n",
       "      <th></th>\n",
       "      <th></th>\n",
       "      <th></th>\n",
       "      <th></th>\n",
       "      <th></th>\n",
       "      <th></th>\n",
       "      <th></th>\n",
       "      <th></th>\n",
       "      <th></th>\n",
       "      <th></th>\n",
       "      <th></th>\n",
       "      <th></th>\n",
       "    </tr>\n",
       "  </thead>\n",
       "  <tbody>\n",
       "  </tbody>\n",
       "</table>\n",
       "</div>"
      ],
      "text/plain": [
       "Empty DataFrame\n",
       "Columns: [imdb_id, popularity, budget, revenue, original_title, cast, director, keywords, runtime, genres, production_companies, release_date, vote_count, vote_average, release_year, budget_adj, revenue_adj]\n",
       "Index: []"
      ]
     },
     "execution_count": 21,
     "metadata": {},
     "output_type": "execute_result"
    }
   ],
   "source": [
    "df_clean[df_clean['runtime'] == 0]"
   ]
  },
  {
   "cell_type": "markdown",
   "metadata": {},
   "source": [
    "#### Define\n",
    "\n",
    "- we can use the same technique for the budget and revenue columns\n",
    "\n",
    "#### Code"
   ]
  },
  {
   "cell_type": "code",
   "execution_count": 22,
   "metadata": {},
   "outputs": [],
   "source": [
    "for col in ['budget', 'revenue', 'budget_adj', 'revenue_adj']:\n",
    "    df_clean[col].replace(0, df_clean[col].mean(), inplace=True)"
   ]
  },
  {
   "cell_type": "markdown",
   "metadata": {},
   "source": [
    "#### Test"
   ]
  },
  {
   "cell_type": "code",
   "execution_count": 23,
   "metadata": {},
   "outputs": [
    {
     "name": "stdout",
     "output_type": "stream",
     "text": [
      "0\n",
      "0\n",
      "0\n",
      "0\n"
     ]
    }
   ],
   "source": [
    "for col in ['budget', 'revenue', 'budget_adj', 'revenue_adj']:\n",
    "    print(df_clean[df_clean[col] == 0][col].count())"
   ]
  },
  {
   "cell_type": "markdown",
   "metadata": {},
   "source": [
    "#### Define\n",
    "\n",
    "- Extract the release month from the release date by splitting into columns using the str.split function with '/' as the separator and get only the month as the date format is MM/DD/YY.\n",
    "\n",
    "#### Code"
   ]
  },
  {
   "cell_type": "code",
   "execution_count": 24,
   "metadata": {},
   "outputs": [],
   "source": [
    "#extract the release month from the release_date column\n",
    "df_clean['release_month'] = df_clean['release_date'].str.split(\n",
    "    '/', expand=True)[0]\n"
   ]
  },
  {
   "cell_type": "code",
   "execution_count": 25,
   "metadata": {},
   "outputs": [],
   "source": [
    "# convert the release month column to Integer type\n",
    "df_clean['release_month'] = df_clean['release_month'].astype(int)"
   ]
  },
  {
   "cell_type": "markdown",
   "metadata": {},
   "source": [
    "#### Test"
   ]
  },
  {
   "cell_type": "code",
   "execution_count": 26,
   "metadata": {},
   "outputs": [
    {
     "data": {
      "text/plain": [
       "9     1331\n",
       "10    1153\n",
       "12     985\n",
       "1      919\n",
       "8      918\n",
       "6      827\n",
       "3      823\n",
       "11     814\n",
       "5      809\n",
       "7      799\n",
       "4      797\n",
       "2      691\n",
       "Name: release_month, dtype: int64"
      ]
     },
     "execution_count": 26,
     "metadata": {},
     "output_type": "execute_result"
    }
   ],
   "source": [
    "df_clean['release_month'].value_counts()"
   ]
  },
  {
   "cell_type": "markdown",
   "metadata": {},
   "source": [
    "#### Define\n",
    "\n",
    "- In order to merge the IMDB Data into the TMDB one, we need to first clean the imdb dataframe and name the columns accordingly.\n",
    "\n",
    "\n",
    "#### Code"
   ]
  },
  {
   "cell_type": "code",
   "execution_count": 27,
   "metadata": {},
   "outputs": [],
   "source": [
    "df_imdb.columns = ['imdb_id', 'imdb_rating', 'imdb_votes']"
   ]
  },
  {
   "cell_type": "markdown",
   "metadata": {},
   "source": [
    "#### Test"
   ]
  },
  {
   "cell_type": "code",
   "execution_count": 28,
   "metadata": {},
   "outputs": [
    {
     "data": {
      "text/plain": [
       "Index(['imdb_id', 'imdb_rating', 'imdb_votes'], dtype='object')"
      ]
     },
     "execution_count": 28,
     "metadata": {},
     "output_type": "execute_result"
    }
   ],
   "source": [
    "df_imdb.columns"
   ]
  },
  {
   "cell_type": "markdown",
   "metadata": {},
   "source": [
    "#### Define\n",
    "\n",
    "we now need to merge the two dataframes using the merge method.\n",
    "\n",
    "#### Code"
   ]
  },
  {
   "cell_type": "code",
   "execution_count": 29,
   "metadata": {},
   "outputs": [],
   "source": [
    "df_clean = df_clean.merge(df_imdb, on='imdb_id')"
   ]
  },
  {
   "cell_type": "markdown",
   "metadata": {},
   "source": [
    "#### Test"
   ]
  },
  {
   "cell_type": "code",
   "execution_count": 30,
   "metadata": {},
   "outputs": [
    {
     "name": "stdout",
     "output_type": "stream",
     "text": [
      "<class 'pandas.core.frame.DataFrame'>\n",
      "Int64Index: 10852 entries, 0 to 10851\n",
      "Data columns (total 20 columns):\n",
      " #   Column                Non-Null Count  Dtype  \n",
      "---  ------                --------------  -----  \n",
      " 0   imdb_id               10852 non-null  object \n",
      " 1   popularity            10852 non-null  float64\n",
      " 2   budget                10852 non-null  float64\n",
      " 3   revenue               10852 non-null  float64\n",
      " 4   original_title        10852 non-null  object \n",
      " 5   cast                  10776 non-null  object \n",
      " 6   director              10812 non-null  object \n",
      " 7   keywords              9366 non-null   object \n",
      " 8   runtime               10852 non-null  float64\n",
      " 9   genres                10831 non-null  object \n",
      " 10  production_companies  9827 non-null   object \n",
      " 11  release_date          10852 non-null  object \n",
      " 12  vote_count            10852 non-null  int64  \n",
      " 13  vote_average          10852 non-null  float64\n",
      " 14  release_year          10852 non-null  int64  \n",
      " 15  budget_adj            10852 non-null  float64\n",
      " 16  revenue_adj           10852 non-null  float64\n",
      " 17  release_month         10852 non-null  int64  \n",
      " 18  imdb_rating           10852 non-null  float64\n",
      " 19  imdb_votes            10852 non-null  int64  \n",
      "dtypes: float64(8), int64(4), object(8)\n",
      "memory usage: 1.7+ MB\n"
     ]
    }
   ],
   "source": [
    "df_clean.info()"
   ]
  },
  {
   "cell_type": "markdown",
   "metadata": {},
   "source": [
    "### Storing Data"
   ]
  },
  {
   "cell_type": "markdown",
   "metadata": {},
   "source": [
    "Now that we have successfully cleaned our data, we need to save to and external file to use it later in our analysis."
   ]
  },
  {
   "cell_type": "code",
   "execution_count": 31,
   "metadata": {},
   "outputs": [],
   "source": [
    "df_clean.to_csv('tmdb-clean.csv', index=False)"
   ]
  },
  {
   "cell_type": "markdown",
   "metadata": {},
   "source": [
    "# 2. Exploratory Data Analysis"
   ]
  },
  {
   "cell_type": "markdown",
   "metadata": {},
   "source": [
    "## 2.2 Analysis and Visualization"
   ]
  },
  {
   "cell_type": "markdown",
   "metadata": {},
   "source": [
    "We Begin by importing the cleaned data from the file `tmdb-clean.csv`."
   ]
  },
  {
   "cell_type": "code",
   "execution_count": 32,
   "metadata": {},
   "outputs": [],
   "source": [
    "df = pd.read_csv('tmdb-clean.csv', index_col='imdb_id')"
   ]
  },
  {
   "cell_type": "code",
   "execution_count": 33,
   "metadata": {},
   "outputs": [
    {
     "data": {
      "text/html": [
       "<div>\n",
       "<style scoped>\n",
       "    .dataframe tbody tr th:only-of-type {\n",
       "        vertical-align: middle;\n",
       "    }\n",
       "\n",
       "    .dataframe tbody tr th {\n",
       "        vertical-align: top;\n",
       "    }\n",
       "\n",
       "    .dataframe thead th {\n",
       "        text-align: right;\n",
       "    }\n",
       "</style>\n",
       "<table border=\"1\" class=\"dataframe\">\n",
       "  <thead>\n",
       "    <tr style=\"text-align: right;\">\n",
       "      <th></th>\n",
       "      <th>popularity</th>\n",
       "      <th>budget</th>\n",
       "      <th>revenue</th>\n",
       "      <th>original_title</th>\n",
       "      <th>cast</th>\n",
       "      <th>director</th>\n",
       "      <th>keywords</th>\n",
       "      <th>runtime</th>\n",
       "      <th>genres</th>\n",
       "      <th>production_companies</th>\n",
       "      <th>release_date</th>\n",
       "      <th>vote_count</th>\n",
       "      <th>vote_average</th>\n",
       "      <th>release_year</th>\n",
       "      <th>budget_adj</th>\n",
       "      <th>revenue_adj</th>\n",
       "      <th>release_month</th>\n",
       "      <th>imdb_rating</th>\n",
       "      <th>imdb_votes</th>\n",
       "    </tr>\n",
       "    <tr>\n",
       "      <th>imdb_id</th>\n",
       "      <th></th>\n",
       "      <th></th>\n",
       "      <th></th>\n",
       "      <th></th>\n",
       "      <th></th>\n",
       "      <th></th>\n",
       "      <th></th>\n",
       "      <th></th>\n",
       "      <th></th>\n",
       "      <th></th>\n",
       "      <th></th>\n",
       "      <th></th>\n",
       "      <th></th>\n",
       "      <th></th>\n",
       "      <th></th>\n",
       "      <th></th>\n",
       "      <th></th>\n",
       "      <th></th>\n",
       "      <th></th>\n",
       "    </tr>\n",
       "  </thead>\n",
       "  <tbody>\n",
       "    <tr>\n",
       "      <th>tt0369610</th>\n",
       "      <td>32.985763</td>\n",
       "      <td>150000000.0</td>\n",
       "      <td>1.513529e+09</td>\n",
       "      <td>Jurassic World</td>\n",
       "      <td>['Chris Pratt', 'Bryce Dallas Howard', 'Irrfan...</td>\n",
       "      <td>Colin Trevorrow</td>\n",
       "      <td>['monster', 'dna', 'tyrannosaurus rex', 'veloc...</td>\n",
       "      <td>124.0</td>\n",
       "      <td>['Action', 'Adventure', 'Science Fiction', 'Th...</td>\n",
       "      <td>['Universal Studios', 'Amblin Entertainment', ...</td>\n",
       "      <td>6/9/15</td>\n",
       "      <td>5562</td>\n",
       "      <td>6.5</td>\n",
       "      <td>2015</td>\n",
       "      <td>1.379999e+08</td>\n",
       "      <td>1.392446e+09</td>\n",
       "      <td>6</td>\n",
       "      <td>7.0</td>\n",
       "      <td>580217</td>\n",
       "    </tr>\n",
       "    <tr>\n",
       "      <th>tt1392190</th>\n",
       "      <td>28.419936</td>\n",
       "      <td>150000000.0</td>\n",
       "      <td>3.784364e+08</td>\n",
       "      <td>Mad Max: Fury Road</td>\n",
       "      <td>['Tom Hardy', 'Charlize Theron', 'Hugh Keays-B...</td>\n",
       "      <td>George Miller</td>\n",
       "      <td>['future', 'chase', 'post-apocalyptic', 'dysto...</td>\n",
       "      <td>120.0</td>\n",
       "      <td>['Action', 'Adventure', 'Science Fiction', 'Th...</td>\n",
       "      <td>['Village Roadshow Pictures', 'Kennedy Miller ...</td>\n",
       "      <td>5/13/15</td>\n",
       "      <td>6185</td>\n",
       "      <td>7.1</td>\n",
       "      <td>2015</td>\n",
       "      <td>1.379999e+08</td>\n",
       "      <td>3.481613e+08</td>\n",
       "      <td>5</td>\n",
       "      <td>8.1</td>\n",
       "      <td>884401</td>\n",
       "    </tr>\n",
       "    <tr>\n",
       "      <th>tt2908446</th>\n",
       "      <td>13.112507</td>\n",
       "      <td>110000000.0</td>\n",
       "      <td>2.952382e+08</td>\n",
       "      <td>Insurgent</td>\n",
       "      <td>['Shailene Woodley', 'Theo James', 'Kate Winsl...</td>\n",
       "      <td>Robert Schwentke</td>\n",
       "      <td>['based on novel', 'revolution', 'dystopia', '...</td>\n",
       "      <td>119.0</td>\n",
       "      <td>['Adventure', 'Science Fiction', 'Thriller']</td>\n",
       "      <td>['Summit Entertainment', 'Mandeville Films', '...</td>\n",
       "      <td>3/18/15</td>\n",
       "      <td>2480</td>\n",
       "      <td>6.3</td>\n",
       "      <td>2015</td>\n",
       "      <td>1.012000e+08</td>\n",
       "      <td>2.716190e+08</td>\n",
       "      <td>3</td>\n",
       "      <td>6.2</td>\n",
       "      <td>218262</td>\n",
       "    </tr>\n",
       "  </tbody>\n",
       "</table>\n",
       "</div>"
      ],
      "text/plain": [
       "           popularity       budget       revenue      original_title  \\\n",
       "imdb_id                                                                \n",
       "tt0369610   32.985763  150000000.0  1.513529e+09      Jurassic World   \n",
       "tt1392190   28.419936  150000000.0  3.784364e+08  Mad Max: Fury Road   \n",
       "tt2908446   13.112507  110000000.0  2.952382e+08           Insurgent   \n",
       "\n",
       "                                                        cast  \\\n",
       "imdb_id                                                        \n",
       "tt0369610  ['Chris Pratt', 'Bryce Dallas Howard', 'Irrfan...   \n",
       "tt1392190  ['Tom Hardy', 'Charlize Theron', 'Hugh Keays-B...   \n",
       "tt2908446  ['Shailene Woodley', 'Theo James', 'Kate Winsl...   \n",
       "\n",
       "                   director  \\\n",
       "imdb_id                       \n",
       "tt0369610   Colin Trevorrow   \n",
       "tt1392190     George Miller   \n",
       "tt2908446  Robert Schwentke   \n",
       "\n",
       "                                                    keywords  runtime  \\\n",
       "imdb_id                                                                 \n",
       "tt0369610  ['monster', 'dna', 'tyrannosaurus rex', 'veloc...    124.0   \n",
       "tt1392190  ['future', 'chase', 'post-apocalyptic', 'dysto...    120.0   \n",
       "tt2908446  ['based on novel', 'revolution', 'dystopia', '...    119.0   \n",
       "\n",
       "                                                      genres  \\\n",
       "imdb_id                                                        \n",
       "tt0369610  ['Action', 'Adventure', 'Science Fiction', 'Th...   \n",
       "tt1392190  ['Action', 'Adventure', 'Science Fiction', 'Th...   \n",
       "tt2908446       ['Adventure', 'Science Fiction', 'Thriller']   \n",
       "\n",
       "                                        production_companies release_date  \\\n",
       "imdb_id                                                                     \n",
       "tt0369610  ['Universal Studios', 'Amblin Entertainment', ...       6/9/15   \n",
       "tt1392190  ['Village Roadshow Pictures', 'Kennedy Miller ...      5/13/15   \n",
       "tt2908446  ['Summit Entertainment', 'Mandeville Films', '...      3/18/15   \n",
       "\n",
       "           vote_count  vote_average  release_year    budget_adj   revenue_adj  \\\n",
       "imdb_id                                                                         \n",
       "tt0369610        5562           6.5          2015  1.379999e+08  1.392446e+09   \n",
       "tt1392190        6185           7.1          2015  1.379999e+08  3.481613e+08   \n",
       "tt2908446        2480           6.3          2015  1.012000e+08  2.716190e+08   \n",
       "\n",
       "           release_month  imdb_rating  imdb_votes  \n",
       "imdb_id                                            \n",
       "tt0369610              6          7.0      580217  \n",
       "tt1392190              5          8.1      884401  \n",
       "tt2908446              3          6.2      218262  "
      ]
     },
     "execution_count": 33,
     "metadata": {},
     "output_type": "execute_result"
    }
   ],
   "source": [
    "df.head(3)"
   ]
  },
  {
   "cell_type": "code",
   "execution_count": 34,
   "metadata": {},
   "outputs": [
    {
     "name": "stdout",
     "output_type": "stream",
     "text": [
      "<class 'pandas.core.frame.DataFrame'>\n",
      "Index: 10852 entries, tt0369610 to tt0060666\n",
      "Data columns (total 19 columns):\n",
      " #   Column                Non-Null Count  Dtype  \n",
      "---  ------                --------------  -----  \n",
      " 0   popularity            10852 non-null  float64\n",
      " 1   budget                10852 non-null  float64\n",
      " 2   revenue               10852 non-null  float64\n",
      " 3   original_title        10852 non-null  object \n",
      " 4   cast                  10776 non-null  object \n",
      " 5   director              10812 non-null  object \n",
      " 6   keywords              9366 non-null   object \n",
      " 7   runtime               10852 non-null  float64\n",
      " 8   genres                10831 non-null  object \n",
      " 9   production_companies  9827 non-null   object \n",
      " 10  release_date          10852 non-null  object \n",
      " 11  vote_count            10852 non-null  int64  \n",
      " 12  vote_average          10852 non-null  float64\n",
      " 13  release_year          10852 non-null  int64  \n",
      " 14  budget_adj            10852 non-null  float64\n",
      " 15  revenue_adj           10852 non-null  float64\n",
      " 16  release_month         10852 non-null  int64  \n",
      " 17  imdb_rating           10852 non-null  float64\n",
      " 18  imdb_votes            10852 non-null  int64  \n",
      "dtypes: float64(8), int64(4), object(7)\n",
      "memory usage: 1.7+ MB\n"
     ]
    }
   ],
   "source": [
    "df.info()"
   ]
  },
  {
   "cell_type": "markdown",
   "metadata": {},
   "source": [
    "We can begin by plotting the top rated movies of all time by sorting the values by the `vote_average` column in descending order."
   ]
  },
  {
   "cell_type": "code",
   "execution_count": 35,
   "metadata": {},
   "outputs": [
    {
     "data": {
      "image/png": "[encoded data removed]",
      "text/plain": [
       "<Figure size 1152x576 with 1 Axes>"
      ]
     },
     "metadata": {
      "needs_background": "light"
     },
     "output_type": "display_data"
    }
   ],
   "source": [
    "data = df.sort_values('vote_average',ascending=False).head(10)\n",
    "y = data['original_title']\n",
    "x =data['vote_average']\n",
    "\n",
    "fig, ax = plt.subplots(figsize=(16,8))\n",
    "ax.barh(y,x, align='center')\n",
    "ax.invert_yaxis()  # labels read top-to-bottom\n",
    "ax.set_xlabel('Average Vote')\n",
    "ax.set_title('Top rated Movies of all time')\n",
    "\n",
    "plt.show()"
   ]
  },
  {
   "cell_type": "markdown",
   "metadata": {},
   "source": [
    "Given that we have both TMDB and IMDB ratings data. We can plot them together to see how they relate to each other."
   ]
  },
  {
   "cell_type": "code",
   "execution_count": 36,
   "metadata": {},
   "outputs": [
    {
     "data": {
      "image/png": "[encoded data removed]",
      "text/plain": [
       "<Figure size 864x576 with 1 Axes>"
      ]
     },
     "metadata": {
      "needs_background": "light"
     },
     "output_type": "display_data"
    }
   ],
   "source": [
    "plt.figure(figsize=(12,8))\n",
    "\n",
    "df['vote_average'].hist(bins=20, alpha = 0.5)\n",
    "df['imdb_rating'].hist(bins=20, alpha=0.5)\n",
    "plt.title('TMDB vs. IMDB rating')\n",
    "plt.xlabel('rating')\n",
    "plt.ylabel('rating count')\n",
    "\n",
    "plt.show()"
   ]
  },
  {
   "cell_type": "code",
   "execution_count": 37,
   "metadata": {
    "scrolled": true
   },
   "outputs": [
    {
     "data": {
      "image/png": "[encoded data removed]",
      "text/plain": [
       "<Figure size 1152x288 with 1 Axes>"
      ]
     },
     "metadata": {
      "needs_background": "light"
     },
     "output_type": "display_data"
    }
   ],
   "source": [
    "plt.figure(figsize=(16,4))\n",
    "plt.title('TMDB vs. IMDB rating shape')\n",
    "plt.xlabel('rating')\n",
    "\n",
    "sns.boxplot(data = df[['vote_average','imdb_rating']],orient=\"h\");"
   ]
  },
  {
   "cell_type": "markdown",
   "metadata": {},
   "source": [
    "From the two previous diagrams, we can see that the IMDB rating are more left-skewed than the TMDB ones with a higher average rating and a slightly larger spread. "
   ]
  },
  {
   "cell_type": "markdown",
   "metadata": {},
   "source": [
    "Now let's check if the rating actually depend on other factors such as the budget and the revenue.\n",
    "We can divide theses values into chunks (bins) so we can easily represent them in a bar chart."
   ]
  },
  {
   "cell_type": "code",
   "execution_count": 38,
   "metadata": {},
   "outputs": [
    {
     "data": {
      "text/plain": [
       "Text(0, 0.5, 'Average Rating')"
      ]
     },
     "execution_count": 38,
     "metadata": {},
     "output_type": "execute_result"
    },
    {
     "data": {
      "image/png": "[encoded data removed]",
      "text/plain": [
       "<Figure size 432x288 with 1 Axes>"
      ]
     },
     "metadata": {
      "needs_background": "light"
     },
     "output_type": "display_data"
    }
   ],
   "source": [
    "df.groupby(pd.cut(df['budget_adj'], 10))['vote_average'].mean().plot(kind='bar');\n",
    "plt.title('Budget vs. rating')\n",
    "plt.xlabel('Budget')\n",
    "plt.ylabel('Average Rating')"
   ]
  },
  {
   "cell_type": "code",
   "execution_count": 39,
   "metadata": {
    "scrolled": true
   },
   "outputs": [
    {
     "data": {
      "text/plain": [
       "Text(0, 0.5, 'Average Rating')"
      ]
     },
     "execution_count": 39,
     "metadata": {},
     "output_type": "execute_result"
    },
    {
     "data": {
      "image/png": "[encoded data removed]",
      "text/plain": [
       "<Figure size 432x288 with 1 Axes>"
      ]
     },
     "metadata": {
      "needs_background": "light"
     },
     "output_type": "display_data"
    }
   ],
   "source": [
    "df.groupby(pd.cut(df['revenue_adj'], 10))['vote_average'].mean().plot(kind='bar');\n",
    "plt.title('Revenue vs. rating')\n",
    "plt.xlabel('Revenue')\n",
    "plt.ylabel('Average Rating')"
   ]
  },
  {
   "cell_type": "markdown",
   "metadata": {},
   "source": [
    "Interestingly enough, the budget and the revenue of a a movie doesn't seem to have a direct connection with its rating"
   ]
  },
  {
   "cell_type": "markdown",
   "metadata": {},
   "source": [
    "Now let's check how the movie industry have changed over time by plotting various variables against the `release_year` column."
   ]
  },
  {
   "cell_type": "code",
   "execution_count": 40,
   "metadata": {
    "scrolled": true
   },
   "outputs": [
    {
     "data": {
      "text/plain": [
       "Text(0, 0.5, 'Average Popularity')"
      ]
     },
     "execution_count": 40,
     "metadata": {},
     "output_type": "execute_result"
    },
    {
     "data": {
      "image/png": "[encoded data removed]",
      "text/plain": [
       "<Figure size 1152x720 with 1 Axes>"
      ]
     },
     "metadata": {
      "needs_background": "light"
     },
     "output_type": "display_data"
    }
   ],
   "source": [
    "df.groupby(['release_year'])['popularity'].mean().plot(figsize=(16, 10));\n",
    "plt.title('Popularity over time')\n",
    "plt.xlabel('Release Year')\n",
    "plt.ylabel('Average Popularity')"
   ]
  },
  {
   "cell_type": "code",
   "execution_count": 41,
   "metadata": {
    "scrolled": true
   },
   "outputs": [
    {
     "data": {
      "text/plain": [
       "Text(0, 0.5, 'Average Rating')"
      ]
     },
     "execution_count": 41,
     "metadata": {},
     "output_type": "execute_result"
    },
    {
     "data": {
      "image/png": "[encoded data removed]",
      "text/plain": [
       "<Figure size 1152x720 with 1 Axes>"
      ]
     },
     "metadata": {
      "needs_background": "light"
     },
     "output_type": "display_data"
    }
   ],
   "source": [
    "df.groupby(['release_year'])['vote_average'].mean().plot(figsize=(16, 10));\n",
    "plt.title('Rating over time')\n",
    "plt.xlabel('Release Year')\n",
    "plt.ylabel('Average Rating')"
   ]
  },
  {
   "cell_type": "markdown",
   "metadata": {},
   "source": [
    "It's clear that even though the popularity have increased over time, the average rating has significantly decreased over time. We can clearly see that the seventies were the golden age no doubt."
   ]
  },
  {
   "cell_type": "code",
   "execution_count": 42,
   "metadata": {
    "scrolled": true
   },
   "outputs": [
    {
     "data": {
      "text/plain": [
       "Text(0.5, 0, 'Release Year')"
      ]
     },
     "execution_count": 42,
     "metadata": {},
     "output_type": "execute_result"
    },
    {
     "data": {
      "image/png": "[encoded data removed]",
      "text/plain": [
       "<Figure size 1152x720 with 1 Axes>"
      ]
     },
     "metadata": {
      "needs_background": "light"
     },
     "output_type": "display_data"
    }
   ],
   "source": [
    "df.groupby(['release_year'])[['budget_adj', 'revenue_adj']].mean().plot(figsize=(16, 10));\n",
    "plt.title('Investement over time')\n",
    "plt.xlabel('Release Year')\n"
   ]
  },
  {
   "cell_type": "markdown",
   "metadata": {},
   "source": [
    "During the seventies apparently the movie industry was highly profitable even though the average budget was very low. There seems to be an increase in the investments during the nineties. However, the revenue seemed to decline ever since and later, the investment stared decreasing as well since the 2000s."
   ]
  },
  {
   "cell_type": "code",
   "execution_count": 43,
   "metadata": {},
   "outputs": [
    {
     "data": {
      "text/plain": [
       "Text(0, 0.5, 'releases')"
      ]
     },
     "execution_count": 43,
     "metadata": {},
     "output_type": "execute_result"
    },
    {
     "data": {
      "image/png": "[encoded data removed]",
      "text/plain": [
       "<Figure size 1152x432 with 1 Axes>"
      ]
     },
     "metadata": {
      "needs_background": "light"
     },
     "output_type": "display_data"
    }
   ],
   "source": [
    "# calculate release month\n",
    "df['release_month'] = df['release_date'].str.split(\n",
    "    '/', expand=True)[0].astype(int)\n",
    "df['release_month'].value_counts().sort_index().plot(kind='bar', figsize=(16, 6));\n",
    "plt.title('Releases per Month')\n",
    "plt.xlabel('Month')\n",
    "plt.ylabel('releases')"
   ]
  },
  {
   "cell_type": "markdown",
   "metadata": {},
   "source": [
    "Obviously there are more titles release in September and October compared to the rest of the year. That shows the seasonality of the movie industry in general. "
   ]
  },
  {
   "cell_type": "code",
   "execution_count": 44,
   "metadata": {
    "scrolled": true
   },
   "outputs": [
    {
     "data": {
      "text/plain": [
       "'Drama'               2452\n",
       " 'Thriller'           2417\n",
       "'Comedy'              2317\n",
       " 'Drama'              2306\n",
       "'Action'              1587\n",
       " 'Romance'            1526\n",
       " 'Comedy'             1473\n",
       " 'Family'             1085\n",
       " 'Science Fiction'    1010\n",
       " 'Crime'               974\n",
       "dtype: int64"
      ]
     },
     "execution_count": 44,
     "metadata": {},
     "output_type": "execute_result"
    }
   ],
   "source": [
    "# most common genres\n",
    "to_1D(df['genres'].dropna().str.strip('[]').str.split(',')).value_counts()[:10]"
   ]
  },
  {
   "cell_type": "code",
   "execution_count": 45,
   "metadata": {
    "scrolled": true
   },
   "outputs": [
    {
     "data": {
      "image/png": "[encoded data removed]",
      "text/plain": [
       "<Figure size 1440x864 with 1 Axes>"
      ]
     },
     "metadata": {
      "needs_background": "light"
     },
     "output_type": "display_data"
    }
   ],
   "source": [
    "# a dictionary to hold the mean vote_average for each genre\n",
    "genres = {}\n",
    "\n",
    "for genre in unique['genres']:\n",
    "    genres[genre] = df.dropna()[df.dropna()['genres'].str.contains(genre)]['vote_average'].mean()\n",
    "\n",
    "data = pd.Series(genres).sort_values(ascending = False)\n",
    "y = data.index\n",
    "x = data.values\n",
    "\n",
    "fig, ax = plt.subplots(figsize=(20,12))\n",
    "ax.barh(y,x, align='center')\n",
    "ax.invert_yaxis()  # labels read top-to-bottom\n",
    "ax.set_xlabel('Average Vote per genre')\n",
    "ax.set_title('Top rated genres of all time')\n",
    "\n",
    "plt.show()\n"
   ]
  },
  {
   "cell_type": "markdown",
   "metadata": {},
   "source": [
    "The most produced genres are actually not the top rated ones."
   ]
  },
  {
   "cell_type": "code",
   "execution_count": 46,
   "metadata": {},
   "outputs": [
    {
     "data": {
      "text/plain": [
       "'Nicolas Cage'          48\n",
       " Jr.'                   45\n",
       "'Bruce Willis'          39\n",
       "'Robert De Niro'        39\n",
       "'Clint Eastwood'        38\n",
       " 'Samuel L. Jackson'    38\n",
       "'Tom Hanks'             37\n",
       "'Johnny Depp'           37\n",
       " 'Steve Buscemi'        36\n",
       " 'John Goodman'         36\n",
       "dtype: int64"
      ]
     },
     "execution_count": 46,
     "metadata": {},
     "output_type": "execute_result"
    }
   ],
   "source": [
    "# Most common actors\n",
    "to_1D(df.dropna()['cast'].str.strip('[]').str.split(',')).value_counts()[:10]"
   ]
  },
  {
   "cell_type": "code",
   "execution_count": 47,
   "metadata": {},
   "outputs": [
    {
     "data": {
      "text/plain": [
       "'Universal Pictures'                        429\n",
       "'Paramount Pictures'                        415\n",
       " 'Warner Bros.'                             330\n",
       "'Columbia Pictures'                         267\n",
       "'Twentieth Century Fox Film Corporation'    236\n",
       "'New Line Cinema'                           197\n",
       "'Walt Disney Pictures'                      191\n",
       "'Warner Bros.'                              165\n",
       "'Miramax Films'                             129\n",
       "'TriStar Pictures'                          120\n",
       "dtype: int64"
      ]
     },
     "execution_count": 47,
     "metadata": {},
     "output_type": "execute_result"
    }
   ],
   "source": [
    "# The most common Production Companies\n",
    "to_1D(df.dropna()['production_companies'].str.strip('[]').str.split(',')).value_counts()[:10]"
   ]
  },
  {
   "cell_type": "code",
   "execution_count": 48,
   "metadata": {},
   "outputs": [
    {
     "data": {
      "text/plain": [
       " 'woman director'          236\n",
       " 'independent film'        232\n",
       " 'murder'                  177\n",
       " 'based on novel'          150\n",
       " 'sex'                     148\n",
       " 'nudity'                  141\n",
       " 'sport'                   139\n",
       "'new york'                 133\n",
       " 'duringcreditsstinger'    123\n",
       "'based on novel'           121\n",
       "dtype: int64"
      ]
     },
     "execution_count": 48,
     "metadata": {},
     "output_type": "execute_result"
    }
   ],
   "source": [
    "# the most used keywords\n",
    "to_1D(df.dropna()['keywords'].str.strip('[]').str.split(',')).value_counts()[:10]"
   ]
  },
  {
   "cell_type": "markdown",
   "metadata": {},
   "source": [
    "## 2.3 Conclusion"
   ]
  },
  {
   "cell_type": "markdown",
   "metadata": {},
   "source": [
    "We can now try to answer the questions we posed earlier:\n",
    "\n",
    "- How did the movie industry budget and revenue changed over the years?\n",
    "    - During the seventies apparently the movie industry was highly profitable even though the average budget was very low. There seems to be an increase in the investments during the nineties. However, the revenue seemed to decline ever since and later, the investment stared decreasing as well since the 2000s.\n",
    "- How is the voting (rating) is distributed?\n",
    "    - The average vote seems to be normally distributed with an average vote of 6.\n",
    "\n",
    "- How does the TMDB average vote compares to the IMDB ratings?\n",
    "    - the IMDB rating are more left-skewed than the TMDB ones with a higher average rating and a slightly larger spread. \n",
    "\n",
    "- What factors affect the rating of a given movie (budget, revenue, release month, release year,...)?\n",
    "    - The budget and revenue don't seem to have an influence on the ratings. However, The release year affect the rating dramatically. People seem to give higher ratings for movies released in the early seventies.\n",
    "\n",
    "\n"
   ]
  },
  {
   "cell_type": "markdown",
   "metadata": {},
   "source": [
    "### Limitations and Challenges\n",
    "\n",
    "- It is very hard to deduce the ratings or other information for every genre, cast member or production company.\n",
    "- Missing (NaN) values were interpreted as the mean value, which is a very vague estimation.\n",
    "- Missing values in different columns made the necessity to use the dropna function repeatedly during the analysis."
   ]
  },
  {
   "cell_type": "markdown",
   "metadata": {},
   "source": [
    "# References"
   ]
  },
  {
   "cell_type": "markdown",
   "metadata": {},
   "source": [
    "- [Scrape IMDB movie rating and details using python](https://dev.to/magesh236/scrape-imdb-movie-rating-and-details-3a7c)\n",
    "- [pandas.Series.str.split](https://pandas.pydata.org/pandas-docs/stable/reference/api/pandas.Series.str.split.html#pandas.Series.str.split)\n",
    "- [Dealing with List Values in Pandas Dataframes](https://towardsdatascience.com/dealing-with-list-values-in-pandas-dataframes-a177e534f173)\n",
    "- [Are you confused using Series.str.contains() and DataFrame.isin() then look into this article](https://medium.com/analytics-vidhya/filter-pandas-dataframe-rows-by-a-list-of-strings-e95c225822fa)"
   ]
  }
 ],
 "metadata": {
  "hide_input": false,
  "kernelspec": {
   "display_name": "Python 3.8.5 64-bit ('base': conda)",
   "language": "python",
   "name": "python38564bitbaseconda3ceb8b8f7620467b96fa267ad224408f"
  },
  "language_info": {
   "codemirror_mode": {
    "name": "ipython",
    "version": 3
   },
   "file_extension": ".py",
   "mimetype": "text/x-python",
   "name": "python",
   "nbconvert_exporter": "python",
   "pygments_lexer": "ipython3",
   "version": "3.8.5"
  },
  "toc": {
   "base_numbering": 1,
   "nav_menu": {},
   "number_sections": false,
   "sideBar": true,
   "skip_h1_title": false,
   "title_cell": "Table of Contents",
   "title_sidebar": "Contents",
   "toc_cell": true,
   "toc_position": {
    "height": "calc(100% - 180px)",
    "left": "10px",
    "top": "150px",
    "width": "224px"
   },
   "toc_section_display": true,
   "toc_window_display": true
  }
 },
 "nbformat": 4,
 "nbformat_minor": 4
}
